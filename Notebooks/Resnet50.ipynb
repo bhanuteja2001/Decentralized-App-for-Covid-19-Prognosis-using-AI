{
 "cells": [
  {
   "cell_type": "code",
   "execution_count": 1,
   "id": "334a497f",
   "metadata": {},
   "outputs": [],
   "source": [
    "import pandas as pd # Data analysis and manipultion tool\n",
    "import numpy as np # Fundamental package for linear algebra and multidimensional arrays\n",
    "import tensorflow as tf # Deep Learning Tool\n",
    "import os # OS module in Python provides a way of using operating system dependent functionality\n",
    "import cv2 # Library for image processing\n",
    "from sklearn.model_selection import train_test_split # For splitting the data into train and validation set\n",
    "from sklearn.metrics import f1_score\n",
    "import matplotlib.pyplot as plt\n",
    "import seaborn as sns"
   ]
  },
  {
   "cell_type": "code",
   "execution_count": 2,
   "id": "d2b572c8",
   "metadata": {},
   "outputs": [],
   "source": [
    "from imutils import build_montages\n",
    "from imutils import paths\n",
    "import random\n",
    "import cv2"
   ]
  },
  {
   "cell_type": "code",
   "execution_count": 3,
   "id": "5bdcc64a",
   "metadata": {},
   "outputs": [],
   "source": [
    "Data = pd.read_csv(r\"G:\\PYTHON\\FinalYr_Phase-2\\Meta_data.csv\")"
   ]
  },
  {
   "cell_type": "code",
   "execution_count": 4,
   "id": "905ba70c",
   "metadata": {},
   "outputs": [
    {
     "data": {
      "text/html": [
       "<div>\n",
       "<style scoped>\n",
       "    .dataframe tbody tr th:only-of-type {\n",
       "        vertical-align: middle;\n",
       "    }\n",
       "\n",
       "    .dataframe tbody tr th {\n",
       "        vertical-align: top;\n",
       "    }\n",
       "\n",
       "    .dataframe thead th {\n",
       "        text-align: right;\n",
       "    }\n",
       "</style>\n",
       "<table border=\"1\" class=\"dataframe\">\n",
       "  <thead>\n",
       "    <tr style=\"text-align: right;\">\n",
       "      <th></th>\n",
       "      <th>Unnamed: 0</th>\n",
       "      <th>path</th>\n",
       "      <th>value</th>\n",
       "    </tr>\n",
       "  </thead>\n",
       "  <tbody>\n",
       "    <tr>\n",
       "      <th>0</th>\n",
       "      <td>0</td>\n",
       "      <td>G:\\PYTHON\\FinalYr_Phase-2\\COVID\\COVID-1.png</td>\n",
       "      <td>0</td>\n",
       "    </tr>\n",
       "    <tr>\n",
       "      <th>1</th>\n",
       "      <td>1</td>\n",
       "      <td>G:\\PYTHON\\FinalYr_Phase-2\\COVID\\COVID-10.png</td>\n",
       "      <td>0</td>\n",
       "    </tr>\n",
       "    <tr>\n",
       "      <th>2</th>\n",
       "      <td>2</td>\n",
       "      <td>G:\\PYTHON\\FinalYr_Phase-2\\COVID\\COVID-100.png</td>\n",
       "      <td>0</td>\n",
       "    </tr>\n",
       "    <tr>\n",
       "      <th>3</th>\n",
       "      <td>3</td>\n",
       "      <td>G:\\PYTHON\\FinalYr_Phase-2\\COVID\\COVID-1000.png</td>\n",
       "      <td>0</td>\n",
       "    </tr>\n",
       "    <tr>\n",
       "      <th>4</th>\n",
       "      <td>4</td>\n",
       "      <td>G:\\PYTHON\\FinalYr_Phase-2\\COVID\\COVID-1001.png</td>\n",
       "      <td>0</td>\n",
       "    </tr>\n",
       "  </tbody>\n",
       "</table>\n",
       "</div>"
      ],
      "text/plain": [
       "   Unnamed: 0                                            path  value\n",
       "0           0     G:\\PYTHON\\FinalYr_Phase-2\\COVID\\COVID-1.png      0\n",
       "1           1    G:\\PYTHON\\FinalYr_Phase-2\\COVID\\COVID-10.png      0\n",
       "2           2   G:\\PYTHON\\FinalYr_Phase-2\\COVID\\COVID-100.png      0\n",
       "3           3  G:\\PYTHON\\FinalYr_Phase-2\\COVID\\COVID-1000.png      0\n",
       "4           4  G:\\PYTHON\\FinalYr_Phase-2\\COVID\\COVID-1001.png      0"
      ]
     },
     "execution_count": 4,
     "metadata": {},
     "output_type": "execute_result"
    }
   ],
   "source": [
    "Data.head()"
   ]
  },
  {
   "cell_type": "code",
   "execution_count": 5,
   "id": "839fe2f8",
   "metadata": {},
   "outputs": [],
   "source": [
    "Data.drop(Data.columns[0], axis=1, inplace=True)"
   ]
  },
  {
   "cell_type": "code",
   "execution_count": 6,
   "id": "98456776",
   "metadata": {},
   "outputs": [
    {
     "data": {
      "text/html": [
       "<div>\n",
       "<style scoped>\n",
       "    .dataframe tbody tr th:only-of-type {\n",
       "        vertical-align: middle;\n",
       "    }\n",
       "\n",
       "    .dataframe tbody tr th {\n",
       "        vertical-align: top;\n",
       "    }\n",
       "\n",
       "    .dataframe thead th {\n",
       "        text-align: right;\n",
       "    }\n",
       "</style>\n",
       "<table border=\"1\" class=\"dataframe\">\n",
       "  <thead>\n",
       "    <tr style=\"text-align: right;\">\n",
       "      <th></th>\n",
       "      <th>path</th>\n",
       "      <th>value</th>\n",
       "    </tr>\n",
       "  </thead>\n",
       "  <tbody>\n",
       "    <tr>\n",
       "      <th>0</th>\n",
       "      <td>G:\\PYTHON\\FinalYr_Phase-2\\COVID\\COVID-1.png</td>\n",
       "      <td>0</td>\n",
       "    </tr>\n",
       "    <tr>\n",
       "      <th>1</th>\n",
       "      <td>G:\\PYTHON\\FinalYr_Phase-2\\COVID\\COVID-10.png</td>\n",
       "      <td>0</td>\n",
       "    </tr>\n",
       "    <tr>\n",
       "      <th>2</th>\n",
       "      <td>G:\\PYTHON\\FinalYr_Phase-2\\COVID\\COVID-100.png</td>\n",
       "      <td>0</td>\n",
       "    </tr>\n",
       "    <tr>\n",
       "      <th>3</th>\n",
       "      <td>G:\\PYTHON\\FinalYr_Phase-2\\COVID\\COVID-1000.png</td>\n",
       "      <td>0</td>\n",
       "    </tr>\n",
       "    <tr>\n",
       "      <th>4</th>\n",
       "      <td>G:\\PYTHON\\FinalYr_Phase-2\\COVID\\COVID-1001.png</td>\n",
       "      <td>0</td>\n",
       "    </tr>\n",
       "  </tbody>\n",
       "</table>\n",
       "</div>"
      ],
      "text/plain": [
       "                                             path  value\n",
       "0     G:\\PYTHON\\FinalYr_Phase-2\\COVID\\COVID-1.png      0\n",
       "1    G:\\PYTHON\\FinalYr_Phase-2\\COVID\\COVID-10.png      0\n",
       "2   G:\\PYTHON\\FinalYr_Phase-2\\COVID\\COVID-100.png      0\n",
       "3  G:\\PYTHON\\FinalYr_Phase-2\\COVID\\COVID-1000.png      0\n",
       "4  G:\\PYTHON\\FinalYr_Phase-2\\COVID\\COVID-1001.png      0"
      ]
     },
     "execution_count": 6,
     "metadata": {},
     "output_type": "execute_result"
    }
   ],
   "source": [
    "Data.head()"
   ]
  },
  {
   "cell_type": "code",
   "execution_count": 7,
   "id": "42bc7458",
   "metadata": {},
   "outputs": [],
   "source": [
    "Data['split'] = np.random.randn(Data.shape[0], 1)\n",
    "\n",
    "msk = np.random.rand(len(Data)) <= 0.8\n",
    "\n",
    "train = Data[msk]\n",
    "test = Data[~msk]"
   ]
  },
  {
   "cell_type": "code",
   "execution_count": 8,
   "id": "cb52af61",
   "metadata": {},
   "outputs": [
    {
     "name": "stdout",
     "output_type": "stream",
     "text": [
      "0    2868\n",
      "2    2834\n",
      "1    1607\n",
      "Name: value, dtype: int64\n",
      "0    748\n",
      "2    666\n",
      "1    438\n",
      "Name: value, dtype: int64\n"
     ]
    }
   ],
   "source": [
    "print(train.value.value_counts())\n",
    "print(test.value.value_counts())"
   ]
  },
  {
   "cell_type": "code",
   "execution_count": 9,
   "id": "ad01968d",
   "metadata": {},
   "outputs": [],
   "source": [
    "train.reset_index(inplace=True)"
   ]
  },
  {
   "cell_type": "code",
   "execution_count": 10,
   "id": "d032da8f",
   "metadata": {},
   "outputs": [
    {
     "name": "stderr",
     "output_type": "stream",
     "text": [
      "C:\\Users\\Bhanu\\anaconda3\\envs\\gpu\\lib\\site-packages\\pandas\\core\\frame.py:4167: SettingWithCopyWarning: \n",
      "A value is trying to be set on a copy of a slice from a DataFrame\n",
      "\n",
      "See the caveats in the documentation: https://pandas.pydata.org/pandas-docs/stable/user_guide/indexing.html#returning-a-view-versus-a-copy\n",
      "  return super().drop(\n"
     ]
    },
    {
     "data": {
      "text/html": [
       "<div>\n",
       "<style scoped>\n",
       "    .dataframe tbody tr th:only-of-type {\n",
       "        vertical-align: middle;\n",
       "    }\n",
       "\n",
       "    .dataframe tbody tr th {\n",
       "        vertical-align: top;\n",
       "    }\n",
       "\n",
       "    .dataframe thead th {\n",
       "        text-align: right;\n",
       "    }\n",
       "</style>\n",
       "<table border=\"1\" class=\"dataframe\">\n",
       "  <thead>\n",
       "    <tr style=\"text-align: right;\">\n",
       "      <th></th>\n",
       "      <th>path</th>\n",
       "      <th>value</th>\n",
       "      <th>split</th>\n",
       "    </tr>\n",
       "  </thead>\n",
       "  <tbody>\n",
       "    <tr>\n",
       "      <th>0</th>\n",
       "      <td>G:\\PYTHON\\FinalYr_Phase-2\\COVID\\COVID-1.png</td>\n",
       "      <td>0</td>\n",
       "      <td>-2.198784</td>\n",
       "    </tr>\n",
       "    <tr>\n",
       "      <th>1</th>\n",
       "      <td>G:\\PYTHON\\FinalYr_Phase-2\\COVID\\COVID-10.png</td>\n",
       "      <td>0</td>\n",
       "      <td>-2.184412</td>\n",
       "    </tr>\n",
       "    <tr>\n",
       "      <th>2</th>\n",
       "      <td>G:\\PYTHON\\FinalYr_Phase-2\\COVID\\COVID-100.png</td>\n",
       "      <td>0</td>\n",
       "      <td>-1.020500</td>\n",
       "    </tr>\n",
       "    <tr>\n",
       "      <th>3</th>\n",
       "      <td>G:\\PYTHON\\FinalYr_Phase-2\\COVID\\COVID-1000.png</td>\n",
       "      <td>0</td>\n",
       "      <td>0.087302</td>\n",
       "    </tr>\n",
       "    <tr>\n",
       "      <th>4</th>\n",
       "      <td>G:\\PYTHON\\FinalYr_Phase-2\\COVID\\COVID-1004.png</td>\n",
       "      <td>0</td>\n",
       "      <td>0.497335</td>\n",
       "    </tr>\n",
       "  </tbody>\n",
       "</table>\n",
       "</div>"
      ],
      "text/plain": [
       "                                             path  value     split\n",
       "0     G:\\PYTHON\\FinalYr_Phase-2\\COVID\\COVID-1.png      0 -2.198784\n",
       "1    G:\\PYTHON\\FinalYr_Phase-2\\COVID\\COVID-10.png      0 -2.184412\n",
       "2   G:\\PYTHON\\FinalYr_Phase-2\\COVID\\COVID-100.png      0 -1.020500\n",
       "3  G:\\PYTHON\\FinalYr_Phase-2\\COVID\\COVID-1000.png      0  0.087302\n",
       "4  G:\\PYTHON\\FinalYr_Phase-2\\COVID\\COVID-1004.png      0  0.497335"
      ]
     },
     "execution_count": 10,
     "metadata": {},
     "output_type": "execute_result"
    }
   ],
   "source": [
    "train.drop(train.columns[0], axis=1, inplace=True)\n",
    "train.head()"
   ]
  },
  {
   "cell_type": "code",
   "execution_count": 11,
   "id": "915faf28",
   "metadata": {},
   "outputs": [],
   "source": [
    "data = []\n",
    "image_size = 224\n",
    "test_pixel_data = []\n",
    "import matplotlib.pyplot as plt\n",
    "from PIL import Image\n",
    "\n",
    "\n",
    "for i in range(len(train)):\n",
    "    img_array = Image.open(train['path'][i])\n",
    "    new_img_array = np.array(img_array)\n",
    "    if new_img_array.ndim == 2:\n",
    "        new_img_array = cv2.cvtColor(new_img_array, cv2.COLOR_GRAY2BGR)\n",
    "    new_img_array = cv2.resize(new_img_array,(224,224))\n",
    "    #print(i,np.array(new_img_array).shape,train['value'][i])\n",
    "    data.append([new_img_array, train['value'][i]])\n"
   ]
  },
  {
   "cell_type": "code",
   "execution_count": 12,
   "id": "f1ef42fe",
   "metadata": {},
   "outputs": [],
   "source": [
    "test.reset_index(inplace=True)"
   ]
  },
  {
   "cell_type": "code",
   "execution_count": 13,
   "id": "17cd5432",
   "metadata": {},
   "outputs": [
    {
     "name": "stderr",
     "output_type": "stream",
     "text": [
      "C:\\Users\\Bhanu\\anaconda3\\envs\\gpu\\lib\\site-packages\\pandas\\core\\frame.py:4167: SettingWithCopyWarning: \n",
      "A value is trying to be set on a copy of a slice from a DataFrame\n",
      "\n",
      "See the caveats in the documentation: https://pandas.pydata.org/pandas-docs/stable/user_guide/indexing.html#returning-a-view-versus-a-copy\n",
      "  return super().drop(\n"
     ]
    },
    {
     "data": {
      "text/html": [
       "<div>\n",
       "<style scoped>\n",
       "    .dataframe tbody tr th:only-of-type {\n",
       "        vertical-align: middle;\n",
       "    }\n",
       "\n",
       "    .dataframe tbody tr th {\n",
       "        vertical-align: top;\n",
       "    }\n",
       "\n",
       "    .dataframe thead th {\n",
       "        text-align: right;\n",
       "    }\n",
       "</style>\n",
       "<table border=\"1\" class=\"dataframe\">\n",
       "  <thead>\n",
       "    <tr style=\"text-align: right;\">\n",
       "      <th></th>\n",
       "      <th>path</th>\n",
       "      <th>value</th>\n",
       "      <th>split</th>\n",
       "    </tr>\n",
       "  </thead>\n",
       "  <tbody>\n",
       "    <tr>\n",
       "      <th>0</th>\n",
       "      <td>G:\\PYTHON\\FinalYr_Phase-2\\COVID\\COVID-1001.png</td>\n",
       "      <td>0</td>\n",
       "      <td>0.245957</td>\n",
       "    </tr>\n",
       "    <tr>\n",
       "      <th>1</th>\n",
       "      <td>G:\\PYTHON\\FinalYr_Phase-2\\COVID\\COVID-1002.png</td>\n",
       "      <td>0</td>\n",
       "      <td>-0.757489</td>\n",
       "    </tr>\n",
       "    <tr>\n",
       "      <th>2</th>\n",
       "      <td>G:\\PYTHON\\FinalYr_Phase-2\\COVID\\COVID-1003.png</td>\n",
       "      <td>0</td>\n",
       "      <td>0.427668</td>\n",
       "    </tr>\n",
       "    <tr>\n",
       "      <th>3</th>\n",
       "      <td>G:\\PYTHON\\FinalYr_Phase-2\\COVID\\COVID-1012.png</td>\n",
       "      <td>0</td>\n",
       "      <td>0.013160</td>\n",
       "    </tr>\n",
       "    <tr>\n",
       "      <th>4</th>\n",
       "      <td>G:\\PYTHON\\FinalYr_Phase-2\\COVID\\COVID-1016.png</td>\n",
       "      <td>0</td>\n",
       "      <td>0.432304</td>\n",
       "    </tr>\n",
       "  </tbody>\n",
       "</table>\n",
       "</div>"
      ],
      "text/plain": [
       "                                             path  value     split\n",
       "0  G:\\PYTHON\\FinalYr_Phase-2\\COVID\\COVID-1001.png      0  0.245957\n",
       "1  G:\\PYTHON\\FinalYr_Phase-2\\COVID\\COVID-1002.png      0 -0.757489\n",
       "2  G:\\PYTHON\\FinalYr_Phase-2\\COVID\\COVID-1003.png      0  0.427668\n",
       "3  G:\\PYTHON\\FinalYr_Phase-2\\COVID\\COVID-1012.png      0  0.013160\n",
       "4  G:\\PYTHON\\FinalYr_Phase-2\\COVID\\COVID-1016.png      0  0.432304"
      ]
     },
     "execution_count": 13,
     "metadata": {},
     "output_type": "execute_result"
    }
   ],
   "source": [
    "test.drop(test.columns[0], axis=1, inplace=True)\n",
    "test.head()"
   ]
  },
  {
   "cell_type": "code",
   "execution_count": 14,
   "id": "aefadd9b",
   "metadata": {},
   "outputs": [],
   "source": [
    "for i in range(len(test)):\n",
    "    img_array = Image.open(test['path'][i])\n",
    "    new_img_array = np.array(img_array)\n",
    "    if new_img_array.ndim == 2:\n",
    "        new_img_array = cv2.cvtColor(new_img_array, cv2.COLOR_GRAY2BGR)\n",
    "    new_img_array = cv2.resize(new_img_array,(224,224))\n",
    "    test_pixel_data.append(new_img_array)"
   ]
  },
  {
   "cell_type": "code",
   "execution_count": 15,
   "id": "b7b426ed",
   "metadata": {},
   "outputs": [],
   "source": [
    "np.random.shuffle(data)\n",
    "x = []\n",
    "y = []\n",
    "\n",
    "counter = 406\n",
    "count = 0\n",
    "\n",
    "for image in data:\n",
    "    try:\n",
    "        x.append(image[0])\n",
    "        y.append(image[1])\n",
    "    except:\n",
    "        print(count)\n",
    "    count += 1\n",
    "\n",
    "# converting x & y to numpy array as they are list\n",
    "x = np.array(x)\n",
    "y = np.array(y)"
   ]
  },
  {
   "cell_type": "code",
   "execution_count": 16,
   "id": "19706208",
   "metadata": {},
   "outputs": [
    {
     "data": {
      "text/plain": [
       "(array([0, 1, 2], dtype=int64), array([2868, 1607, 2834], dtype=int64))"
      ]
     },
     "execution_count": 16,
     "metadata": {},
     "output_type": "execute_result"
    }
   ],
   "source": [
    "np.unique(y, return_counts=True)"
   ]
  },
  {
   "cell_type": "code",
   "execution_count": 17,
   "id": "a361f18b",
   "metadata": {},
   "outputs": [
    {
     "data": {
      "text/plain": [
       "0    2868\n",
       "2    2834\n",
       "1    1607\n",
       "dtype: int64"
      ]
     },
     "execution_count": 17,
     "metadata": {},
     "output_type": "execute_result"
    }
   ],
   "source": [
    "pd.Series(y).value_counts()"
   ]
  },
  {
   "cell_type": "code",
   "execution_count": 18,
   "id": "c1810ccc",
   "metadata": {},
   "outputs": [],
   "source": [
    "X_train, X_val, y_train, y_val = train_test_split(x,y,test_size=0.2, random_state = 42,stratify=y)"
   ]
  },
  {
   "cell_type": "code",
   "execution_count": 19,
   "id": "65471f99",
   "metadata": {},
   "outputs": [],
   "source": [
    "from keras.utils.np_utils import to_categorical\n",
    "y_train = to_categorical(y_train)\n",
    "y_val = to_categorical(y_val)"
   ]
  },
  {
   "cell_type": "code",
   "execution_count": 20,
   "id": "a7e864ea",
   "metadata": {},
   "outputs": [
    {
     "name": "stdout",
     "output_type": "stream",
     "text": [
      "(5847, 224, 224, 3) (1462, 224, 224, 3) (1852, 224, 224, 3)\n"
     ]
    }
   ],
   "source": [
    "test_pixel_data = np.array(test_pixel_data)\n",
    "\n",
    "test_pixel_data = test_pixel_data/255\n",
    "\n",
    "print(X_train.shape,X_val.shape,test_pixel_data.shape)"
   ]
  },
  {
   "cell_type": "code",
   "execution_count": 21,
   "id": "9bbd63a5",
   "metadata": {},
   "outputs": [],
   "source": [
    "train_datagen = tf.keras.preprocessing.image.ImageDataGenerator(rescale=1.0/255.0)\n",
    "\n",
    "val_datagen = tf.keras.preprocessing.image.ImageDataGenerator(rescale=1.0/255.0)\n",
    "\n",
    "train_generator = train_datagen.flow(X_train,y_train,batch_size=8)\n",
    "\n",
    "val_generator = val_datagen.flow(X_val,y_val,batch_size=8)"
   ]
  },
  {
   "cell_type": "code",
   "execution_count": 22,
   "id": "a0172d31",
   "metadata": {},
   "outputs": [
    {
     "name": "stdout",
     "output_type": "stream",
     "text": [
      "(5847, 224, 224, 3) (5847, 3) (1462, 224, 224, 3)\n"
     ]
    }
   ],
   "source": [
    "print(X_train.shape,y_train.shape,X_val.shape)"
   ]
  },
  {
   "cell_type": "code",
   "execution_count": 27,
   "id": "9a626739",
   "metadata": {},
   "outputs": [],
   "source": [
    "from tensorflow.keras.applications import VGG16,InceptionV3,DenseNet201,ResNet50\n",
    "from keras.layers import *\n",
    "from keras.models import Sequential\n",
    "from keras.regularizers import *\n",
    "from tensorflow.keras.optimizers import Adam"
   ]
  },
  {
   "cell_type": "code",
   "execution_count": 28,
   "id": "82ae7887",
   "metadata": {},
   "outputs": [],
   "source": [
    "def build_model():\n",
    "    model = Sequential()\n",
    "\n",
    "    conv_base = ResNet50(input_shape=(224,224,3), include_top=False, pooling='max',weights='imagenet')\n",
    "    model.add(conv_base)\n",
    "    model.add(BatchNormalization())\n",
    "    model.add(Dense(2048, activation='relu', kernel_regularizer=l1_l2(0.01)))\n",
    "    model.add(BatchNormalization())\n",
    "  # model.add(Dense(2048, activation='relu', kernel_regularizer=l1_l2(0.01)))\n",
    "  # model.add(BatchNormalization())\n",
    "  # model.add(Dense(2048, activation='relu', kernel_regularizer=l1_l2(0.01)))\n",
    "  # model.add(BatchNormalization())\n",
    "  # model.add(Dense(1024, activation='relu', kernel_regularizer=l1_l2(0.01)))\n",
    "  # model.add(BatchNormalization())\n",
    "    model.add(Dense(3, activation='softmax'))\n",
    "    for layer in model.layers:\n",
    "        layer.trainable = True\n",
    " \n",
    "    model.compile(loss='categorical_crossentropy', optimizer=Adam(lr=1e-4), metrics=['accuracy',\"Precision\",\"Recall\"])\n",
    "\n",
    "    return model"
   ]
  },
  {
   "cell_type": "code",
   "execution_count": 29,
   "id": "e163f3dd",
   "metadata": {},
   "outputs": [],
   "source": [
    "cbs = [tf.keras.callbacks.ReduceLROnPlateau(monitor='val_acc', factor=0.1, patience=3, min_lr=1e-5, verbose=0),\n",
    "tf.keras.callbacks.EarlyStopping(monitor='val_loss', min_delta=1e-6, patience=10, verbose=1, mode='auto')]"
   ]
  },
  {
   "cell_type": "code",
   "execution_count": 30,
   "id": "2461a422",
   "metadata": {},
   "outputs": [
    {
     "name": "stdout",
     "output_type": "stream",
     "text": [
      "Model: \"sequential_1\"\n",
      "_________________________________________________________________\n",
      "Layer (type)                 Output Shape              Param #   \n",
      "=================================================================\n",
      "resnet50 (Functional)        (None, 2048)              23587712  \n",
      "_________________________________________________________________\n",
      "batch_normalization (BatchNo (None, 2048)              8192      \n",
      "_________________________________________________________________\n",
      "dense (Dense)                (None, 2048)              4196352   \n",
      "_________________________________________________________________\n",
      "batch_normalization_1 (Batch (None, 2048)              8192      \n",
      "_________________________________________________________________\n",
      "dense_1 (Dense)              (None, 3)                 6147      \n",
      "=================================================================\n",
      "Total params: 27,806,595\n",
      "Trainable params: 27,745,283\n",
      "Non-trainable params: 61,312\n",
      "_________________________________________________________________\n"
     ]
    },
    {
     "name": "stderr",
     "output_type": "stream",
     "text": [
      "C:\\Users\\Bhanu\\anaconda3\\envs\\gpu\\lib\\site-packages\\keras\\optimizer_v2\\optimizer_v2.py:355: UserWarning: The `lr` argument is deprecated, use `learning_rate` instead.\n",
      "  warnings.warn(\n"
     ]
    }
   ],
   "source": [
    "model = build_model()\n",
    "model.summary()"
   ]
  },
  {
   "cell_type": "code",
   "execution_count": 31,
   "id": "f8ca0f5a",
   "metadata": {},
   "outputs": [],
   "source": [
    "from tensorflow.python.keras.callbacks import TensorBoard\n",
    "from time import time\n",
    "Tensorboard = TensorBoard(log_dir=\"G:\\PYTHON\\FinalYr_Phase-2\\logs\\{}\".format(time()))"
   ]
  },
  {
   "cell_type": "code",
   "execution_count": 32,
   "id": "6ddd2f00",
   "metadata": {},
   "outputs": [
    {
     "name": "stderr",
     "output_type": "stream",
     "text": [
      "C:\\Users\\Bhanu\\anaconda3\\envs\\gpu\\lib\\site-packages\\keras\\utils\\generic_utils.py:494: CustomMaskWarning: Custom mask layers require a config and must override get_config. When loading, the custom mask layer must be passed to the custom_objects argument.\n",
      "  warnings.warn('Custom mask layers require a config and must override '\n"
     ]
    },
    {
     "name": "stdout",
     "output_type": "stream",
     "text": [
      "Epoch 1/100\n",
      "87/87 [==============================] - 46s 341ms/step - loss: 690.4626 - accuracy: 0.8204 - precision: 0.8358 - recall: 0.8118 - val_loss: 558.1111 - val_accuracy: 0.4773 - val_precision: 0.4773 - val_recall: 0.4773\n",
      "WARNING:tensorflow:Learning rate reduction is conditioned on metric `val_acc` which is not available. Available metrics are: loss,accuracy,precision,recall,val_loss,val_accuracy,val_precision,val_recall,lr\n",
      "Epoch 2/100\n",
      "87/87 [==============================] - 27s 307ms/step - loss: 443.6354 - accuracy: 0.8994 - precision: 0.9054 - recall: 0.8937 - val_loss: 340.9143 - val_accuracy: 0.3750 - val_precision: 0.3750 - val_recall: 0.3750\n",
      "WARNING:tensorflow:Learning rate reduction is conditioned on metric `val_acc` which is not available. Available metrics are: loss,accuracy,precision,recall,val_loss,val_accuracy,val_precision,val_recall,lr\n",
      "Epoch 3/100\n",
      "87/87 [==============================] - 26s 303ms/step - loss: 254.7031 - accuracy: 0.8980 - precision: 0.9017 - recall: 0.8966 - val_loss: 184.8854 - val_accuracy: 0.2045 - val_precision: 0.2045 - val_recall: 0.2045\n",
      "WARNING:tensorflow:Learning rate reduction is conditioned on metric `val_acc` which is not available. Available metrics are: loss,accuracy,precision,recall,val_loss,val_accuracy,val_precision,val_recall,lr\n",
      "Epoch 4/100\n",
      "87/87 [==============================] - 27s 312ms/step - loss: 132.1738 - accuracy: 0.8922 - precision: 0.8935 - recall: 0.8922 - val_loss: 93.5917 - val_accuracy: 0.2500 - val_precision: 0.2500 - val_recall: 0.2500\n",
      "WARNING:tensorflow:Learning rate reduction is conditioned on metric `val_acc` which is not available. Available metrics are: loss,accuracy,precision,recall,val_loss,val_accuracy,val_precision,val_recall,lr\n",
      "Epoch 5/100\n",
      "87/87 [==============================] - 27s 313ms/step - loss: 64.0717 - accuracy: 0.9152 - precision: 0.9179 - recall: 0.9152 - val_loss: 53.1182 - val_accuracy: 0.2443 - val_precision: 0.2443 - val_recall: 0.2443\n",
      "WARNING:tensorflow:Learning rate reduction is conditioned on metric `val_acc` which is not available. Available metrics are: loss,accuracy,precision,recall,val_loss,val_accuracy,val_precision,val_recall,lr\n",
      "Epoch 6/100\n",
      "87/87 [==============================] - 27s 313ms/step - loss: 32.7854 - accuracy: 0.8707 - precision: 0.8707 - recall: 0.8707 - val_loss: 36.7840 - val_accuracy: 0.3352 - val_precision: 0.3352 - val_recall: 0.3352\n",
      "WARNING:tensorflow:Learning rate reduction is conditioned on metric `val_acc` which is not available. Available metrics are: loss,accuracy,precision,recall,val_loss,val_accuracy,val_precision,val_recall,lr\n",
      "Epoch 7/100\n",
      "87/87 [==============================] - 27s 307ms/step - loss: 17.6000 - accuracy: 0.8894 - precision: 0.8894 - recall: 0.8894 - val_loss: 23.1963 - val_accuracy: 0.2330 - val_precision: 0.2330 - val_recall: 0.2330\n",
      "WARNING:tensorflow:Learning rate reduction is conditioned on metric `val_acc` which is not available. Available metrics are: loss,accuracy,precision,recall,val_loss,val_accuracy,val_precision,val_recall,lr\n",
      "Epoch 8/100\n",
      "87/87 [==============================] - 27s 305ms/step - loss: 11.0457 - accuracy: 0.8966 - precision: 0.8978 - recall: 0.8966 - val_loss: 13.2911 - val_accuracy: 0.4148 - val_precision: 0.4148 - val_recall: 0.4148\n",
      "WARNING:tensorflow:Learning rate reduction is conditioned on metric `val_acc` which is not available. Available metrics are: loss,accuracy,precision,recall,val_loss,val_accuracy,val_precision,val_recall,lr\n",
      "Epoch 9/100\n",
      "87/87 [==============================] - 27s 313ms/step - loss: 7.4903 - accuracy: 0.8807 - precision: 0.8806 - recall: 0.8793 - val_loss: 16.2590 - val_accuracy: 0.4375 - val_precision: 0.4375 - val_recall: 0.4375\n",
      "WARNING:tensorflow:Learning rate reduction is conditioned on metric `val_acc` which is not available. Available metrics are: loss,accuracy,precision,recall,val_loss,val_accuracy,val_precision,val_recall,lr\n",
      "Epoch 10/100\n",
      "87/87 [==============================] - 29s 335ms/step - loss: 7.9814 - accuracy: 0.8748 - precision: 0.8746 - recall: 0.8734 - val_loss: 14.7557 - val_accuracy: 0.4261 - val_precision: 0.4261 - val_recall: 0.4261\n",
      "WARNING:tensorflow:Learning rate reduction is conditioned on metric `val_acc` which is not available. Available metrics are: loss,accuracy,precision,recall,val_loss,val_accuracy,val_precision,val_recall,lr\n",
      "Epoch 11/100\n",
      "87/87 [==============================] - 27s 314ms/step - loss: 6.4979 - accuracy: 0.8736 - precision: 0.8734 - recall: 0.8721 - val_loss: 14.3435 - val_accuracy: 0.3864 - val_precision: 0.3864 - val_recall: 0.3864\n",
      "WARNING:tensorflow:Learning rate reduction is conditioned on metric `val_acc` which is not available. Available metrics are: loss,accuracy,precision,recall,val_loss,val_accuracy,val_precision,val_recall,lr\n",
      "Epoch 12/100\n",
      "87/87 [==============================] - 26s 304ms/step - loss: 4.9647 - accuracy: 0.9066 - precision: 0.9079 - recall: 0.9066 - val_loss: 4.2035 - val_accuracy: 0.7273 - val_precision: 0.7241 - val_recall: 0.7159\n",
      "WARNING:tensorflow:Learning rate reduction is conditioned on metric `val_acc` which is not available. Available metrics are: loss,accuracy,precision,recall,val_loss,val_accuracy,val_precision,val_recall,lr\n",
      "Epoch 13/100\n",
      "87/87 [==============================] - 27s 313ms/step - loss: 4.6759 - accuracy: 0.8966 - precision: 0.8990 - recall: 0.8951 - val_loss: 6.9145 - val_accuracy: 0.7955 - val_precision: 0.8081 - val_recall: 0.7898\n",
      "WARNING:tensorflow:Learning rate reduction is conditioned on metric `val_acc` which is not available. Available metrics are: loss,accuracy,precision,recall,val_loss,val_accuracy,val_precision,val_recall,lr\n",
      "Epoch 14/100\n",
      "87/87 [==============================] - 26s 305ms/step - loss: 5.2199 - accuracy: 0.8951 - precision: 0.8951 - recall: 0.8951 - val_loss: 4.7344 - val_accuracy: 0.9432 - val_precision: 0.9432 - val_recall: 0.9432\n",
      "WARNING:tensorflow:Learning rate reduction is conditioned on metric `val_acc` which is not available. Available metrics are: loss,accuracy,precision,recall,val_loss,val_accuracy,val_precision,val_recall,lr\n",
      "Epoch 15/100\n",
      "87/87 [==============================] - 27s 308ms/step - loss: 5.2748 - accuracy: 0.8793 - precision: 0.8817 - recall: 0.8779 - val_loss: 4.7994 - val_accuracy: 0.5398 - val_precision: 0.5398 - val_recall: 0.5398\n",
      "WARNING:tensorflow:Learning rate reduction is conditioned on metric `val_acc` which is not available. Available metrics are: loss,accuracy,precision,recall,val_loss,val_accuracy,val_precision,val_recall,lr\n",
      "Epoch 16/100\n",
      "87/87 [==============================] - 27s 308ms/step - loss: 4.2409 - accuracy: 0.9138 - precision: 0.9138 - recall: 0.9138 - val_loss: 7.2885 - val_accuracy: 0.6080 - val_precision: 0.6080 - val_recall: 0.6080\n",
      "WARNING:tensorflow:Learning rate reduction is conditioned on metric `val_acc` which is not available. Available metrics are: loss,accuracy,precision,recall,val_loss,val_accuracy,val_precision,val_recall,lr\n",
      "Epoch 17/100\n",
      "87/87 [==============================] - 26s 305ms/step - loss: 4.0427 - accuracy: 0.9325 - precision: 0.9351 - recall: 0.9310 - val_loss: 4.1495 - val_accuracy: 0.8182 - val_precision: 0.8171 - val_recall: 0.8125\n",
      "WARNING:tensorflow:Learning rate reduction is conditioned on metric `val_acc` which is not available. Available metrics are: loss,accuracy,precision,recall,val_loss,val_accuracy,val_precision,val_recall,lr\n",
      "Epoch 18/100\n",
      "87/87 [==============================] - 26s 303ms/step - loss: 4.0633 - accuracy: 0.9009 - precision: 0.9020 - recall: 0.8994 - val_loss: 3.7952 - val_accuracy: 0.5057 - val_precision: 0.5183 - val_recall: 0.4830\n",
      "WARNING:tensorflow:Learning rate reduction is conditioned on metric `val_acc` which is not available. Available metrics are: loss,accuracy,precision,recall,val_loss,val_accuracy,val_precision,val_recall,lr\n",
      "Epoch 19/100\n",
      "87/87 [==============================] - 26s 305ms/step - loss: 3.6086 - accuracy: 0.9152 - precision: 0.9190 - recall: 0.9124 - val_loss: 6.2268 - val_accuracy: 0.4318 - val_precision: 0.4343 - val_recall: 0.4318\n",
      "WARNING:tensorflow:Learning rate reduction is conditioned on metric `val_acc` which is not available. Available metrics are: loss,accuracy,precision,recall,val_loss,val_accuracy,val_precision,val_recall,lr\n"
     ]
    },
    {
     "name": "stdout",
     "output_type": "stream",
     "text": [
      "Epoch 20/100\n",
      "87/87 [==============================] - 27s 313ms/step - loss: 3.5365 - accuracy: 0.9009 - precision: 0.9019 - recall: 0.8980 - val_loss: 3.5466 - val_accuracy: 0.4716 - val_precision: 0.4716 - val_recall: 0.4716\n",
      "WARNING:tensorflow:Learning rate reduction is conditioned on metric `val_acc` which is not available. Available metrics are: loss,accuracy,precision,recall,val_loss,val_accuracy,val_precision,val_recall,lr\n",
      "Epoch 21/100\n",
      "87/87 [==============================] - 26s 304ms/step - loss: 3.3549 - accuracy: 0.9195 - precision: 0.9233 - recall: 0.9167 - val_loss: 2.7548 - val_accuracy: 0.5966 - val_precision: 0.6711 - val_recall: 0.5795\n",
      "WARNING:tensorflow:Learning rate reduction is conditioned on metric `val_acc` which is not available. Available metrics are: loss,accuracy,precision,recall,val_loss,val_accuracy,val_precision,val_recall,lr\n",
      "Epoch 22/100\n",
      "87/87 [==============================] - 27s 312ms/step - loss: 2.1895 - accuracy: 0.9454 - precision: 0.9467 - recall: 0.9440 - val_loss: 3.9394 - val_accuracy: 0.5568 - val_precision: 0.5607 - val_recall: 0.5511\n",
      "WARNING:tensorflow:Learning rate reduction is conditioned on metric `val_acc` which is not available. Available metrics are: loss,accuracy,precision,recall,val_loss,val_accuracy,val_precision,val_recall,lr\n",
      "Epoch 23/100\n",
      "87/87 [==============================] - 27s 312ms/step - loss: 2.6638 - accuracy: 0.9411 - precision: 0.9423 - recall: 0.9382 - val_loss: 13.3877 - val_accuracy: 0.4602 - val_precision: 0.4602 - val_recall: 0.4602\n",
      "WARNING:tensorflow:Learning rate reduction is conditioned on metric `val_acc` which is not available. Available metrics are: loss,accuracy,precision,recall,val_loss,val_accuracy,val_precision,val_recall,lr\n",
      "Epoch 24/100\n",
      "87/87 [==============================] - 27s 312ms/step - loss: 1.8017 - accuracy: 0.9641 - precision: 0.9681 - recall: 0.9598 - val_loss: 2.1377 - val_accuracy: 0.9091 - val_precision: 0.9195 - val_recall: 0.9091\n",
      "WARNING:tensorflow:Learning rate reduction is conditioned on metric `val_acc` which is not available. Available metrics are: loss,accuracy,precision,recall,val_loss,val_accuracy,val_precision,val_recall,lr\n",
      "Epoch 25/100\n",
      "87/87 [==============================] - 27s 312ms/step - loss: 1.9367 - accuracy: 0.9497 - precision: 0.9495 - recall: 0.9454 - val_loss: 2.1087 - val_accuracy: 0.9830 - val_precision: 0.9830 - val_recall: 0.9830\n",
      "WARNING:tensorflow:Learning rate reduction is conditioned on metric `val_acc` which is not available. Available metrics are: loss,accuracy,precision,recall,val_loss,val_accuracy,val_precision,val_recall,lr\n",
      "Epoch 26/100\n",
      "87/87 [==============================] - 26s 304ms/step - loss: 2.1298 - accuracy: 0.9526 - precision: 0.9540 - recall: 0.9526 - val_loss: 1.2165 - val_accuracy: 1.0000 - val_precision: 1.0000 - val_recall: 1.0000\n",
      "WARNING:tensorflow:Learning rate reduction is conditioned on metric `val_acc` which is not available. Available metrics are: loss,accuracy,precision,recall,val_loss,val_accuracy,val_precision,val_recall,lr\n",
      "Epoch 27/100\n",
      "87/87 [==============================] - 26s 304ms/step - loss: 1.9986 - accuracy: 0.9511 - precision: 0.9524 - recall: 0.9483 - val_loss: 2.1370 - val_accuracy: 0.8920 - val_precision: 0.8920 - val_recall: 0.8920\n",
      "WARNING:tensorflow:Learning rate reduction is conditioned on metric `val_acc` which is not available. Available metrics are: loss,accuracy,precision,recall,val_loss,val_accuracy,val_precision,val_recall,lr\n",
      "Epoch 28/100\n",
      "87/87 [==============================] - 27s 316ms/step - loss: 1.3864 - accuracy: 0.9698 - precision: 0.9698 - recall: 0.9698 - val_loss: 1.1118 - val_accuracy: 0.9886 - val_precision: 0.9943 - val_recall: 0.9830\n",
      "WARNING:tensorflow:Learning rate reduction is conditioned on metric `val_acc` which is not available. Available metrics are: loss,accuracy,precision,recall,val_loss,val_accuracy,val_precision,val_recall,lr\n",
      "Epoch 29/100\n",
      "87/87 [==============================] - 27s 310ms/step - loss: 1.7169 - accuracy: 0.9540 - precision: 0.9553 - recall: 0.9526 - val_loss: 2.8701 - val_accuracy: 0.6648 - val_precision: 0.6648 - val_recall: 0.6648\n",
      "WARNING:tensorflow:Learning rate reduction is conditioned on metric `val_acc` which is not available. Available metrics are: loss,accuracy,precision,recall,val_loss,val_accuracy,val_precision,val_recall,lr\n",
      "Epoch 30/100\n",
      "87/87 [==============================] - 27s 306ms/step - loss: 1.2673 - accuracy: 0.9713 - precision: 0.9726 - recall: 0.9698 - val_loss: 3.2445 - val_accuracy: 0.4034 - val_precision: 0.4080 - val_recall: 0.4034\n",
      "WARNING:tensorflow:Learning rate reduction is conditioned on metric `val_acc` which is not available. Available metrics are: loss,accuracy,precision,recall,val_loss,val_accuracy,val_precision,val_recall,lr\n",
      "Epoch 31/100\n",
      "87/87 [==============================] - 27s 307ms/step - loss: 1.4338 - accuracy: 0.9670 - precision: 0.9710 - recall: 0.9626 - val_loss: 1.3355 - val_accuracy: 0.9773 - val_precision: 0.9773 - val_recall: 0.9773\n",
      "WARNING:tensorflow:Learning rate reduction is conditioned on metric `val_acc` which is not available. Available metrics are: loss,accuracy,precision,recall,val_loss,val_accuracy,val_precision,val_recall,lr\n",
      "Epoch 32/100\n",
      "87/87 [==============================] - 27s 310ms/step - loss: 1.5889 - accuracy: 0.9684 - precision: 0.9711 - recall: 0.9655 - val_loss: 1.7906 - val_accuracy: 0.9830 - val_precision: 0.9830 - val_recall: 0.9830\n",
      "WARNING:tensorflow:Learning rate reduction is conditioned on metric `val_acc` which is not available. Available metrics are: loss,accuracy,precision,recall,val_loss,val_accuracy,val_precision,val_recall,lr\n",
      "Epoch 33/100\n",
      "87/87 [==============================] - 27s 310ms/step - loss: 1.5552 - accuracy: 0.9670 - precision: 0.9696 - recall: 0.9626 - val_loss: 1.6452 - val_accuracy: 0.9261 - val_precision: 0.9368 - val_recall: 0.9261\n",
      "WARNING:tensorflow:Learning rate reduction is conditioned on metric `val_acc` which is not available. Available metrics are: loss,accuracy,precision,recall,val_loss,val_accuracy,val_precision,val_recall,lr\n",
      "Epoch 34/100\n",
      "87/87 [==============================] - 27s 306ms/step - loss: 1.6180 - accuracy: 0.9640 - precision: 0.9640 - recall: 0.9626 - val_loss: 1.5325 - val_accuracy: 0.9659 - val_precision: 0.9770 - val_recall: 0.9659\n",
      "WARNING:tensorflow:Learning rate reduction is conditioned on metric `val_acc` which is not available. Available metrics are: loss,accuracy,precision,recall,val_loss,val_accuracy,val_precision,val_recall,lr\n",
      "Epoch 35/100\n",
      "87/87 [==============================] - 27s 315ms/step - loss: 1.7626 - accuracy: 0.9411 - precision: 0.9424 - recall: 0.9397 - val_loss: 3.2669 - val_accuracy: 0.5341 - val_precision: 0.5341 - val_recall: 0.5341\n",
      "WARNING:tensorflow:Learning rate reduction is conditioned on metric `val_acc` which is not available. Available metrics are: loss,accuracy,precision,recall,val_loss,val_accuracy,val_precision,val_recall,lr\n",
      "Epoch 36/100\n",
      "87/87 [==============================] - 27s 310ms/step - loss: 1.5547 - accuracy: 0.9555 - precision: 0.9568 - recall: 0.9555 - val_loss: 30.0224 - val_accuracy: 0.5511 - val_precision: 0.5486 - val_recall: 0.5455\n",
      "WARNING:tensorflow:Learning rate reduction is conditioned on metric `val_acc` which is not available. Available metrics are: loss,accuracy,precision,recall,val_loss,val_accuracy,val_precision,val_recall,lr\n",
      "Epoch 37/100\n",
      "87/87 [==============================] - 27s 315ms/step - loss: 1.2386 - accuracy: 0.9828 - precision: 0.9841 - recall: 0.9784 - val_loss: 1.3728 - val_accuracy: 0.6420 - val_precision: 0.7397 - val_recall: 0.6136\n",
      "WARNING:tensorflow:Learning rate reduction is conditioned on metric `val_acc` which is not available. Available metrics are: loss,accuracy,precision,recall,val_loss,val_accuracy,val_precision,val_recall,lr\n",
      "Epoch 38/100\n",
      "87/87 [==============================] - 27s 309ms/step - loss: 1.3928 - accuracy: 0.9583 - precision: 0.9623 - recall: 0.9540 - val_loss: 5.8737 - val_accuracy: 0.4091 - val_precision: 0.4091 - val_recall: 0.4091\n",
      "WARNING:tensorflow:Learning rate reduction is conditioned on metric `val_acc` which is not available. Available metrics are: loss,accuracy,precision,recall,val_loss,val_accuracy,val_precision,val_recall,lr\n"
     ]
    },
    {
     "name": "stdout",
     "output_type": "stream",
     "text": [
      "Epoch 00038: early stopping\n",
      "17min 26s ± 0 ns per loop (mean ± std. dev. of 1 run, 1 loop each)\n"
     ]
    }
   ],
   "source": [
    "%%timeit -n1 -r1 \n",
    "with tf.device(\"GPU\"):\n",
    "    model.fit(train_generator,steps_per_epoch=87,epochs=100,validation_data=val_generator,validation_steps=22,callbacks=[cbs,Tensorboard])"
   ]
  },
  {
   "cell_type": "code",
   "execution_count": 33,
   "id": "0ba08218",
   "metadata": {},
   "outputs": [
    {
     "data": {
      "text/plain": [
       "<matplotlib.legend.Legend at 0x2567a0f9a60>"
      ]
     },
     "execution_count": 33,
     "metadata": {},
     "output_type": "execute_result"
    },
    {
     "data": {
      "image/png": "[encoded data removed]",
      "text/plain": [
       "<Figure size 432x288 with 2 Axes>"
      ]
     },
     "metadata": {
      "needs_background": "light"
     },
     "output_type": "display_data"
    }
   ],
   "source": [
    "fig, ax  = plt.subplots(2,1)\n",
    "\n",
    "#Loss\n",
    "ax[0].plot(model.history.history['loss'], color = 'b', label='Training Loss')\n",
    "ax[0].plot(model.history.history['val_loss'], color = 'r', label='Validation Loss')\n",
    "ax[0].legend()\n",
    "#Accuracy\n",
    "ax[1].plot(model.history.history['accuracy'], color='b', label='Training Accuraccy')\n",
    "ax[1].plot(model.history.history['val_accuracy'], color='r', label='Val Accuracy')\n",
    "ax[1].legend()"
   ]
  },
  {
   "cell_type": "code",
   "execution_count": 34,
   "id": "a212f640",
   "metadata": {},
   "outputs": [],
   "source": [
    "import os\n",
    "os.environ['CUDA_VISIBLE_DEVICES'] = '1'"
   ]
  },
  {
   "cell_type": "code",
   "execution_count": 35,
   "id": "51a247fa",
   "metadata": {},
   "outputs": [
    {
     "name": "stdout",
     "output_type": "stream",
     "text": [
      "183/183 [==============================] - 16s 89ms/step - loss: 5.5729 - accuracy: 0.4658 - precision: 0.4658 - recall: 0.4658\n"
     ]
    }
   ],
   "source": [
    "pred = model.predict(X_val/255)\n",
    "predictions = np.argmax(pred,axis=1)\n",
    "test_evaluation = model.evaluate(val_generator)"
   ]
  },
  {
   "cell_type": "code",
   "execution_count": 36,
   "id": "1408ea35",
   "metadata": {},
   "outputs": [
    {
     "name": "stdout",
     "output_type": "stream",
     "text": [
      "731/731 [==============================] - 62s 85ms/step - loss: 5.5118 - accuracy: 0.4577 - precision: 0.4577 - recall: 0.4577\n"
     ]
    }
   ],
   "source": [
    "train_evaluation = model.evaluate(train_generator)"
   ]
  },
  {
   "cell_type": "code",
   "execution_count": 37,
   "id": "b31f9ce3",
   "metadata": {},
   "outputs": [],
   "source": [
    "model.save(\"G:\\\\PYTHON\\\\FinalYr_Phase-2\\\\weights\\\\ResNet50.h5\")"
   ]
  },
  {
   "cell_type": "code",
   "execution_count": 38,
   "id": "58f75e7c",
   "metadata": {},
   "outputs": [],
   "source": [
    "Y_VAL = np.array(list(pd.DataFrame(y_val).idxmax(axis=1)))"
   ]
  },
  {
   "cell_type": "code",
   "execution_count": 39,
   "id": "9c3a24d6",
   "metadata": {},
   "outputs": [
    {
     "name": "stdout",
     "output_type": "stream",
     "text": [
      "[[574   0   0]\n",
      " [214 107   0]\n",
      " [567   0   0]]\n",
      "              precision    recall  f1-score   support\n",
      "\n",
      "           0      0.424     1.000     0.595       574\n",
      "           1      1.000     0.333     0.500       321\n",
      "           2      0.000     0.000     0.000       567\n",
      "\n",
      "    accuracy                          0.466      1462\n",
      "   macro avg      0.475     0.444     0.365      1462\n",
      "weighted avg      0.386     0.466     0.343      1462\n",
      "\n"
     ]
    },
    {
     "name": "stderr",
     "output_type": "stream",
     "text": [
      "C:\\Users\\Bhanu\\anaconda3\\envs\\gpu\\lib\\site-packages\\sklearn\\metrics\\_classification.py:1248: UndefinedMetricWarning: Precision and F-score are ill-defined and being set to 0.0 in labels with no predicted samples. Use `zero_division` parameter to control this behavior.\n",
      "  _warn_prf(average, modifier, msg_start, len(result))\n",
      "C:\\Users\\Bhanu\\anaconda3\\envs\\gpu\\lib\\site-packages\\sklearn\\metrics\\_classification.py:1248: UndefinedMetricWarning: Precision and F-score are ill-defined and being set to 0.0 in labels with no predicted samples. Use `zero_division` parameter to control this behavior.\n",
      "  _warn_prf(average, modifier, msg_start, len(result))\n",
      "C:\\Users\\Bhanu\\anaconda3\\envs\\gpu\\lib\\site-packages\\sklearn\\metrics\\_classification.py:1248: UndefinedMetricWarning: Precision and F-score are ill-defined and being set to 0.0 in labels with no predicted samples. Use `zero_division` parameter to control this behavior.\n",
      "  _warn_prf(average, modifier, msg_start, len(result))\n"
     ]
    }
   ],
   "source": [
    "from sklearn.metrics import classification_report,confusion_matrix\n",
    "print(confusion_matrix(Y_VAL,predictions))\n",
    "print(classification_report(Y_VAL,predictions,digits=3))"
   ]
  },
  {
   "cell_type": "code",
   "execution_count": 40,
   "id": "9af79b48",
   "metadata": {},
   "outputs": [
    {
     "data": {
      "image/png": "[encoded data removed]",
      "text/plain": [
       "<Figure size 540x540 with 1 Axes>"
      ]
     },
     "metadata": {
      "needs_background": "light"
     },
     "output_type": "display_data"
    }
   ],
   "source": [
    "conf_matrix = confusion_matrix(Y_VAL,predictions)\n",
    "fig, ax = plt.subplots(figsize=(7.5, 7.5))\n",
    "ax.matshow(conf_matrix, cmap=plt.cm.Blues, alpha=0.3)\n",
    "for i in range(conf_matrix.shape[0]):\n",
    "    for j in range(conf_matrix.shape[1]):\n",
    "        ax.text(x=j, y=i,s=conf_matrix[i, j], va='center', ha='center', size='xx-large')\n",
    "\n",
    "plt.xlabel('Predictions', fontsize=18)\n",
    "plt.ylabel('Actuals', fontsize=18)\n",
    "plt.title('Confusion Matrix', fontsize=18)\n",
    "plt.show()"
   ]
  },
  {
   "cell_type": "code",
   "execution_count": null,
   "id": "b1c31916",
   "metadata": {},
   "outputs": [],
   "source": []
  },
  {
   "cell_type": "code",
   "execution_count": 37,
   "id": "e4549b56",
   "metadata": {},
   "outputs": [],
   "source": [
    "from keras.models import load_model\n",
    "model = load_model(\"G:\\\\PYTHON\\\\FinalYr_Phase-2\\\\weights\\\\Dense_net.h5\")"
   ]
  },
  {
   "cell_type": "code",
   "execution_count": 38,
   "id": "202ae592",
   "metadata": {},
   "outputs": [
    {
     "name": "stdout",
     "output_type": "stream",
     "text": [
      "Prediction : [1]\n"
     ]
    }
   ],
   "source": [
    "%matplotlib inline\n",
    "# get sample image to test.\n",
    "import numpy as np\n",
    "import cv2\n",
    "import matplotlib.pyplot as plt\n",
    "\n",
    "img_covid = 'G:\\\\PYTHON\\\\Final_year_project\\\\Final\\\\covid_image_data\\\\covid_image_data\\\\Images\\\\COVID\\\\COVID-3.png'\n",
    "img_normal = 'G:\\\\PYTHON\\\\FinalYr_Phase-2\\\\Normal\\\\Normal-99.png'\n",
    "img_test = 'G:\\\\PYTHON\\\\FinalYr_Phase-2\\\\NON_COVID\\\\Non_COVID-15.png'\n",
    "\n",
    "img_array = Image.open(img_test)\n",
    "new_img_array = np.array(img_array)\n",
    "if new_img_array.ndim == 2:\n",
    "    new_img_array = cv2.cvtColor(new_img_array, cv2.COLOR_GRAY2BGR)\n",
    "new_img_array = cv2.resize(new_img_array,(224,224))\n",
    "\n",
    "\n",
    "\n",
    "\n",
    "dt = []\n",
    "dt.append(new_img_array)\n",
    "X = np.array(dt)\n",
    "X = X/255\n",
    "val = model.predict(X)\n",
    "print(\"Prediction :\",np.argmax(val,axis=1))"
   ]
  }
 ],
 "metadata": {
  "kernelspec": {
   "display_name": "gpu",
   "language": "python",
   "name": "gpu"
  },
  "language_info": {
   "codemirror_mode": {
    "name": "ipython",
    "version": 3
   },
   "file_extension": ".py",
   "mimetype": "text/x-python",
   "name": "python",
   "nbconvert_exporter": "python",
   "pygments_lexer": "ipython3",
   "version": "3.8.0"
  }
 },
 "nbformat": 4,
 "nbformat_minor": 5
}
