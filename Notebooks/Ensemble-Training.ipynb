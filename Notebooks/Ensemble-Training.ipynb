{
 "cells": [
  {
   "cell_type": "code",
   "execution_count": 1,
   "id": "334a497f",
   "metadata": {},
   "outputs": [],
   "source": [
    "import pandas as pd # Data analysis and manipultion tool\n",
    "import numpy as np # Fundamental package for linear algebra and multidimensional arrays\n",
    "import tensorflow as tf # Deep Learning Tool\n",
    "import os # OS module in Python provides a way of using operating system dependent functionality\n",
    "import cv2 # Library for image processing\n",
    "from sklearn.model_selection import train_test_split # For splitting the data into train and validation set\n",
    "from sklearn.metrics import f1_score\n",
    "import matplotlib.pyplot as plt\n",
    "import seaborn as sns"
   ]
  },
  {
   "cell_type": "code",
   "execution_count": 2,
   "id": "d2b572c8",
   "metadata": {},
   "outputs": [],
   "source": [
    "from imutils import build_montages\n",
    "from imutils import paths\n",
    "import random\n",
    "import cv2"
   ]
  },
  {
   "cell_type": "code",
   "execution_count": 3,
   "id": "5bdcc64a",
   "metadata": {},
   "outputs": [],
   "source": [
    "Data = pd.read_csv(r\"G:\\PYTHON\\FinalYr_Phase-2\\Meta_data.csv\")"
   ]
  },
  {
   "cell_type": "code",
   "execution_count": 4,
   "id": "905ba70c",
   "metadata": {},
   "outputs": [
    {
     "data": {
      "text/html": [
       "<div>\n",
       "<style scoped>\n",
       "    .dataframe tbody tr th:only-of-type {\n",
       "        vertical-align: middle;\n",
       "    }\n",
       "\n",
       "    .dataframe tbody tr th {\n",
       "        vertical-align: top;\n",
       "    }\n",
       "\n",
       "    .dataframe thead th {\n",
       "        text-align: right;\n",
       "    }\n",
       "</style>\n",
       "<table border=\"1\" class=\"dataframe\">\n",
       "  <thead>\n",
       "    <tr style=\"text-align: right;\">\n",
       "      <th></th>\n",
       "      <th>Unnamed: 0</th>\n",
       "      <th>path</th>\n",
       "      <th>value</th>\n",
       "    </tr>\n",
       "  </thead>\n",
       "  <tbody>\n",
       "    <tr>\n",
       "      <th>0</th>\n",
       "      <td>0</td>\n",
       "      <td>G:\\PYTHON\\FinalYr_Phase-2\\COVID\\COVID-1.png</td>\n",
       "      <td>0</td>\n",
       "    </tr>\n",
       "    <tr>\n",
       "      <th>1</th>\n",
       "      <td>1</td>\n",
       "      <td>G:\\PYTHON\\FinalYr_Phase-2\\COVID\\COVID-10.png</td>\n",
       "      <td>0</td>\n",
       "    </tr>\n",
       "    <tr>\n",
       "      <th>2</th>\n",
       "      <td>2</td>\n",
       "      <td>G:\\PYTHON\\FinalYr_Phase-2\\COVID\\COVID-100.png</td>\n",
       "      <td>0</td>\n",
       "    </tr>\n",
       "    <tr>\n",
       "      <th>3</th>\n",
       "      <td>3</td>\n",
       "      <td>G:\\PYTHON\\FinalYr_Phase-2\\COVID\\COVID-1000.png</td>\n",
       "      <td>0</td>\n",
       "    </tr>\n",
       "    <tr>\n",
       "      <th>4</th>\n",
       "      <td>4</td>\n",
       "      <td>G:\\PYTHON\\FinalYr_Phase-2\\COVID\\COVID-1001.png</td>\n",
       "      <td>0</td>\n",
       "    </tr>\n",
       "  </tbody>\n",
       "</table>\n",
       "</div>"
      ],
      "text/plain": [
       "   Unnamed: 0                                            path  value\n",
       "0           0     G:\\PYTHON\\FinalYr_Phase-2\\COVID\\COVID-1.png      0\n",
       "1           1    G:\\PYTHON\\FinalYr_Phase-2\\COVID\\COVID-10.png      0\n",
       "2           2   G:\\PYTHON\\FinalYr_Phase-2\\COVID\\COVID-100.png      0\n",
       "3           3  G:\\PYTHON\\FinalYr_Phase-2\\COVID\\COVID-1000.png      0\n",
       "4           4  G:\\PYTHON\\FinalYr_Phase-2\\COVID\\COVID-1001.png      0"
      ]
     },
     "execution_count": 4,
     "metadata": {},
     "output_type": "execute_result"
    }
   ],
   "source": [
    "Data.head()"
   ]
  },
  {
   "cell_type": "code",
   "execution_count": 5,
   "id": "839fe2f8",
   "metadata": {},
   "outputs": [],
   "source": [
    "Data.drop(Data.columns[0], axis=1, inplace=True)"
   ]
  },
  {
   "cell_type": "code",
   "execution_count": 6,
   "id": "98456776",
   "metadata": {},
   "outputs": [
    {
     "data": {
      "text/html": [
       "<div>\n",
       "<style scoped>\n",
       "    .dataframe tbody tr th:only-of-type {\n",
       "        vertical-align: middle;\n",
       "    }\n",
       "\n",
       "    .dataframe tbody tr th {\n",
       "        vertical-align: top;\n",
       "    }\n",
       "\n",
       "    .dataframe thead th {\n",
       "        text-align: right;\n",
       "    }\n",
       "</style>\n",
       "<table border=\"1\" class=\"dataframe\">\n",
       "  <thead>\n",
       "    <tr style=\"text-align: right;\">\n",
       "      <th></th>\n",
       "      <th>path</th>\n",
       "      <th>value</th>\n",
       "    </tr>\n",
       "  </thead>\n",
       "  <tbody>\n",
       "    <tr>\n",
       "      <th>0</th>\n",
       "      <td>G:\\PYTHON\\FinalYr_Phase-2\\COVID\\COVID-1.png</td>\n",
       "      <td>0</td>\n",
       "    </tr>\n",
       "    <tr>\n",
       "      <th>1</th>\n",
       "      <td>G:\\PYTHON\\FinalYr_Phase-2\\COVID\\COVID-10.png</td>\n",
       "      <td>0</td>\n",
       "    </tr>\n",
       "    <tr>\n",
       "      <th>2</th>\n",
       "      <td>G:\\PYTHON\\FinalYr_Phase-2\\COVID\\COVID-100.png</td>\n",
       "      <td>0</td>\n",
       "    </tr>\n",
       "    <tr>\n",
       "      <th>3</th>\n",
       "      <td>G:\\PYTHON\\FinalYr_Phase-2\\COVID\\COVID-1000.png</td>\n",
       "      <td>0</td>\n",
       "    </tr>\n",
       "    <tr>\n",
       "      <th>4</th>\n",
       "      <td>G:\\PYTHON\\FinalYr_Phase-2\\COVID\\COVID-1001.png</td>\n",
       "      <td>0</td>\n",
       "    </tr>\n",
       "  </tbody>\n",
       "</table>\n",
       "</div>"
      ],
      "text/plain": [
       "                                             path  value\n",
       "0     G:\\PYTHON\\FinalYr_Phase-2\\COVID\\COVID-1.png      0\n",
       "1    G:\\PYTHON\\FinalYr_Phase-2\\COVID\\COVID-10.png      0\n",
       "2   G:\\PYTHON\\FinalYr_Phase-2\\COVID\\COVID-100.png      0\n",
       "3  G:\\PYTHON\\FinalYr_Phase-2\\COVID\\COVID-1000.png      0\n",
       "4  G:\\PYTHON\\FinalYr_Phase-2\\COVID\\COVID-1001.png      0"
      ]
     },
     "execution_count": 6,
     "metadata": {},
     "output_type": "execute_result"
    }
   ],
   "source": [
    "Data.head()"
   ]
  },
  {
   "cell_type": "code",
   "execution_count": 7,
   "id": "42bc7458",
   "metadata": {},
   "outputs": [],
   "source": [
    "Data['split'] = np.random.randn(Data.shape[0], 1)\n",
    "\n",
    "msk = np.random.rand(len(Data)) <= 0.8\n",
    "\n",
    "train = Data[msk]\n",
    "test = Data[~msk]"
   ]
  },
  {
   "cell_type": "code",
   "execution_count": 8,
   "id": "cb52af61",
   "metadata": {},
   "outputs": [
    {
     "name": "stdout",
     "output_type": "stream",
     "text": [
      "0    2940\n",
      "2    2796\n",
      "1    1637\n",
      "Name: value, dtype: int64\n",
      "2    704\n",
      "0    676\n",
      "1    408\n",
      "Name: value, dtype: int64\n"
     ]
    }
   ],
   "source": [
    "print(train.value.value_counts())\n",
    "print(test.value.value_counts())"
   ]
  },
  {
   "cell_type": "code",
   "execution_count": 9,
   "id": "ad01968d",
   "metadata": {},
   "outputs": [],
   "source": [
    "train.reset_index(inplace=True)"
   ]
  },
  {
   "cell_type": "code",
   "execution_count": 10,
   "id": "d032da8f",
   "metadata": {},
   "outputs": [
    {
     "name": "stderr",
     "output_type": "stream",
     "text": [
      "C:\\Users\\Bhanu\\anaconda3\\envs\\gpu\\lib\\site-packages\\pandas\\core\\frame.py:4167: SettingWithCopyWarning: \n",
      "A value is trying to be set on a copy of a slice from a DataFrame\n",
      "\n",
      "See the caveats in the documentation: https://pandas.pydata.org/pandas-docs/stable/user_guide/indexing.html#returning-a-view-versus-a-copy\n",
      "  return super().drop(\n"
     ]
    },
    {
     "data": {
      "text/html": [
       "<div>\n",
       "<style scoped>\n",
       "    .dataframe tbody tr th:only-of-type {\n",
       "        vertical-align: middle;\n",
       "    }\n",
       "\n",
       "    .dataframe tbody tr th {\n",
       "        vertical-align: top;\n",
       "    }\n",
       "\n",
       "    .dataframe thead th {\n",
       "        text-align: right;\n",
       "    }\n",
       "</style>\n",
       "<table border=\"1\" class=\"dataframe\">\n",
       "  <thead>\n",
       "    <tr style=\"text-align: right;\">\n",
       "      <th></th>\n",
       "      <th>path</th>\n",
       "      <th>value</th>\n",
       "      <th>split</th>\n",
       "    </tr>\n",
       "  </thead>\n",
       "  <tbody>\n",
       "    <tr>\n",
       "      <th>0</th>\n",
       "      <td>G:\\PYTHON\\FinalYr_Phase-2\\COVID\\COVID-1.png</td>\n",
       "      <td>0</td>\n",
       "      <td>0.229576</td>\n",
       "    </tr>\n",
       "    <tr>\n",
       "      <th>1</th>\n",
       "      <td>G:\\PYTHON\\FinalYr_Phase-2\\COVID\\COVID-10.png</td>\n",
       "      <td>0</td>\n",
       "      <td>1.494493</td>\n",
       "    </tr>\n",
       "    <tr>\n",
       "      <th>2</th>\n",
       "      <td>G:\\PYTHON\\FinalYr_Phase-2\\COVID\\COVID-100.png</td>\n",
       "      <td>0</td>\n",
       "      <td>-0.859983</td>\n",
       "    </tr>\n",
       "    <tr>\n",
       "      <th>3</th>\n",
       "      <td>G:\\PYTHON\\FinalYr_Phase-2\\COVID\\COVID-1000.png</td>\n",
       "      <td>0</td>\n",
       "      <td>0.120788</td>\n",
       "    </tr>\n",
       "    <tr>\n",
       "      <th>4</th>\n",
       "      <td>G:\\PYTHON\\FinalYr_Phase-2\\COVID\\COVID-1002.png</td>\n",
       "      <td>0</td>\n",
       "      <td>-0.187933</td>\n",
       "    </tr>\n",
       "  </tbody>\n",
       "</table>\n",
       "</div>"
      ],
      "text/plain": [
       "                                             path  value     split\n",
       "0     G:\\PYTHON\\FinalYr_Phase-2\\COVID\\COVID-1.png      0  0.229576\n",
       "1    G:\\PYTHON\\FinalYr_Phase-2\\COVID\\COVID-10.png      0  1.494493\n",
       "2   G:\\PYTHON\\FinalYr_Phase-2\\COVID\\COVID-100.png      0 -0.859983\n",
       "3  G:\\PYTHON\\FinalYr_Phase-2\\COVID\\COVID-1000.png      0  0.120788\n",
       "4  G:\\PYTHON\\FinalYr_Phase-2\\COVID\\COVID-1002.png      0 -0.187933"
      ]
     },
     "execution_count": 10,
     "metadata": {},
     "output_type": "execute_result"
    }
   ],
   "source": [
    "train.drop(train.columns[0], axis=1, inplace=True)\n",
    "train.head()"
   ]
  },
  {
   "cell_type": "code",
   "execution_count": 11,
   "id": "915faf28",
   "metadata": {},
   "outputs": [],
   "source": [
    "data = []\n",
    "image_size = 224\n",
    "test_pixel_data = []\n",
    "import matplotlib.pyplot as plt\n",
    "from PIL import Image\n",
    "\n",
    "\n",
    "for i in range(len(train)):\n",
    "    img_array = Image.open(train['path'][i])\n",
    "    new_img_array = np.array(img_array)\n",
    "    if new_img_array.ndim == 2:\n",
    "        new_img_array = cv2.cvtColor(new_img_array, cv2.COLOR_GRAY2BGR)\n",
    "    new_img_array = cv2.resize(new_img_array,(224,224))\n",
    "    #print(i,np.array(new_img_array).shape,train['value'][i])\n",
    "    data.append([new_img_array, train['value'][i]])\n"
   ]
  },
  {
   "cell_type": "code",
   "execution_count": 12,
   "id": "f1ef42fe",
   "metadata": {},
   "outputs": [],
   "source": [
    "test.reset_index(inplace=True)"
   ]
  },
  {
   "cell_type": "code",
   "execution_count": 13,
   "id": "17cd5432",
   "metadata": {},
   "outputs": [
    {
     "name": "stderr",
     "output_type": "stream",
     "text": [
      "C:\\Users\\Bhanu\\anaconda3\\envs\\gpu\\lib\\site-packages\\pandas\\core\\frame.py:4167: SettingWithCopyWarning: \n",
      "A value is trying to be set on a copy of a slice from a DataFrame\n",
      "\n",
      "See the caveats in the documentation: https://pandas.pydata.org/pandas-docs/stable/user_guide/indexing.html#returning-a-view-versus-a-copy\n",
      "  return super().drop(\n"
     ]
    },
    {
     "data": {
      "text/html": [
       "<div>\n",
       "<style scoped>\n",
       "    .dataframe tbody tr th:only-of-type {\n",
       "        vertical-align: middle;\n",
       "    }\n",
       "\n",
       "    .dataframe tbody tr th {\n",
       "        vertical-align: top;\n",
       "    }\n",
       "\n",
       "    .dataframe thead th {\n",
       "        text-align: right;\n",
       "    }\n",
       "</style>\n",
       "<table border=\"1\" class=\"dataframe\">\n",
       "  <thead>\n",
       "    <tr style=\"text-align: right;\">\n",
       "      <th></th>\n",
       "      <th>path</th>\n",
       "      <th>value</th>\n",
       "      <th>split</th>\n",
       "    </tr>\n",
       "  </thead>\n",
       "  <tbody>\n",
       "    <tr>\n",
       "      <th>0</th>\n",
       "      <td>G:\\PYTHON\\FinalYr_Phase-2\\COVID\\COVID-1001.png</td>\n",
       "      <td>0</td>\n",
       "      <td>0.824739</td>\n",
       "    </tr>\n",
       "    <tr>\n",
       "      <th>1</th>\n",
       "      <td>G:\\PYTHON\\FinalYr_Phase-2\\COVID\\COVID-1009.png</td>\n",
       "      <td>0</td>\n",
       "      <td>-0.729516</td>\n",
       "    </tr>\n",
       "    <tr>\n",
       "      <th>2</th>\n",
       "      <td>G:\\PYTHON\\FinalYr_Phase-2\\COVID\\COVID-1012.png</td>\n",
       "      <td>0</td>\n",
       "      <td>-0.066611</td>\n",
       "    </tr>\n",
       "    <tr>\n",
       "      <th>3</th>\n",
       "      <td>G:\\PYTHON\\FinalYr_Phase-2\\COVID\\COVID-1023.png</td>\n",
       "      <td>0</td>\n",
       "      <td>-0.045713</td>\n",
       "    </tr>\n",
       "    <tr>\n",
       "      <th>4</th>\n",
       "      <td>G:\\PYTHON\\FinalYr_Phase-2\\COVID\\COVID-1027.png</td>\n",
       "      <td>0</td>\n",
       "      <td>-0.532875</td>\n",
       "    </tr>\n",
       "  </tbody>\n",
       "</table>\n",
       "</div>"
      ],
      "text/plain": [
       "                                             path  value     split\n",
       "0  G:\\PYTHON\\FinalYr_Phase-2\\COVID\\COVID-1001.png      0  0.824739\n",
       "1  G:\\PYTHON\\FinalYr_Phase-2\\COVID\\COVID-1009.png      0 -0.729516\n",
       "2  G:\\PYTHON\\FinalYr_Phase-2\\COVID\\COVID-1012.png      0 -0.066611\n",
       "3  G:\\PYTHON\\FinalYr_Phase-2\\COVID\\COVID-1023.png      0 -0.045713\n",
       "4  G:\\PYTHON\\FinalYr_Phase-2\\COVID\\COVID-1027.png      0 -0.532875"
      ]
     },
     "execution_count": 13,
     "metadata": {},
     "output_type": "execute_result"
    }
   ],
   "source": [
    "test.drop(test.columns[0], axis=1, inplace=True)\n",
    "test.head()"
   ]
  },
  {
   "cell_type": "code",
   "execution_count": 14,
   "id": "aefadd9b",
   "metadata": {},
   "outputs": [],
   "source": [
    "for i in range(len(test)):\n",
    "    img_array = Image.open(test['path'][i])\n",
    "    new_img_array = np.array(img_array)\n",
    "    if new_img_array.ndim == 2:\n",
    "        new_img_array = cv2.cvtColor(new_img_array, cv2.COLOR_GRAY2BGR)\n",
    "    new_img_array = cv2.resize(new_img_array,(224,224))\n",
    "    test_pixel_data.append(new_img_array)"
   ]
  },
  {
   "cell_type": "code",
   "execution_count": 15,
   "id": "b7b426ed",
   "metadata": {},
   "outputs": [],
   "source": [
    "np.random.shuffle(data)\n",
    "x = []\n",
    "y = []\n",
    "\n",
    "counter = 406\n",
    "count = 0\n",
    "\n",
    "for image in data:\n",
    "    try:\n",
    "        x.append(image[0])\n",
    "        y.append(image[1])\n",
    "    except:\n",
    "        print(count)\n",
    "    count += 1\n",
    "\n",
    "# converting x & y to numpy array as they are list\n",
    "x = np.array(x)\n",
    "y = np.array(y)"
   ]
  },
  {
   "cell_type": "code",
   "execution_count": 16,
   "id": "19706208",
   "metadata": {},
   "outputs": [
    {
     "data": {
      "text/plain": [
       "(array([0, 1, 2], dtype=int64), array([2940, 1637, 2796], dtype=int64))"
      ]
     },
     "execution_count": 16,
     "metadata": {},
     "output_type": "execute_result"
    }
   ],
   "source": [
    "np.unique(y, return_counts=True)"
   ]
  },
  {
   "cell_type": "code",
   "execution_count": 17,
   "id": "a361f18b",
   "metadata": {},
   "outputs": [
    {
     "data": {
      "text/plain": [
       "0    2940\n",
       "2    2796\n",
       "1    1637\n",
       "dtype: int64"
      ]
     },
     "execution_count": 17,
     "metadata": {},
     "output_type": "execute_result"
    }
   ],
   "source": [
    "pd.Series(y).value_counts()"
   ]
  },
  {
   "cell_type": "code",
   "execution_count": 18,
   "id": "c1810ccc",
   "metadata": {},
   "outputs": [],
   "source": [
    "X_train, X_val, y_train, y_val = train_test_split(x,y,test_size=0.2, random_state = 42,stratify=y)"
   ]
  },
  {
   "cell_type": "code",
   "execution_count": 19,
   "id": "65471f99",
   "metadata": {},
   "outputs": [],
   "source": [
    "from keras.utils.np_utils import to_categorical\n",
    "y_train = to_categorical(y_train)\n",
    "y_val = to_categorical(y_val)"
   ]
  },
  {
   "cell_type": "code",
   "execution_count": 20,
   "id": "a7e864ea",
   "metadata": {},
   "outputs": [
    {
     "name": "stdout",
     "output_type": "stream",
     "text": [
      "(5898, 224, 224, 3) (1475, 224, 224, 3) (1788, 224, 224, 3)\n"
     ]
    }
   ],
   "source": [
    "test_pixel_data = np.array(test_pixel_data)\n",
    "\n",
    "test_pixel_data = test_pixel_data/255\n",
    "\n",
    "print(X_train.shape,X_val.shape,test_pixel_data.shape)"
   ]
  },
  {
   "cell_type": "code",
   "execution_count": 21,
   "id": "9bbd63a5",
   "metadata": {},
   "outputs": [],
   "source": [
    "train_datagen = tf.keras.preprocessing.image.ImageDataGenerator(rescale=1.0/255.0)\n",
    "\n",
    "val_datagen = tf.keras.preprocessing.image.ImageDataGenerator(rescale=1.0/255.0)\n",
    "\n",
    "train_generator = train_datagen.flow(X_train,y_train,batch_size=8)\n",
    "\n",
    "val_generator = val_datagen.flow(X_val,y_val,batch_size=8)"
   ]
  },
  {
   "cell_type": "code",
   "execution_count": 22,
   "id": "a0172d31",
   "metadata": {},
   "outputs": [
    {
     "name": "stdout",
     "output_type": "stream",
     "text": [
      "(5898, 224, 224, 3) (5898, 3) (1475, 224, 224, 3)\n"
     ]
    }
   ],
   "source": [
    "print(X_train.shape,y_train.shape,X_val.shape)"
   ]
  },
  {
   "cell_type": "code",
   "execution_count": null,
   "id": "b1c31916",
   "metadata": {},
   "outputs": [],
   "source": []
  },
  {
   "cell_type": "code",
   "execution_count": 32,
   "id": "d4a73a84",
   "metadata": {},
   "outputs": [],
   "source": [
    "Y_VAL = np.array(list(pd.DataFrame(y_val).idxmax(axis=1)))"
   ]
  },
  {
   "cell_type": "code",
   "execution_count": 23,
   "id": "52e6d315",
   "metadata": {},
   "outputs": [],
   "source": [
    "import tensorflow as tf\n",
    "from keras.models import load_model\n",
    "import numpy as np\n",
    "from keras.preprocessing import image\n",
    "from sklearn.metrics import accuracy_score,r2_score"
   ]
  },
  {
   "cell_type": "code",
   "execution_count": 24,
   "id": "ac8ddbc8",
   "metadata": {},
   "outputs": [],
   "source": [
    "# 224\n",
    "model_den = load_model(\"G:\\\\PYTHON\\\\FinalYr_Phase-2\\\\weights\\\\Dense_net.h5\")\n",
    "model_res = load_model(\"G:\\\\PYTHON\\\\FinalYr_Phase-2\\\\weights\\\\ResNet50.h5\")\n",
    "model_inc = load_model(\"G:\\\\PYTHON\\\\FinalYr_Phase-2\\\\weights\\\\incpetion_v3.h5\")\n",
    "model_vg16 = load_model(\"G:\\\\PYTHON\\\\FinalYr_Phase-2\\\\weights\\\\VGG16.h5\")"
   ]
  },
  {
   "cell_type": "code",
   "execution_count": 25,
   "id": "e4549b56",
   "metadata": {},
   "outputs": [],
   "source": [
    "model_store = {\n",
    "    \"DenseNet\": model_den,\n",
    "    \"ResNet\" : model_res,\n",
    "    \"Inception\" : model_inc,\n",
    "    \"VGG16\":model_vg16\n",
    "}\n",
    "model_store_name = [\"DenseNet\",\"ResNet\",\"Inception\",\"VGG16\"]"
   ]
  },
  {
   "cell_type": "code",
   "execution_count": 28,
   "id": "b770e34d",
   "metadata": {},
   "outputs": [],
   "source": [
    "from sklearn.metrics import confusion_matrix,classification_report\n",
    "from tqdm import tqdm\n",
    "import time\n",
    "import warnings\n",
    "warnings.filterwarnings(\"ignore\")"
   ]
  },
  {
   "cell_type": "code",
   "execution_count": 29,
   "id": "937ac087",
   "metadata": {},
   "outputs": [],
   "source": [
    "def confusionMatrix(Y_VAL,predictions):\n",
    "    conf_matrix = confusion_matrix(Y_VAL,predictions)\n",
    "    fig, ax = plt.subplots(figsize=(7.5, 7.5))\n",
    "    ax.matshow(conf_matrix, cmap=plt.cm.Blues, alpha=0.3)\n",
    "    for i in range(conf_matrix.shape[0]):\n",
    "        for j in range(conf_matrix.shape[1]):\n",
    "            ax.text(x=j, y=i,s=conf_matrix[i, j], va='center', ha='center', size='xx-large')\n",
    "\n",
    "    plt.xlabel('Predictions', fontsize=18)\n",
    "    plt.ylabel('Actuals', fontsize=18)\n",
    "    plt.title('Confusion Matrix', fontsize=18)\n",
    "    plt.show()"
   ]
  },
  {
   "cell_type": "code",
   "execution_count": 37,
   "id": "0284934e",
   "metadata": {},
   "outputs": [
    {
     "name": "stderr",
     "output_type": "stream",
     "text": [
      "\r",
      "  0%|                                                                                            | 0/3 [00:00<?, ?it/s]"
     ]
    },
    {
     "name": "stdout",
     "output_type": "stream",
     "text": [
      "DenseNet ResNet\n",
      "\n"
     ]
    },
    {
     "data": {
      "image/png": "[encoded data removed]",
      "text/plain": [
       "<Figure size 540x540 with 1 Axes>"
      ]
     },
     "metadata": {
      "needs_background": "light"
     },
     "output_type": "display_data"
    },
    {
     "name": "stdout",
     "output_type": "stream",
     "text": [
      "None\n",
      "              precision    recall  f1-score   support\n",
      "\n",
      "       COVID       0.87      1.00      0.93       588\n",
      "   Non_COVID       1.00      0.86      0.93       328\n",
      "      Normal       1.00      0.93      0.96       559\n",
      "\n",
      "    accuracy                           0.94      1475\n",
      "   macro avg       0.96      0.93      0.94      1475\n",
      "weighted avg       0.95      0.94      0.94      1475\n",
      "\n",
      "DenseNet Inception\n",
      "\n"
     ]
    },
    {
     "data": {
      "image/png": "[encoded data removed]",
      "text/plain": [
       "<Figure size 540x540 with 1 Axes>"
      ]
     },
     "metadata": {
      "needs_background": "light"
     },
     "output_type": "display_data"
    },
    {
     "name": "stdout",
     "output_type": "stream",
     "text": [
      "None\n",
      "              precision    recall  f1-score   support\n",
      "\n",
      "       COVID       0.99      0.99      0.99       588\n",
      "   Non_COVID       0.99      0.98      0.99       328\n",
      "      Normal       0.99      1.00      1.00       559\n",
      "\n",
      "    accuracy                           0.99      1475\n",
      "   macro avg       0.99      0.99      0.99      1475\n",
      "weighted avg       0.99      0.99      0.99      1475\n",
      "\n",
      "DenseNet VGG16\n",
      "\n"
     ]
    },
    {
     "data": {
      "image/png": "[encoded data removed]",
      "text/plain": [
       "<Figure size 540x540 with 1 Axes>"
      ]
     },
     "metadata": {
      "needs_background": "light"
     },
     "output_type": "display_data"
    },
    {
     "name": "stderr",
     "output_type": "stream",
     "text": [
      "\r",
      " 33%|███████████████████████████▋                                                       | 1/3 [12:26<24:52, 746.20s/it]"
     ]
    },
    {
     "name": "stdout",
     "output_type": "stream",
     "text": [
      "None\n",
      "              precision    recall  f1-score   support\n",
      "\n",
      "       COVID       0.72      1.00      0.84       588\n",
      "   Non_COVID       1.00      0.66      0.80       328\n",
      "      Normal       1.00      0.79      0.88       559\n",
      "\n",
      "    accuracy                           0.84      1475\n",
      "   macro avg       0.91      0.82      0.84      1475\n",
      "weighted avg       0.89      0.84      0.85      1475\n",
      "\n",
      "ResNet Inception\n",
      "\n"
     ]
    },
    {
     "data": {
      "image/png": "[encoded data removed]",
      "text/plain": [
       "<Figure size 540x540 with 1 Axes>"
      ]
     },
     "metadata": {
      "needs_background": "light"
     },
     "output_type": "display_data"
    },
    {
     "name": "stdout",
     "output_type": "stream",
     "text": [
      "None\n",
      "              precision    recall  f1-score   support\n",
      "\n",
      "       COVID       0.48      1.00      0.65       588\n",
      "   Non_COVID       1.00      0.77      0.87       328\n",
      "      Normal       0.00      0.00      0.00       559\n",
      "\n",
      "    accuracy                           0.57      1475\n",
      "   macro avg       0.49      0.59      0.51      1475\n",
      "weighted avg       0.41      0.57      0.45      1475\n",
      "\n",
      "ResNet VGG16\n",
      "\n"
     ]
    },
    {
     "data": {
      "image/png": "[encoded data removed]",
      "text/plain": [
       "<Figure size 540x540 with 1 Axes>"
      ]
     },
     "metadata": {
      "needs_background": "light"
     },
     "output_type": "display_data"
    },
    {
     "name": "stderr",
     "output_type": "stream",
     "text": [
      "\r",
      " 67%|███████████████████████████████████████████████████████▎                           | 2/3 [19:10<09:04, 544.88s/it]"
     ]
    },
    {
     "name": "stdout",
     "output_type": "stream",
     "text": [
      "None\n",
      "              precision    recall  f1-score   support\n",
      "\n",
      "       COVID       0.42      1.00      0.59       588\n",
      "   Non_COVID       1.00      0.19      0.31       328\n",
      "      Normal       0.00      0.00      0.00       559\n",
      "\n",
      "    accuracy                           0.44      1475\n",
      "   macro avg       0.47      0.40      0.30      1475\n",
      "weighted avg       0.39      0.44      0.30      1475\n",
      "\n",
      "Inception VGG16\n",
      "\n"
     ]
    },
    {
     "data": {
      "image/png": "[encoded data removed]",
      "text/plain": [
       "<Figure size 540x540 with 1 Axes>"
      ]
     },
     "metadata": {
      "needs_background": "light"
     },
     "output_type": "display_data"
    },
    {
     "name": "stderr",
     "output_type": "stream",
     "text": [
      "100%|███████████████████████████████████████████████████████████████████████████████████| 3/3 [22:37<00:00, 452.52s/it]"
     ]
    },
    {
     "name": "stdout",
     "output_type": "stream",
     "text": [
      "None\n",
      "              precision    recall  f1-score   support\n",
      "\n",
      "       COVID       0.44      1.00      0.61       588\n",
      "   Non_COVID       1.00      0.37      0.54       328\n",
      "      Normal       1.00      0.02      0.05       559\n",
      "\n",
      "    accuracy                           0.49      1475\n",
      "   macro avg       0.81      0.46      0.40      1475\n",
      "weighted avg       0.78      0.49      0.38      1475\n",
      "\n"
     ]
    },
    {
     "name": "stderr",
     "output_type": "stream",
     "text": [
      "\n"
     ]
    }
   ],
   "source": [
    "for ptr1 in tqdm(range(len(model_store_name)-1)):\n",
    "    for ptr2 in range(ptr1+1,len(model_store_name)):\n",
    "        print(model_store_name[ptr1],model_store_name[ptr2])\n",
    "        print()\n",
    "        model1 = model_store[model_store_name[ptr1]]\n",
    "        model2 = model_store[model_store_name[ptr2]]\n",
    "        store = []\n",
    "        for img in X_val:\n",
    "            dt = []\n",
    "            dt.append(img)\n",
    "            X = np.array(dt)\n",
    "            X = X/255\n",
    "            preds = [model1.predict(X), model2.predict(X)]\n",
    "            weights = [0.5,0.5]\n",
    "            weighted_preds = np.tensordot(preds, weights, axes=((0),(0)))\n",
    "            store.append(np.argmax(weighted_preds,axis=1))\n",
    "        #print(store,Y_VAL)\n",
    "        print(confusionMatrix(Y_VAL,store))\n",
    "        target_names = [\"COVID\",\"Non_COVID\",\"Normal\"]\n",
    "        print(classification_report(Y_VAL,store, target_names=target_names))"
   ]
  },
  {
   "cell_type": "code",
   "execution_count": null,
   "id": "b30fa1d1",
   "metadata": {},
   "outputs": [],
   "source": []
  },
  {
   "cell_type": "code",
   "execution_count": null,
   "id": "9d512c49",
   "metadata": {},
   "outputs": [],
   "source": []
  },
  {
   "cell_type": "code",
   "execution_count": null,
   "id": "0386e94c",
   "metadata": {},
   "outputs": [],
   "source": []
  },
  {
   "cell_type": "code",
   "execution_count": 38,
   "id": "202ae592",
   "metadata": {},
   "outputs": [
    {
     "name": "stdout",
     "output_type": "stream",
     "text": [
      "Prediction : [1]\n"
     ]
    }
   ],
   "source": [
    "%matplotlib inline\n",
    "# get sample image to test.\n",
    "import numpy as np\n",
    "import cv2\n",
    "import matplotlib.pyplot as plt\n",
    "\n",
    "img_covid = 'G:\\\\PYTHON\\\\Final_year_project\\\\Final\\\\covid_image_data\\\\covid_image_data\\\\Images\\\\COVID\\\\COVID-3.png'\n",
    "img_normal = 'G:\\\\PYTHON\\\\FinalYr_Phase-2\\\\Normal\\\\Normal-99.png'\n",
    "img_test = 'G:\\\\PYTHON\\\\FinalYr_Phase-2\\\\NON_COVID\\\\Non_COVID-15.png'\n",
    "\n",
    "img_array = Image.open(img_test)\n",
    "new_img_array = np.array(img_array)\n",
    "if new_img_array.ndim == 2:\n",
    "    new_img_array = cv2.cvtColor(new_img_array, cv2.COLOR_GRAY2BGR)\n",
    "new_img_array = cv2.resize(new_img_array,(224,224))\n",
    "\n",
    "\n",
    "\n",
    "\n",
    "dt = []\n",
    "dt.append(new_img_array)\n",
    "X = np.array(dt)\n",
    "X = X/255\n",
    "val = model.predict(X)\n",
    "print(\"Prediction :\",np.argmax(val,axis=1))"
   ]
  }
 ],
 "metadata": {
  "kernelspec": {
   "display_name": "gpu",
   "language": "python",
   "name": "gpu"
  },
  "language_info": {
   "codemirror_mode": {
    "name": "ipython",
    "version": 3
   },
   "file_extension": ".py",
   "mimetype": "text/x-python",
   "name": "python",
   "nbconvert_exporter": "python",
   "pygments_lexer": "ipython3",
   "version": "3.8.0"
  }
 },
 "nbformat": 4,
 "nbformat_minor": 5
}
