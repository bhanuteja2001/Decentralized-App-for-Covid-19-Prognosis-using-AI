{
 "cells": [
  {
   "cell_type": "code",
   "execution_count": 1,
   "id": "334a497f",
   "metadata": {},
   "outputs": [],
   "source": [
    "import pandas as pd # Data analysis and manipultion tool\n",
    "import numpy as np # Fundamental package for linear algebra and multidimensional arrays\n",
    "import tensorflow as tf # Deep Learning Tool\n",
    "import os # OS module in Python provides a way of using operating system dependent functionality\n",
    "import cv2 # Library for image processing\n",
    "from sklearn.model_selection import train_test_split # For splitting the data into train and validation set\n",
    "from sklearn.metrics import f1_score\n",
    "import matplotlib.pyplot as plt\n",
    "import seaborn as sns"
   ]
  },
  {
   "cell_type": "code",
   "execution_count": 2,
   "id": "d2b572c8",
   "metadata": {},
   "outputs": [],
   "source": [
    "from imutils import build_montages\n",
    "from imutils import paths\n",
    "import random\n",
    "import cv2"
   ]
  },
  {
   "cell_type": "code",
   "execution_count": 3,
   "id": "5bdcc64a",
   "metadata": {},
   "outputs": [],
   "source": [
    "Data = pd.read_csv(r\"G:\\PYTHON\\FinalYr_Phase-2\\Meta_data.csv\")"
   ]
  },
  {
   "cell_type": "code",
   "execution_count": 4,
   "id": "905ba70c",
   "metadata": {},
   "outputs": [
    {
     "data": {
      "text/html": [
       "<div>\n",
       "<style scoped>\n",
       "    .dataframe tbody tr th:only-of-type {\n",
       "        vertical-align: middle;\n",
       "    }\n",
       "\n",
       "    .dataframe tbody tr th {\n",
       "        vertical-align: top;\n",
       "    }\n",
       "\n",
       "    .dataframe thead th {\n",
       "        text-align: right;\n",
       "    }\n",
       "</style>\n",
       "<table border=\"1\" class=\"dataframe\">\n",
       "  <thead>\n",
       "    <tr style=\"text-align: right;\">\n",
       "      <th></th>\n",
       "      <th>Unnamed: 0</th>\n",
       "      <th>path</th>\n",
       "      <th>value</th>\n",
       "    </tr>\n",
       "  </thead>\n",
       "  <tbody>\n",
       "    <tr>\n",
       "      <th>0</th>\n",
       "      <td>0</td>\n",
       "      <td>G:\\PYTHON\\FinalYr_Phase-2\\COVID\\COVID-1.png</td>\n",
       "      <td>0</td>\n",
       "    </tr>\n",
       "    <tr>\n",
       "      <th>1</th>\n",
       "      <td>1</td>\n",
       "      <td>G:\\PYTHON\\FinalYr_Phase-2\\COVID\\COVID-10.png</td>\n",
       "      <td>0</td>\n",
       "    </tr>\n",
       "    <tr>\n",
       "      <th>2</th>\n",
       "      <td>2</td>\n",
       "      <td>G:\\PYTHON\\FinalYr_Phase-2\\COVID\\COVID-100.png</td>\n",
       "      <td>0</td>\n",
       "    </tr>\n",
       "    <tr>\n",
       "      <th>3</th>\n",
       "      <td>3</td>\n",
       "      <td>G:\\PYTHON\\FinalYr_Phase-2\\COVID\\COVID-1000.png</td>\n",
       "      <td>0</td>\n",
       "    </tr>\n",
       "    <tr>\n",
       "      <th>4</th>\n",
       "      <td>4</td>\n",
       "      <td>G:\\PYTHON\\FinalYr_Phase-2\\COVID\\COVID-1001.png</td>\n",
       "      <td>0</td>\n",
       "    </tr>\n",
       "  </tbody>\n",
       "</table>\n",
       "</div>"
      ],
      "text/plain": [
       "   Unnamed: 0                                            path  value\n",
       "0           0     G:\\PYTHON\\FinalYr_Phase-2\\COVID\\COVID-1.png      0\n",
       "1           1    G:\\PYTHON\\FinalYr_Phase-2\\COVID\\COVID-10.png      0\n",
       "2           2   G:\\PYTHON\\FinalYr_Phase-2\\COVID\\COVID-100.png      0\n",
       "3           3  G:\\PYTHON\\FinalYr_Phase-2\\COVID\\COVID-1000.png      0\n",
       "4           4  G:\\PYTHON\\FinalYr_Phase-2\\COVID\\COVID-1001.png      0"
      ]
     },
     "execution_count": 4,
     "metadata": {},
     "output_type": "execute_result"
    }
   ],
   "source": [
    "Data.head()"
   ]
  },
  {
   "cell_type": "code",
   "execution_count": 5,
   "id": "839fe2f8",
   "metadata": {},
   "outputs": [],
   "source": [
    "Data.drop(Data.columns[0], axis=1, inplace=True)"
   ]
  },
  {
   "cell_type": "code",
   "execution_count": 6,
   "id": "98456776",
   "metadata": {},
   "outputs": [
    {
     "data": {
      "text/html": [
       "<div>\n",
       "<style scoped>\n",
       "    .dataframe tbody tr th:only-of-type {\n",
       "        vertical-align: middle;\n",
       "    }\n",
       "\n",
       "    .dataframe tbody tr th {\n",
       "        vertical-align: top;\n",
       "    }\n",
       "\n",
       "    .dataframe thead th {\n",
       "        text-align: right;\n",
       "    }\n",
       "</style>\n",
       "<table border=\"1\" class=\"dataframe\">\n",
       "  <thead>\n",
       "    <tr style=\"text-align: right;\">\n",
       "      <th></th>\n",
       "      <th>path</th>\n",
       "      <th>value</th>\n",
       "    </tr>\n",
       "  </thead>\n",
       "  <tbody>\n",
       "    <tr>\n",
       "      <th>0</th>\n",
       "      <td>G:\\PYTHON\\FinalYr_Phase-2\\COVID\\COVID-1.png</td>\n",
       "      <td>0</td>\n",
       "    </tr>\n",
       "    <tr>\n",
       "      <th>1</th>\n",
       "      <td>G:\\PYTHON\\FinalYr_Phase-2\\COVID\\COVID-10.png</td>\n",
       "      <td>0</td>\n",
       "    </tr>\n",
       "    <tr>\n",
       "      <th>2</th>\n",
       "      <td>G:\\PYTHON\\FinalYr_Phase-2\\COVID\\COVID-100.png</td>\n",
       "      <td>0</td>\n",
       "    </tr>\n",
       "    <tr>\n",
       "      <th>3</th>\n",
       "      <td>G:\\PYTHON\\FinalYr_Phase-2\\COVID\\COVID-1000.png</td>\n",
       "      <td>0</td>\n",
       "    </tr>\n",
       "    <tr>\n",
       "      <th>4</th>\n",
       "      <td>G:\\PYTHON\\FinalYr_Phase-2\\COVID\\COVID-1001.png</td>\n",
       "      <td>0</td>\n",
       "    </tr>\n",
       "  </tbody>\n",
       "</table>\n",
       "</div>"
      ],
      "text/plain": [
       "                                             path  value\n",
       "0     G:\\PYTHON\\FinalYr_Phase-2\\COVID\\COVID-1.png      0\n",
       "1    G:\\PYTHON\\FinalYr_Phase-2\\COVID\\COVID-10.png      0\n",
       "2   G:\\PYTHON\\FinalYr_Phase-2\\COVID\\COVID-100.png      0\n",
       "3  G:\\PYTHON\\FinalYr_Phase-2\\COVID\\COVID-1000.png      0\n",
       "4  G:\\PYTHON\\FinalYr_Phase-2\\COVID\\COVID-1001.png      0"
      ]
     },
     "execution_count": 6,
     "metadata": {},
     "output_type": "execute_result"
    }
   ],
   "source": [
    "Data.head()"
   ]
  },
  {
   "cell_type": "code",
   "execution_count": 7,
   "id": "42bc7458",
   "metadata": {},
   "outputs": [],
   "source": [
    "Data['split'] = np.random.randn(Data.shape[0], 1)\n",
    "\n",
    "msk = np.random.rand(len(Data)) <= 0.8\n",
    "\n",
    "train = Data[msk]\n",
    "test = Data[~msk]"
   ]
  },
  {
   "cell_type": "code",
   "execution_count": 8,
   "id": "cb52af61",
   "metadata": {},
   "outputs": [
    {
     "name": "stdout",
     "output_type": "stream",
     "text": [
      "0    2920\n",
      "2    2828\n",
      "1    1623\n",
      "Name: value, dtype: int64\n",
      "0    696\n",
      "2    672\n",
      "1    422\n",
      "Name: value, dtype: int64\n"
     ]
    }
   ],
   "source": [
    "print(train.value.value_counts())\n",
    "print(test.value.value_counts())"
   ]
  },
  {
   "cell_type": "code",
   "execution_count": 9,
   "id": "ad01968d",
   "metadata": {},
   "outputs": [],
   "source": [
    "train.reset_index(inplace=True)"
   ]
  },
  {
   "cell_type": "code",
   "execution_count": 10,
   "id": "d032da8f",
   "metadata": {},
   "outputs": [
    {
     "name": "stderr",
     "output_type": "stream",
     "text": [
      "C:\\Users\\Bhanu\\anaconda3\\envs\\gpu\\lib\\site-packages\\pandas\\core\\frame.py:4167: SettingWithCopyWarning: \n",
      "A value is trying to be set on a copy of a slice from a DataFrame\n",
      "\n",
      "See the caveats in the documentation: https://pandas.pydata.org/pandas-docs/stable/user_guide/indexing.html#returning-a-view-versus-a-copy\n",
      "  return super().drop(\n"
     ]
    },
    {
     "data": {
      "text/html": [
       "<div>\n",
       "<style scoped>\n",
       "    .dataframe tbody tr th:only-of-type {\n",
       "        vertical-align: middle;\n",
       "    }\n",
       "\n",
       "    .dataframe tbody tr th {\n",
       "        vertical-align: top;\n",
       "    }\n",
       "\n",
       "    .dataframe thead th {\n",
       "        text-align: right;\n",
       "    }\n",
       "</style>\n",
       "<table border=\"1\" class=\"dataframe\">\n",
       "  <thead>\n",
       "    <tr style=\"text-align: right;\">\n",
       "      <th></th>\n",
       "      <th>path</th>\n",
       "      <th>value</th>\n",
       "      <th>split</th>\n",
       "    </tr>\n",
       "  </thead>\n",
       "  <tbody>\n",
       "    <tr>\n",
       "      <th>0</th>\n",
       "      <td>G:\\PYTHON\\FinalYr_Phase-2\\COVID\\COVID-10.png</td>\n",
       "      <td>0</td>\n",
       "      <td>-1.376972</td>\n",
       "    </tr>\n",
       "    <tr>\n",
       "      <th>1</th>\n",
       "      <td>G:\\PYTHON\\FinalYr_Phase-2\\COVID\\COVID-1001.png</td>\n",
       "      <td>0</td>\n",
       "      <td>-1.415810</td>\n",
       "    </tr>\n",
       "    <tr>\n",
       "      <th>2</th>\n",
       "      <td>G:\\PYTHON\\FinalYr_Phase-2\\COVID\\COVID-1003.png</td>\n",
       "      <td>0</td>\n",
       "      <td>-0.862758</td>\n",
       "    </tr>\n",
       "    <tr>\n",
       "      <th>3</th>\n",
       "      <td>G:\\PYTHON\\FinalYr_Phase-2\\COVID\\COVID-1004.png</td>\n",
       "      <td>0</td>\n",
       "      <td>-0.114476</td>\n",
       "    </tr>\n",
       "    <tr>\n",
       "      <th>4</th>\n",
       "      <td>G:\\PYTHON\\FinalYr_Phase-2\\COVID\\COVID-1005.png</td>\n",
       "      <td>0</td>\n",
       "      <td>1.010237</td>\n",
       "    </tr>\n",
       "  </tbody>\n",
       "</table>\n",
       "</div>"
      ],
      "text/plain": [
       "                                             path  value     split\n",
       "0    G:\\PYTHON\\FinalYr_Phase-2\\COVID\\COVID-10.png      0 -1.376972\n",
       "1  G:\\PYTHON\\FinalYr_Phase-2\\COVID\\COVID-1001.png      0 -1.415810\n",
       "2  G:\\PYTHON\\FinalYr_Phase-2\\COVID\\COVID-1003.png      0 -0.862758\n",
       "3  G:\\PYTHON\\FinalYr_Phase-2\\COVID\\COVID-1004.png      0 -0.114476\n",
       "4  G:\\PYTHON\\FinalYr_Phase-2\\COVID\\COVID-1005.png      0  1.010237"
      ]
     },
     "execution_count": 10,
     "metadata": {},
     "output_type": "execute_result"
    }
   ],
   "source": [
    "train.drop(train.columns[0], axis=1, inplace=True)\n",
    "train.head()"
   ]
  },
  {
   "cell_type": "code",
   "execution_count": 11,
   "id": "915faf28",
   "metadata": {},
   "outputs": [],
   "source": [
    "data = []\n",
    "image_size = 224\n",
    "test_pixel_data = []\n",
    "import matplotlib.pyplot as plt\n",
    "from PIL import Image\n",
    "\n",
    "\n",
    "for i in range(len(train)):\n",
    "    img_array = Image.open(train['path'][i])\n",
    "    new_img_array = np.array(img_array)\n",
    "    if new_img_array.ndim == 2:\n",
    "        new_img_array = cv2.cvtColor(new_img_array, cv2.COLOR_GRAY2BGR)\n",
    "    new_img_array = cv2.resize(new_img_array,(224,224))\n",
    "    #print(i,np.array(new_img_array).shape,train['value'][i])\n",
    "    data.append([new_img_array, train['value'][i]])\n"
   ]
  },
  {
   "cell_type": "code",
   "execution_count": 12,
   "id": "f1ef42fe",
   "metadata": {},
   "outputs": [],
   "source": [
    "test.reset_index(inplace=True)"
   ]
  },
  {
   "cell_type": "code",
   "execution_count": 13,
   "id": "17cd5432",
   "metadata": {},
   "outputs": [
    {
     "name": "stderr",
     "output_type": "stream",
     "text": [
      "C:\\Users\\Bhanu\\anaconda3\\envs\\gpu\\lib\\site-packages\\pandas\\core\\frame.py:4167: SettingWithCopyWarning: \n",
      "A value is trying to be set on a copy of a slice from a DataFrame\n",
      "\n",
      "See the caveats in the documentation: https://pandas.pydata.org/pandas-docs/stable/user_guide/indexing.html#returning-a-view-versus-a-copy\n",
      "  return super().drop(\n"
     ]
    },
    {
     "data": {
      "text/html": [
       "<div>\n",
       "<style scoped>\n",
       "    .dataframe tbody tr th:only-of-type {\n",
       "        vertical-align: middle;\n",
       "    }\n",
       "\n",
       "    .dataframe tbody tr th {\n",
       "        vertical-align: top;\n",
       "    }\n",
       "\n",
       "    .dataframe thead th {\n",
       "        text-align: right;\n",
       "    }\n",
       "</style>\n",
       "<table border=\"1\" class=\"dataframe\">\n",
       "  <thead>\n",
       "    <tr style=\"text-align: right;\">\n",
       "      <th></th>\n",
       "      <th>path</th>\n",
       "      <th>value</th>\n",
       "      <th>split</th>\n",
       "    </tr>\n",
       "  </thead>\n",
       "  <tbody>\n",
       "    <tr>\n",
       "      <th>0</th>\n",
       "      <td>G:\\PYTHON\\FinalYr_Phase-2\\COVID\\COVID-1.png</td>\n",
       "      <td>0</td>\n",
       "      <td>0.752271</td>\n",
       "    </tr>\n",
       "    <tr>\n",
       "      <th>1</th>\n",
       "      <td>G:\\PYTHON\\FinalYr_Phase-2\\COVID\\COVID-100.png</td>\n",
       "      <td>0</td>\n",
       "      <td>-0.246819</td>\n",
       "    </tr>\n",
       "    <tr>\n",
       "      <th>2</th>\n",
       "      <td>G:\\PYTHON\\FinalYr_Phase-2\\COVID\\COVID-1000.png</td>\n",
       "      <td>0</td>\n",
       "      <td>2.014680</td>\n",
       "    </tr>\n",
       "    <tr>\n",
       "      <th>3</th>\n",
       "      <td>G:\\PYTHON\\FinalYr_Phase-2\\COVID\\COVID-1002.png</td>\n",
       "      <td>0</td>\n",
       "      <td>-0.137689</td>\n",
       "    </tr>\n",
       "    <tr>\n",
       "      <th>4</th>\n",
       "      <td>G:\\PYTHON\\FinalYr_Phase-2\\COVID\\COVID-1010.png</td>\n",
       "      <td>0</td>\n",
       "      <td>-1.264896</td>\n",
       "    </tr>\n",
       "  </tbody>\n",
       "</table>\n",
       "</div>"
      ],
      "text/plain": [
       "                                             path  value     split\n",
       "0     G:\\PYTHON\\FinalYr_Phase-2\\COVID\\COVID-1.png      0  0.752271\n",
       "1   G:\\PYTHON\\FinalYr_Phase-2\\COVID\\COVID-100.png      0 -0.246819\n",
       "2  G:\\PYTHON\\FinalYr_Phase-2\\COVID\\COVID-1000.png      0  2.014680\n",
       "3  G:\\PYTHON\\FinalYr_Phase-2\\COVID\\COVID-1002.png      0 -0.137689\n",
       "4  G:\\PYTHON\\FinalYr_Phase-2\\COVID\\COVID-1010.png      0 -1.264896"
      ]
     },
     "execution_count": 13,
     "metadata": {},
     "output_type": "execute_result"
    }
   ],
   "source": [
    "test.drop(test.columns[0], axis=1, inplace=True)\n",
    "test.head()"
   ]
  },
  {
   "cell_type": "code",
   "execution_count": 14,
   "id": "aefadd9b",
   "metadata": {},
   "outputs": [],
   "source": [
    "for i in range(len(test)):\n",
    "    img_array = Image.open(test['path'][i])\n",
    "    new_img_array = np.array(img_array)\n",
    "    if new_img_array.ndim == 2:\n",
    "        new_img_array = cv2.cvtColor(new_img_array, cv2.COLOR_GRAY2BGR)\n",
    "    new_img_array = cv2.resize(new_img_array,(224,224))\n",
    "    test_pixel_data.append(new_img_array)"
   ]
  },
  {
   "cell_type": "code",
   "execution_count": 15,
   "id": "b7b426ed",
   "metadata": {},
   "outputs": [],
   "source": [
    "np.random.shuffle(data)\n",
    "x = []\n",
    "y = []\n",
    "\n",
    "counter = 406\n",
    "count = 0\n",
    "\n",
    "for image in data:\n",
    "    try:\n",
    "        x.append(image[0])\n",
    "        y.append(image[1])\n",
    "    except:\n",
    "        print(count)\n",
    "    count += 1\n",
    "\n",
    "# converting x & y to numpy array as they are list\n",
    "x = np.array(x)\n",
    "y = np.array(y)"
   ]
  },
  {
   "cell_type": "code",
   "execution_count": 16,
   "id": "19706208",
   "metadata": {},
   "outputs": [
    {
     "data": {
      "text/plain": [
       "(array([0, 1, 2], dtype=int64), array([2920, 1623, 2828], dtype=int64))"
      ]
     },
     "execution_count": 16,
     "metadata": {},
     "output_type": "execute_result"
    }
   ],
   "source": [
    "np.unique(y, return_counts=True)"
   ]
  },
  {
   "cell_type": "code",
   "execution_count": 17,
   "id": "a361f18b",
   "metadata": {},
   "outputs": [
    {
     "data": {
      "text/plain": [
       "0    2920\n",
       "2    2828\n",
       "1    1623\n",
       "dtype: int64"
      ]
     },
     "execution_count": 17,
     "metadata": {},
     "output_type": "execute_result"
    }
   ],
   "source": [
    "pd.Series(y).value_counts()"
   ]
  },
  {
   "cell_type": "code",
   "execution_count": 18,
   "id": "c1810ccc",
   "metadata": {},
   "outputs": [],
   "source": [
    "X_train, X_val, y_train, y_val = train_test_split(x,y,test_size=0.2, random_state = 42,stratify=y)"
   ]
  },
  {
   "cell_type": "code",
   "execution_count": 19,
   "id": "65471f99",
   "metadata": {},
   "outputs": [],
   "source": [
    "from keras.utils.np_utils import to_categorical\n",
    "y_train = to_categorical(y_train)\n",
    "y_val = to_categorical(y_val)"
   ]
  },
  {
   "cell_type": "code",
   "execution_count": 20,
   "id": "a7e864ea",
   "metadata": {},
   "outputs": [
    {
     "name": "stdout",
     "output_type": "stream",
     "text": [
      "(5896, 224, 224, 3) (1475, 224, 224, 3) (1790, 224, 224, 3)\n"
     ]
    }
   ],
   "source": [
    "test_pixel_data = np.array(test_pixel_data)\n",
    "\n",
    "test_pixel_data = test_pixel_data/255\n",
    "\n",
    "print(X_train.shape,X_val.shape,test_pixel_data.shape)"
   ]
  },
  {
   "cell_type": "code",
   "execution_count": 21,
   "id": "9bbd63a5",
   "metadata": {},
   "outputs": [],
   "source": [
    "train_datagen = tf.keras.preprocessing.image.ImageDataGenerator(rescale=1.0/255.0)\n",
    "\n",
    "val_datagen = tf.keras.preprocessing.image.ImageDataGenerator(rescale=1.0/255.0)\n",
    "\n",
    "train_generator = train_datagen.flow(X_train,y_train,batch_size=8)\n",
    "\n",
    "val_generator = val_datagen.flow(X_val,y_val,batch_size=8)"
   ]
  },
  {
   "cell_type": "code",
   "execution_count": 22,
   "id": "a0172d31",
   "metadata": {},
   "outputs": [
    {
     "name": "stdout",
     "output_type": "stream",
     "text": [
      "(5896, 224, 224, 3) (5896, 3) (1475, 224, 224, 3)\n"
     ]
    }
   ],
   "source": [
    "print(X_train.shape,y_train.shape,X_val.shape)"
   ]
  },
  {
   "cell_type": "code",
   "execution_count": 23,
   "id": "9a626739",
   "metadata": {},
   "outputs": [],
   "source": [
    "from tensorflow.keras.applications import VGG16,InceptionV3,DenseNet201\n",
    "from keras.layers import *\n",
    "from keras.models import Sequential\n",
    "from keras.regularizers import *\n",
    "from tensorflow.keras.optimizers import Adam"
   ]
  },
  {
   "cell_type": "code",
   "execution_count": 24,
   "id": "82ae7887",
   "metadata": {},
   "outputs": [],
   "source": [
    "def build_model():\n",
    "    model = Sequential()\n",
    "\n",
    "    conv_base = VGG16(input_shape=(224,224,3), include_top=False, pooling='max',weights='imagenet')\n",
    "    model.add(conv_base)\n",
    "    model.add(BatchNormalization())\n",
    "    model.add(Dense(2048, activation='relu', kernel_regularizer=l1_l2(0.01)))\n",
    "    model.add(BatchNormalization())\n",
    "  # model.add(Dense(2048, activation='relu', kernel_regularizer=l1_l2(0.01)))\n",
    "  # model.add(BatchNormalization())\n",
    "  # model.add(Dense(2048, activation='relu', kernel_regularizer=l1_l2(0.01)))\n",
    "  # model.add(BatchNormalization())\n",
    "  # model.add(Dense(1024, activation='relu', kernel_regularizer=l1_l2(0.01)))\n",
    "  # model.add(BatchNormalization())\n",
    "    model.add(Dense(3, activation='softmax'))\n",
    "    for layer in model.layers:\n",
    "        layer.trainable = True\n",
    " \n",
    "    model.compile(loss='categorical_crossentropy', optimizer=Adam(lr=1e-4), metrics=['accuracy',\"Precision\",\"Recall\"])\n",
    "\n",
    "    return model"
   ]
  },
  {
   "cell_type": "code",
   "execution_count": 25,
   "id": "e163f3dd",
   "metadata": {},
   "outputs": [],
   "source": [
    "cbs = [tf.keras.callbacks.ReduceLROnPlateau(monitor='val_acc', factor=0.1, patience=3, min_lr=1e-5, verbose=0),\n",
    "tf.keras.callbacks.EarlyStopping(monitor='val_loss', min_delta=1e-6, patience=10, verbose=1, mode='auto')]"
   ]
  },
  {
   "cell_type": "code",
   "execution_count": 26,
   "id": "2461a422",
   "metadata": {},
   "outputs": [
    {
     "name": "stdout",
     "output_type": "stream",
     "text": [
      "Model: \"sequential\"\n",
      "_________________________________________________________________\n",
      "Layer (type)                 Output Shape              Param #   \n",
      "=================================================================\n",
      "vgg16 (Functional)           (None, 512)               14714688  \n",
      "_________________________________________________________________\n",
      "batch_normalization (BatchNo (None, 512)               2048      \n",
      "_________________________________________________________________\n",
      "dense (Dense)                (None, 2048)              1050624   \n",
      "_________________________________________________________________\n",
      "batch_normalization_1 (Batch (None, 2048)              8192      \n",
      "_________________________________________________________________\n",
      "dense_1 (Dense)              (None, 3)                 6147      \n",
      "=================================================================\n",
      "Total params: 15,781,699\n",
      "Trainable params: 15,776,579\n",
      "Non-trainable params: 5,120\n",
      "_________________________________________________________________\n"
     ]
    },
    {
     "name": "stderr",
     "output_type": "stream",
     "text": [
      "C:\\Users\\Bhanu\\anaconda3\\envs\\gpu\\lib\\site-packages\\keras\\optimizer_v2\\optimizer_v2.py:355: UserWarning: The `lr` argument is deprecated, use `learning_rate` instead.\n",
      "  warnings.warn(\n"
     ]
    }
   ],
   "source": [
    "model = build_model()\n",
    "model.summary()"
   ]
  },
  {
   "cell_type": "code",
   "execution_count": 27,
   "id": "f8ca0f5a",
   "metadata": {},
   "outputs": [],
   "source": [
    "from tensorflow.python.keras.callbacks import TensorBoard\n",
    "from time import time\n",
    "Tensorboard = TensorBoard(log_dir=\"G:\\PYTHON\\FinalYr_Phase-2\\logs\\{}\".format(time()))"
   ]
  },
  {
   "cell_type": "code",
   "execution_count": 28,
   "id": "6ddd2f00",
   "metadata": {},
   "outputs": [
    {
     "name": "stdout",
     "output_type": "stream",
     "text": [
      "Epoch 1/100\n",
      "87/87 [==============================] - 61s 460ms/step - loss: 235.3554 - accuracy: 0.6810 - precision: 0.7011 - recall: 0.6437 - val_loss: 208.7334 - val_accuracy: 0.2273 - val_precision: 0.2273 - val_recall: 0.2273\n",
      "WARNING:tensorflow:Learning rate reduction is conditioned on metric `val_acc` which is not available. Available metrics are: loss,accuracy,precision,recall,val_loss,val_accuracy,val_precision,val_recall,lr\n",
      "Epoch 2/100\n",
      "87/87 [==============================] - 37s 426ms/step - loss: 181.6946 - accuracy: 0.7572 - precision: 0.7761 - recall: 0.7371 - val_loss: 164.2392 - val_accuracy: 0.4318 - val_precision: 0.4318 - val_recall: 0.4318\n",
      "WARNING:tensorflow:Learning rate reduction is conditioned on metric `val_acc` which is not available. Available metrics are: loss,accuracy,precision,recall,val_loss,val_accuracy,val_precision,val_recall,lr\n",
      "Epoch 3/100\n",
      "87/87 [==============================] - 37s 431ms/step - loss: 134.7502 - accuracy: 0.7787 - precision: 0.7919 - recall: 0.7601 - val_loss: 144.7982 - val_accuracy: 0.2841 - val_precision: 0.2841 - val_recall: 0.2841\n",
      "WARNING:tensorflow:Learning rate reduction is conditioned on metric `val_acc` which is not available. Available metrics are: loss,accuracy,precision,recall,val_loss,val_accuracy,val_precision,val_recall,lr\n",
      "Epoch 4/100\n",
      "87/87 [==============================] - 32s 373ms/step - loss: 95.9736 - accuracy: 0.8118 - precision: 0.8241 - recall: 0.7945 - val_loss: 104.9851 - val_accuracy: 0.3807 - val_precision: 0.3807 - val_recall: 0.3807\n",
      "WARNING:tensorflow:Learning rate reduction is conditioned on metric `val_acc` which is not available. Available metrics are: loss,accuracy,precision,recall,val_loss,val_accuracy,val_precision,val_recall,lr\n",
      "Epoch 5/100\n",
      "87/87 [==============================] - 36s 419ms/step - loss: 66.1040 - accuracy: 0.7658 - precision: 0.7773 - recall: 0.7572 - val_loss: 58.6021 - val_accuracy: 0.5511 - val_precision: 0.5511 - val_recall: 0.5511\n",
      "WARNING:tensorflow:Learning rate reduction is conditioned on metric `val_acc` which is not available. Available metrics are: loss,accuracy,precision,recall,val_loss,val_accuracy,val_precision,val_recall,lr\n",
      "Epoch 6/100\n",
      "87/87 [==============================] - 38s 434ms/step - loss: 44.9699 - accuracy: 0.8204 - precision: 0.8258 - recall: 0.8103 - val_loss: 51.7898 - val_accuracy: 0.4091 - val_precision: 0.4091 - val_recall: 0.4091\n",
      "WARNING:tensorflow:Learning rate reduction is conditioned on metric `val_acc` which is not available. Available metrics are: loss,accuracy,precision,recall,val_loss,val_accuracy,val_precision,val_recall,lr\n",
      "Epoch 7/100\n",
      "87/87 [==============================] - 38s 432ms/step - loss: 31.7121 - accuracy: 0.7960 - precision: 0.8050 - recall: 0.7830 - val_loss: 54.7683 - val_accuracy: 0.4091 - val_precision: 0.4091 - val_recall: 0.4091\n",
      "WARNING:tensorflow:Learning rate reduction is conditioned on metric `val_acc` which is not available. Available metrics are: loss,accuracy,precision,recall,val_loss,val_accuracy,val_precision,val_recall,lr\n",
      "Epoch 8/100\n",
      "87/87 [==============================] - 37s 429ms/step - loss: 23.5112 - accuracy: 0.8003 - precision: 0.8041 - recall: 0.7902 - val_loss: 24.2514 - val_accuracy: 0.5057 - val_precision: 0.5115 - val_recall: 0.5057\n",
      "WARNING:tensorflow:Learning rate reduction is conditioned on metric `val_acc` which is not available. Available metrics are: loss,accuracy,precision,recall,val_loss,val_accuracy,val_precision,val_recall,lr\n",
      "Epoch 9/100\n",
      "87/87 [==============================] - 37s 430ms/step - loss: 17.8449 - accuracy: 0.8190 - precision: 0.8239 - recall: 0.8132 - val_loss: 23.8830 - val_accuracy: 0.3693 - val_precision: 0.3693 - val_recall: 0.3693\n",
      "WARNING:tensorflow:Learning rate reduction is conditioned on metric `val_acc` which is not available. Available metrics are: loss,accuracy,precision,recall,val_loss,val_accuracy,val_precision,val_recall,lr\n",
      "Epoch 10/100\n",
      "87/87 [==============================] - 37s 429ms/step - loss: 14.0155 - accuracy: 0.8032 - precision: 0.8090 - recall: 0.7974 - val_loss: 21.1004 - val_accuracy: 0.3864 - val_precision: 0.3864 - val_recall: 0.3864\n",
      "WARNING:tensorflow:Learning rate reduction is conditioned on metric `val_acc` which is not available. Available metrics are: loss,accuracy,precision,recall,val_loss,val_accuracy,val_precision,val_recall,lr\n",
      "Epoch 11/100\n",
      "87/87 [==============================] - 37s 428ms/step - loss: 11.1235 - accuracy: 0.7931 - precision: 0.8023 - recall: 0.7874 - val_loss: 17.2368 - val_accuracy: 0.2273 - val_precision: 0.2273 - val_recall: 0.2273\n",
      "WARNING:tensorflow:Learning rate reduction is conditioned on metric `val_acc` which is not available. Available metrics are: loss,accuracy,precision,recall,val_loss,val_accuracy,val_precision,val_recall,lr\n",
      "Epoch 12/100\n",
      "87/87 [==============================] - 37s 431ms/step - loss: 8.8263 - accuracy: 0.7744 - precision: 0.7787 - recall: 0.7687 - val_loss: 15.3653 - val_accuracy: 0.2727 - val_precision: 0.2727 - val_recall: 0.2727\n",
      "WARNING:tensorflow:Learning rate reduction is conditioned on metric `val_acc` which is not available. Available metrics are: loss,accuracy,precision,recall,val_loss,val_accuracy,val_precision,val_recall,lr\n",
      "Epoch 13/100\n",
      "87/87 [==============================] - 37s 428ms/step - loss: 7.0733 - accuracy: 0.8075 - precision: 0.8126 - recall: 0.7974 - val_loss: 23.2357 - val_accuracy: 0.2273 - val_precision: 0.2273 - val_recall: 0.2273\n",
      "WARNING:tensorflow:Learning rate reduction is conditioned on metric `val_acc` which is not available. Available metrics are: loss,accuracy,precision,recall,val_loss,val_accuracy,val_precision,val_recall,lr\n",
      "Epoch 14/100\n",
      "87/87 [==============================] - 37s 429ms/step - loss: 5.6229 - accuracy: 0.8491 - precision: 0.8532 - recall: 0.8434 - val_loss: 10.0414 - val_accuracy: 0.4261 - val_precision: 0.4261 - val_recall: 0.4261\n",
      "WARNING:tensorflow:Learning rate reduction is conditioned on metric `val_acc` which is not available. Available metrics are: loss,accuracy,precision,recall,val_loss,val_accuracy,val_precision,val_recall,lr\n",
      "Epoch 15/100\n",
      "87/87 [==============================] - 37s 428ms/step - loss: 4.5314 - accuracy: 0.8549 - precision: 0.8632 - recall: 0.8520 - val_loss: 11.6482 - val_accuracy: 0.7670 - val_precision: 0.7670 - val_recall: 0.7670\n",
      "WARNING:tensorflow:Learning rate reduction is conditioned on metric `val_acc` which is not available. Available metrics are: loss,accuracy,precision,recall,val_loss,val_accuracy,val_precision,val_recall,lr\n",
      "Epoch 16/100\n",
      "87/87 [==============================] - 38s 432ms/step - loss: 3.8008 - accuracy: 0.8520 - precision: 0.8544 - recall: 0.8434 - val_loss: 4.5676 - val_accuracy: 0.7159 - val_precision: 0.7159 - val_recall: 0.7159\n",
      "WARNING:tensorflow:Learning rate reduction is conditioned on metric `val_acc` which is not available. Available metrics are: loss,accuracy,precision,recall,val_loss,val_accuracy,val_precision,val_recall,lr\n",
      "Epoch 17/100\n",
      "87/87 [==============================] - 38s 433ms/step - loss: 3.1594 - accuracy: 0.8592 - precision: 0.8652 - recall: 0.8578 - val_loss: 3.8978 - val_accuracy: 0.5682 - val_precision: 0.5814 - val_recall: 0.5682\n",
      "WARNING:tensorflow:Learning rate reduction is conditioned on metric `val_acc` which is not available. Available metrics are: loss,accuracy,precision,recall,val_loss,val_accuracy,val_precision,val_recall,lr\n",
      "Epoch 18/100\n",
      "87/87 [==============================] - 38s 431ms/step - loss: 2.6167 - accuracy: 0.8563 - precision: 0.8646 - recall: 0.8534 - val_loss: 10.1173 - val_accuracy: 0.3977 - val_precision: 0.3977 - val_recall: 0.3977\n",
      "WARNING:tensorflow:Learning rate reduction is conditioned on metric `val_acc` which is not available. Available metrics are: loss,accuracy,precision,recall,val_loss,val_accuracy,val_precision,val_recall,lr\n",
      "Epoch 19/100\n",
      "87/87 [==============================] - 38s 434ms/step - loss: 2.3237 - accuracy: 0.8678 - precision: 0.8737 - recall: 0.8649 - val_loss: 5.9103 - val_accuracy: 0.5511 - val_precision: 0.5511 - val_recall: 0.5511\n",
      "WARNING:tensorflow:Learning rate reduction is conditioned on metric `val_acc` which is not available. Available metrics are: loss,accuracy,precision,recall,val_loss,val_accuracy,val_precision,val_recall,lr\n"
     ]
    },
    {
     "name": "stdout",
     "output_type": "stream",
     "text": [
      "Epoch 20/100\n",
      "87/87 [==============================] - 38s 433ms/step - loss: 2.0917 - accuracy: 0.8319 - precision: 0.8338 - recall: 0.8218 - val_loss: 13.8005 - val_accuracy: 0.4375 - val_precision: 0.4375 - val_recall: 0.4375\n",
      "WARNING:tensorflow:Learning rate reduction is conditioned on metric `val_acc` which is not available. Available metrics are: loss,accuracy,precision,recall,val_loss,val_accuracy,val_precision,val_recall,lr\n",
      "Epoch 21/100\n",
      "87/87 [==============================] - 37s 429ms/step - loss: 1.5844 - accuracy: 0.8865 - precision: 0.8939 - recall: 0.8836 - val_loss: 8.6226 - val_accuracy: 0.5568 - val_precision: 0.5568 - val_recall: 0.5568\n",
      "WARNING:tensorflow:Learning rate reduction is conditioned on metric `val_acc` which is not available. Available metrics are: loss,accuracy,precision,recall,val_loss,val_accuracy,val_precision,val_recall,lr\n",
      "Epoch 22/100\n",
      "87/87 [==============================] - 38s 433ms/step - loss: 1.4157 - accuracy: 0.8865 - precision: 0.8871 - recall: 0.8807 - val_loss: 4.3427 - val_accuracy: 0.4545 - val_precision: 0.4545 - val_recall: 0.4545\n",
      "WARNING:tensorflow:Learning rate reduction is conditioned on metric `val_acc` which is not available. Available metrics are: loss,accuracy,precision,recall,val_loss,val_accuracy,val_precision,val_recall,lr\n",
      "Epoch 23/100\n",
      "87/87 [==============================] - 38s 433ms/step - loss: 1.1947 - accuracy: 0.8980 - precision: 0.9064 - recall: 0.8908 - val_loss: 5.5737 - val_accuracy: 0.2670 - val_precision: 0.2670 - val_recall: 0.2670\n",
      "WARNING:tensorflow:Learning rate reduction is conditioned on metric `val_acc` which is not available. Available metrics are: loss,accuracy,precision,recall,val_loss,val_accuracy,val_precision,val_recall,lr\n",
      "Epoch 24/100\n",
      "87/87 [==============================] - 37s 430ms/step - loss: 1.3900 - accuracy: 0.8563 - precision: 0.8609 - recall: 0.8448 - val_loss: 1.6868 - val_accuracy: 0.6136 - val_precision: 0.6136 - val_recall: 0.6136\n",
      "WARNING:tensorflow:Learning rate reduction is conditioned on metric `val_acc` which is not available. Available metrics are: loss,accuracy,precision,recall,val_loss,val_accuracy,val_precision,val_recall,lr\n",
      "Epoch 25/100\n",
      "87/87 [==============================] - 38s 433ms/step - loss: 1.0532 - accuracy: 0.8836 - precision: 0.8868 - recall: 0.8779 - val_loss: 4.0306 - val_accuracy: 0.4432 - val_precision: 0.4400 - val_recall: 0.4375\n",
      "WARNING:tensorflow:Learning rate reduction is conditioned on metric `val_acc` which is not available. Available metrics are: loss,accuracy,precision,recall,val_loss,val_accuracy,val_precision,val_recall,lr\n",
      "Epoch 26/100\n",
      "87/87 [==============================] - 38s 433ms/step - loss: 0.8739 - accuracy: 0.9066 - precision: 0.9115 - recall: 0.9023 - val_loss: 4.3239 - val_accuracy: 0.2102 - val_precision: 0.2102 - val_recall: 0.2102\n",
      "WARNING:tensorflow:Learning rate reduction is conditioned on metric `val_acc` which is not available. Available metrics are: loss,accuracy,precision,recall,val_loss,val_accuracy,val_precision,val_recall,lr\n",
      "Epoch 27/100\n",
      "87/87 [==============================] - 38s 432ms/step - loss: 0.8809 - accuracy: 0.8951 - precision: 0.8980 - recall: 0.8851 - val_loss: 5.1238 - val_accuracy: 0.2670 - val_precision: 0.2670 - val_recall: 0.2670\n",
      "WARNING:tensorflow:Learning rate reduction is conditioned on metric `val_acc` which is not available. Available metrics are: loss,accuracy,precision,recall,val_loss,val_accuracy,val_precision,val_recall,lr\n",
      "Epoch 28/100\n",
      "87/87 [==============================] - 38s 433ms/step - loss: 0.7857 - accuracy: 0.8966 - precision: 0.9059 - recall: 0.8851 - val_loss: 9.5494 - val_accuracy: 0.4148 - val_precision: 0.4148 - val_recall: 0.4148\n",
      "WARNING:tensorflow:Learning rate reduction is conditioned on metric `val_acc` which is not available. Available metrics are: loss,accuracy,precision,recall,val_loss,val_accuracy,val_precision,val_recall,lr\n",
      "Epoch 29/100\n",
      "87/87 [==============================] - 38s 433ms/step - loss: 0.8791 - accuracy: 0.8606 - precision: 0.8634 - recall: 0.8534 - val_loss: 26.8930 - val_accuracy: 0.4034 - val_precision: 0.4034 - val_recall: 0.4034\n",
      "WARNING:tensorflow:Learning rate reduction is conditioned on metric `val_acc` which is not available. Available metrics are: loss,accuracy,precision,recall,val_loss,val_accuracy,val_precision,val_recall,lr\n",
      "Epoch 30/100\n",
      "87/87 [==============================] - 38s 434ms/step - loss: 0.7346 - accuracy: 0.8951 - precision: 0.9013 - recall: 0.8922 - val_loss: 3.9235 - val_accuracy: 0.4261 - val_precision: 0.4261 - val_recall: 0.4261\n",
      "WARNING:tensorflow:Learning rate reduction is conditioned on metric `val_acc` which is not available. Available metrics are: loss,accuracy,precision,recall,val_loss,val_accuracy,val_precision,val_recall,lr\n",
      "Epoch 31/100\n",
      "87/87 [==============================] - 38s 432ms/step - loss: 0.7056 - accuracy: 0.9138 - precision: 0.9158 - recall: 0.9066 - val_loss: 1.8390 - val_accuracy: 0.5852 - val_precision: 0.5920 - val_recall: 0.5852\n",
      "WARNING:tensorflow:Learning rate reduction is conditioned on metric `val_acc` which is not available. Available metrics are: loss,accuracy,precision,recall,val_loss,val_accuracy,val_precision,val_recall,lr\n",
      "Epoch 32/100\n",
      "87/87 [==============================] - 38s 432ms/step - loss: 0.7455 - accuracy: 0.8879 - precision: 0.8964 - recall: 0.8822 - val_loss: 42.6824 - val_accuracy: 0.2102 - val_precision: 0.2102 - val_recall: 0.2102\n",
      "WARNING:tensorflow:Learning rate reduction is conditioned on metric `val_acc` which is not available. Available metrics are: loss,accuracy,precision,recall,val_loss,val_accuracy,val_precision,val_recall,lr\n",
      "Epoch 33/100\n",
      "87/87 [==============================] - 38s 433ms/step - loss: 0.6600 - accuracy: 0.9023 - precision: 0.9099 - recall: 0.8994 - val_loss: 0.9787 - val_accuracy: 0.7614 - val_precision: 0.7857 - val_recall: 0.7500\n",
      "WARNING:tensorflow:Learning rate reduction is conditioned on metric `val_acc` which is not available. Available metrics are: loss,accuracy,precision,recall,val_loss,val_accuracy,val_precision,val_recall,lr\n",
      "Epoch 34/100\n",
      "87/87 [==============================] - 37s 430ms/step - loss: 0.5587 - accuracy: 0.9167 - precision: 0.9268 - recall: 0.9095 - val_loss: 11.4199 - val_accuracy: 0.5000 - val_precision: 0.5000 - val_recall: 0.5000\n",
      "WARNING:tensorflow:Learning rate reduction is conditioned on metric `val_acc` which is not available. Available metrics are: loss,accuracy,precision,recall,val_loss,val_accuracy,val_precision,val_recall,lr\n",
      "Epoch 35/100\n",
      "87/87 [==============================] - 38s 433ms/step - loss: 0.4836 - accuracy: 0.9325 - precision: 0.9374 - recall: 0.9253 - val_loss: 1.2467 - val_accuracy: 0.6250 - val_precision: 0.6429 - val_recall: 0.6136\n",
      "WARNING:tensorflow:Learning rate reduction is conditioned on metric `val_acc` which is not available. Available metrics are: loss,accuracy,precision,recall,val_loss,val_accuracy,val_precision,val_recall,lr\n",
      "Epoch 36/100\n",
      "87/87 [==============================] - 38s 433ms/step - loss: 0.5103 - accuracy: 0.9052 - precision: 0.9122 - recall: 0.8951 - val_loss: 1.6770 - val_accuracy: 0.7102 - val_precision: 0.7102 - val_recall: 0.7102\n",
      "WARNING:tensorflow:Learning rate reduction is conditioned on metric `val_acc` which is not available. Available metrics are: loss,accuracy,precision,recall,val_loss,val_accuracy,val_precision,val_recall,lr\n",
      "Epoch 37/100\n",
      "87/87 [==============================] - 38s 433ms/step - loss: 0.4829 - accuracy: 0.9267 - precision: 0.9357 - recall: 0.9195 - val_loss: 2.1699 - val_accuracy: 0.6080 - val_precision: 0.6114 - val_recall: 0.6080\n",
      "WARNING:tensorflow:Learning rate reduction is conditioned on metric `val_acc` which is not available. Available metrics are: loss,accuracy,precision,recall,val_loss,val_accuracy,val_precision,val_recall,lr\n",
      "Epoch 38/100\n",
      "87/87 [==============================] - 37s 429ms/step - loss: 0.4994 - accuracy: 0.9138 - precision: 0.9195 - recall: 0.9023 - val_loss: 0.4404 - val_accuracy: 0.9432 - val_precision: 0.9591 - val_recall: 0.9318\n",
      "WARNING:tensorflow:Learning rate reduction is conditioned on metric `val_acc` which is not available. Available metrics are: loss,accuracy,precision,recall,val_loss,val_accuracy,val_precision,val_recall,lr\n"
     ]
    },
    {
     "name": "stdout",
     "output_type": "stream",
     "text": [
      "Epoch 39/100\n",
      "87/87 [==============================] - 38s 433ms/step - loss: 0.4308 - accuracy: 0.9397 - precision: 0.9459 - recall: 0.9296 - val_loss: 0.5233 - val_accuracy: 0.9034 - val_precision: 0.9181 - val_recall: 0.8920\n",
      "WARNING:tensorflow:Learning rate reduction is conditioned on metric `val_acc` which is not available. Available metrics are: loss,accuracy,precision,recall,val_loss,val_accuracy,val_precision,val_recall,lr\n",
      "Epoch 40/100\n",
      "87/87 [==============================] - 38s 433ms/step - loss: 0.4612 - accuracy: 0.9368 - precision: 0.9433 - recall: 0.9325 - val_loss: 12.1667 - val_accuracy: 0.3750 - val_precision: 0.3750 - val_recall: 0.3750\n",
      "WARNING:tensorflow:Learning rate reduction is conditioned on metric `val_acc` which is not available. Available metrics are: loss,accuracy,precision,recall,val_loss,val_accuracy,val_precision,val_recall,lr\n",
      "Epoch 41/100\n",
      "87/87 [==============================] - 37s 431ms/step - loss: 0.4796 - accuracy: 0.9181 - precision: 0.9232 - recall: 0.9152 - val_loss: 3.4343 - val_accuracy: 0.2500 - val_precision: 0.2500 - val_recall: 0.2500\n",
      "WARNING:tensorflow:Learning rate reduction is conditioned on metric `val_acc` which is not available. Available metrics are: loss,accuracy,precision,recall,val_loss,val_accuracy,val_precision,val_recall,lr\n",
      "Epoch 42/100\n",
      "87/87 [==============================] - 38s 434ms/step - loss: 0.5403 - accuracy: 0.9239 - precision: 0.9260 - recall: 0.9167 - val_loss: 0.6756 - val_accuracy: 0.9148 - val_precision: 0.9186 - val_recall: 0.8977\n",
      "WARNING:tensorflow:Learning rate reduction is conditioned on metric `val_acc` which is not available. Available metrics are: loss,accuracy,precision,recall,val_loss,val_accuracy,val_precision,val_recall,lr\n",
      "Epoch 43/100\n",
      "87/87 [==============================] - 37s 429ms/step - loss: 0.5720 - accuracy: 0.9095 - precision: 0.9182 - recall: 0.9037 - val_loss: 4.3801 - val_accuracy: 0.5057 - val_precision: 0.5029 - val_recall: 0.5000\n",
      "WARNING:tensorflow:Learning rate reduction is conditioned on metric `val_acc` which is not available. Available metrics are: loss,accuracy,precision,recall,val_loss,val_accuracy,val_precision,val_recall,lr\n",
      "Epoch 44/100\n",
      "87/87 [==============================] - 38s 433ms/step - loss: 0.6524 - accuracy: 0.9066 - precision: 0.9118 - recall: 0.8908 - val_loss: 16.3498 - val_accuracy: 0.2330 - val_precision: 0.2330 - val_recall: 0.2330\n",
      "WARNING:tensorflow:Learning rate reduction is conditioned on metric `val_acc` which is not available. Available metrics are: loss,accuracy,precision,recall,val_loss,val_accuracy,val_precision,val_recall,lr\n",
      "Epoch 45/100\n",
      "87/87 [==============================] - 38s 433ms/step - loss: 0.6077 - accuracy: 0.9037 - precision: 0.9072 - recall: 0.8994 - val_loss: 3.6429 - val_accuracy: 0.5284 - val_precision: 0.5314 - val_recall: 0.5284\n",
      "WARNING:tensorflow:Learning rate reduction is conditioned on metric `val_acc` which is not available. Available metrics are: loss,accuracy,precision,recall,val_loss,val_accuracy,val_precision,val_recall,lr\n",
      "Epoch 46/100\n",
      "87/87 [==============================] - 38s 434ms/step - loss: 0.5030 - accuracy: 0.9353 - precision: 0.9403 - recall: 0.9282 - val_loss: 10.4375 - val_accuracy: 0.3125 - val_precision: 0.3125 - val_recall: 0.3125\n",
      "WARNING:tensorflow:Learning rate reduction is conditioned on metric `val_acc` which is not available. Available metrics are: loss,accuracy,precision,recall,val_loss,val_accuracy,val_precision,val_recall,lr\n",
      "Epoch 47/100\n",
      "87/87 [==============================] - 38s 433ms/step - loss: 0.5329 - accuracy: 0.9253 - precision: 0.9277 - recall: 0.9224 - val_loss: 0.7816 - val_accuracy: 0.8182 - val_precision: 0.8256 - val_recall: 0.8068\n",
      "WARNING:tensorflow:Learning rate reduction is conditioned on metric `val_acc` which is not available. Available metrics are: loss,accuracy,precision,recall,val_loss,val_accuracy,val_precision,val_recall,lr\n",
      "Epoch 48/100\n",
      "87/87 [==============================] - 38s 433ms/step - loss: 0.5118 - accuracy: 0.9152 - precision: 0.9201 - recall: 0.9095 - val_loss: 3.6844 - val_accuracy: 0.3580 - val_precision: 0.3580 - val_recall: 0.3580\n",
      "WARNING:tensorflow:Learning rate reduction is conditioned on metric `val_acc` which is not available. Available metrics are: loss,accuracy,precision,recall,val_loss,val_accuracy,val_precision,val_recall,lr\n",
      "Epoch 00048: early stopping\n",
      "30min 23s ± 0 ns per loop (mean ± std. dev. of 1 run, 1 loop each)\n"
     ]
    }
   ],
   "source": [
    "%%timeit -n1 -r1 \n",
    "with tf.device(\"GPU\"):\n",
    "    model.fit(train_generator,steps_per_epoch=87,epochs=100,validation_data=val_generator,validation_steps=22,callbacks=[cbs,Tensorboard])"
   ]
  },
  {
   "cell_type": "code",
   "execution_count": 29,
   "id": "0ba08218",
   "metadata": {},
   "outputs": [
    {
     "data": {
      "text/plain": [
       "<matplotlib.legend.Legend at 0x1c76caa6fd0>"
      ]
     },
     "execution_count": 29,
     "metadata": {},
     "output_type": "execute_result"
    },
    {
     "data": {
      "image/png": "[encoded data removed]",
      "text/plain": [
       "<Figure size 432x288 with 2 Axes>"
      ]
     },
     "metadata": {
      "needs_background": "light"
     },
     "output_type": "display_data"
    }
   ],
   "source": [
    "fig, ax  = plt.subplots(2,1)\n",
    "\n",
    "#Loss\n",
    "ax[0].plot(model.history.history['loss'], color = 'b', label='Training Loss')\n",
    "ax[0].plot(model.history.history['val_loss'], color = 'r', label='Validation Loss')\n",
    "ax[0].legend()\n",
    "#Accuracy\n",
    "ax[1].plot(model.history.history['accuracy'], color='b', label='Training Accuraccy')\n",
    "ax[1].plot(model.history.history['val_accuracy'], color='r', label='Val Accuracy')\n",
    "ax[1].legend()"
   ]
  },
  {
   "cell_type": "code",
   "execution_count": 30,
   "id": "a212f640",
   "metadata": {},
   "outputs": [],
   "source": [
    "import os\n",
    "os.environ['CUDA_VISIBLE_DEVICES'] = '1'"
   ]
  },
  {
   "cell_type": "code",
   "execution_count": 31,
   "id": "51a247fa",
   "metadata": {},
   "outputs": [
    {
     "name": "stdout",
     "output_type": "stream",
     "text": [
      "185/185 [==============================] - 25s 135ms/step - loss: 3.4027 - accuracy: 0.4224 - precision: 0.4224 - recall: 0.4224\n"
     ]
    }
   ],
   "source": [
    "pred = model.predict(X_val/255)\n",
    "predictions = np.argmax(pred,axis=1)\n",
    "test_evaluation = model.evaluate(val_generator)"
   ]
  },
  {
   "cell_type": "code",
   "execution_count": 32,
   "id": "1408ea35",
   "metadata": {},
   "outputs": [
    {
     "name": "stdout",
     "output_type": "stream",
     "text": [
      "737/737 [==============================] - 100s 136ms/step - loss: 3.3236 - accuracy: 0.4272 - precision: 0.4271 - recall: 0.4271\n"
     ]
    }
   ],
   "source": [
    "train_evaluation = model.evaluate(train_generator)"
   ]
  },
  {
   "cell_type": "code",
   "execution_count": 33,
   "id": "b31f9ce3",
   "metadata": {},
   "outputs": [],
   "source": [
    "model.save(\"G:\\\\PYTHON\\\\FinalYr_Phase-2\\\\weights\\\\VGG16.h5\")"
   ]
  },
  {
   "cell_type": "code",
   "execution_count": 34,
   "id": "58f75e7c",
   "metadata": {},
   "outputs": [],
   "source": [
    "Y_VAL = np.array(list(pd.DataFrame(y_val).idxmax(axis=1)))"
   ]
  },
  {
   "cell_type": "code",
   "execution_count": 35,
   "id": "9c3a24d6",
   "metadata": {},
   "outputs": [
    {
     "name": "stdout",
     "output_type": "stream",
     "text": [
      "[[584   0   0]\n",
      " [297  28   0]\n",
      " [555   0  11]]\n",
      "              precision    recall  f1-score   support\n",
      "\n",
      "           0      0.407     1.000     0.578       584\n",
      "           1      1.000     0.086     0.159       325\n",
      "           2      1.000     0.019     0.038       566\n",
      "\n",
      "    accuracy                          0.422      1475\n",
      "   macro avg      0.802     0.369     0.258      1475\n",
      "weighted avg      0.765     0.422     0.279      1475\n",
      "\n"
     ]
    }
   ],
   "source": [
    "from sklearn.metrics import classification_report,confusion_matrix\n",
    "print(confusion_matrix(Y_VAL,predictions))\n",
    "print(classification_report(Y_VAL,predictions,digits=3))"
   ]
  },
  {
   "cell_type": "code",
   "execution_count": 36,
   "id": "9af79b48",
   "metadata": {},
   "outputs": [
    {
     "data": {
      "image/png": "[encoded data removed]",
      "text/plain": [
       "<Figure size 540x540 with 1 Axes>"
      ]
     },
     "metadata": {
      "needs_background": "light"
     },
     "output_type": "display_data"
    }
   ],
   "source": [
    "conf_matrix = confusion_matrix(Y_VAL,predictions)\n",
    "fig, ax = plt.subplots(figsize=(7.5, 7.5))\n",
    "ax.matshow(conf_matrix, cmap=plt.cm.Blues, alpha=0.3)\n",
    "for i in range(conf_matrix.shape[0]):\n",
    "    for j in range(conf_matrix.shape[1]):\n",
    "        ax.text(x=j, y=i,s=conf_matrix[i, j], va='center', ha='center', size='xx-large')\n",
    "\n",
    "plt.xlabel('Predictions', fontsize=18)\n",
    "plt.ylabel('Actuals', fontsize=18)\n",
    "plt.title('Confusion Matrix', fontsize=18)\n",
    "plt.show()"
   ]
  },
  {
   "cell_type": "code",
   "execution_count": null,
   "id": "b1c31916",
   "metadata": {},
   "outputs": [],
   "source": []
  },
  {
   "cell_type": "code",
   "execution_count": 37,
   "id": "e4549b56",
   "metadata": {},
   "outputs": [],
   "source": [
    "from keras.models import load_model\n",
    "model = load_model(\"G:\\\\PYTHON\\\\FinalYr_Phase-2\\\\weights\\\\Dense_net.h5\")"
   ]
  },
  {
   "cell_type": "code",
   "execution_count": 38,
   "id": "202ae592",
   "metadata": {},
   "outputs": [
    {
     "name": "stdout",
     "output_type": "stream",
     "text": [
      "Prediction : [1]\n"
     ]
    }
   ],
   "source": [
    "%matplotlib inline\n",
    "# get sample image to test.\n",
    "import numpy as np\n",
    "import cv2\n",
    "import matplotlib.pyplot as plt\n",
    "\n",
    "img_covid = 'G:\\\\PYTHON\\\\Final_year_project\\\\Final\\\\covid_image_data\\\\covid_image_data\\\\Images\\\\COVID\\\\COVID-3.png'\n",
    "img_normal = 'G:\\\\PYTHON\\\\FinalYr_Phase-2\\\\Normal\\\\Normal-99.png'\n",
    "img_test = 'G:\\\\PYTHON\\\\FinalYr_Phase-2\\\\NON_COVID\\\\Non_COVID-15.png'\n",
    "\n",
    "img_array = Image.open(img_test)\n",
    "new_img_array = np.array(img_array)\n",
    "if new_img_array.ndim == 2:\n",
    "    new_img_array = cv2.cvtColor(new_img_array, cv2.COLOR_GRAY2BGR)\n",
    "new_img_array = cv2.resize(new_img_array,(224,224))\n",
    "\n",
    "\n",
    "\n",
    "\n",
    "dt = []\n",
    "dt.append(new_img_array)\n",
    "X = np.array(dt)\n",
    "X = X/255\n",
    "val = model.predict(X)\n",
    "print(\"Prediction :\",np.argmax(val,axis=1))"
   ]
  }
 ],
 "metadata": {
  "kernelspec": {
   "display_name": "gpu",
   "language": "python",
   "name": "gpu"
  },
  "language_info": {
   "codemirror_mode": {
    "name": "ipython",
    "version": 3
   },
   "file_extension": ".py",
   "mimetype": "text/x-python",
   "name": "python",
   "nbconvert_exporter": "python",
   "pygments_lexer": "ipython3",
   "version": "3.8.0"
  }
 },
 "nbformat": 4,
 "nbformat_minor": 5
}
