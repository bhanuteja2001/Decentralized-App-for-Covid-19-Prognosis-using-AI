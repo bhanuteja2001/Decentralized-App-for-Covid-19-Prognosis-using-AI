{
 "cells": [
  {
   "cell_type": "markdown",
   "id": "af3f0c28",
   "metadata": {},
   "source": [
    "# Pre-processing\n",
    "### Image Arrangement"
   ]
  },
  {
   "cell_type": "code",
   "execution_count": 3,
   "id": "6d65f346",
   "metadata": {},
   "outputs": [],
   "source": [
    "import numpy as np\n",
    "from glob import glob\n",
    "import os"
   ]
  },
  {
   "cell_type": "code",
   "execution_count": 14,
   "id": "01f61ee5",
   "metadata": {},
   "outputs": [],
   "source": [
    "COVID_PATH = 'G:\\\\PYTHON\\\\Final year project\\\\Dataset\\\\COVID-19_Radiography_Dataset\\\\COVID\\\\'\n",
    "NORMAL = 'G:\\\\PYTHON\\\\Final year project\\\\Dataset\\\\COVID-19_Radiography_Dataset\\\\Normal'"
   ]
  },
  {
   "cell_type": "code",
   "execution_count": 19,
   "id": "184bc5d6",
   "metadata": {},
   "outputs": [
    {
     "name": "stdout",
     "output_type": "stream",
     "text": [
      "COVID Images count: 3616\n",
      "Normal Images count: 10192\n"
     ]
    }
   ],
   "source": [
    "print(\"COVID Images count:\",len(os.listdir(COVID_PATH)))\n",
    "print(\"Normal Images count:\",len(os.listdir(NORMAL)))"
   ]
  },
  {
   "cell_type": "code",
   "execution_count": null,
   "id": "f145b4fb",
   "metadata": {},
   "outputs": [],
   "source": [
    "\"\"\"\"\n",
    "\n",
    "lets take 5k images from Normal to prevent over-fitting\n",
    "\n",
    "Split-Ratio : \n",
    "\n",
    "70 : 20 : 10\n",
    "\n",
    "     Train        |      Val           |       Test\n",
    "COVID || NORMAL       COVID || NORMAL       COVID || NORMAL\n",
    "\n",
    "2530 || 3500,           726 || 1000,          360 || 500\n",
    "\"\"\"\""
   ]
  },
  {
   "cell_type": "code",
   "execution_count": 20,
   "id": "c6f0ada2",
   "metadata": {},
   "outputs": [
    {
     "name": "stdout",
     "output_type": "stream",
     "text": [
      "copying done!\n"
     ]
    }
   ],
   "source": [
    "import shutil\n",
    "\n",
    "## COVID \n",
    "\n",
    "for i in range(1,len(os.listdir(COVID_PATH))+1):\n",
    "    if i >= 1 and i <= 2530:\n",
    "        source = \"G:\\\\PYTHON\\\\Final year project\\\\Dataset\\\\COVID-19_Radiography_Dataset\\\\COVID\\\\COVID-{}.png\".format(i)\n",
    "        destination = \"G:\\\\PYTHON\\\\Final year project\\\\Dataset\\\\train\\\\covid\\\\COVID-{}.png\".format(i)\n",
    "        shutil.copyfile(source,destination)\n",
    "    elif i >= 2531 and i <= 3256:\n",
    "        source = \"G:\\\\PYTHON\\\\Final year project\\\\Dataset\\\\COVID-19_Radiography_Dataset\\\\COVID\\\\COVID-{}.png\".format(i)\n",
    "        destination = \"G:\\\\PYTHON\\\\Final year project\\\\Dataset\\\\val\\\\covid\\\\COVID-{}.png\".format(i)\n",
    "        shutil.copyfile(source,destination)\n",
    "    else:\n",
    "        source = \"G:\\\\PYTHON\\\\Final year project\\\\Dataset\\\\COVID-19_Radiography_Dataset\\\\COVID\\\\COVID-{}.png\".format(i)\n",
    "        destination = \"G:\\\\PYTHON\\\\Final year project\\\\Dataset\\\\test\\\\covid\\\\COVID-{}.png\".format(i)\n",
    "        shutil.copyfile(source,destination)\n",
    "        \n",
    "print(\"copying done!\")\n"
   ]
  },
  {
   "cell_type": "code",
   "execution_count": 21,
   "id": "f0bb76b7",
   "metadata": {},
   "outputs": [
    {
     "name": "stdout",
     "output_type": "stream",
     "text": [
      "copying done!\n"
     ]
    }
   ],
   "source": [
    "## NORMAL \n",
    "\n",
    "for i in range(1,len(os.listdir(NORMAL))+1):\n",
    "    if i >= 1 and i <= 3500:\n",
    "        source = \"G:\\\\PYTHON\\\\Final year project\\\\Dataset\\\\COVID-19_Radiography_Dataset\\\\Normal\\\\Normal-{}.png\".format(i)\n",
    "        destination = \"G:\\\\PYTHON\\\\Final year project\\\\Dataset\\\\train\\\\normal\\\\Normal-{}.png\".format(i)\n",
    "        shutil.copyfile(source,destination)\n",
    "    elif i >= 3501 and i <= 4500:\n",
    "        source = \"G:\\\\PYTHON\\\\Final year project\\\\Dataset\\\\COVID-19_Radiography_Dataset\\\\Normal\\\\Normal-{}.png\".format(i)\n",
    "        destination = \"G:\\\\PYTHON\\\\Final year project\\\\Dataset\\\\val\\\\normal\\\\Normal-{}.png\".format(i)\n",
    "        shutil.copyfile(source,destination)\n",
    "    else i >= 4501 and i <= 5000 :\n",
    "        source = \"G:\\\\PYTHON\\\\Final year project\\\\Dataset\\\\COVID-19_Radiography_Dataset\\\\Normal\\\\Normal-{}.png\".format(i)\n",
    "        destination = \"G:\\\\PYTHON\\\\Final year project\\\\Dataset\\\\test\\\\normal\\\\Normal-{}.png\".format(i)\n",
    "        shutil.copyfile(source,destination)\n",
    "        \n",
    "print(\"copying done!\")"
   ]
  },
  {
   "cell_type": "code",
   "execution_count": null,
   "id": "7bef11fa",
   "metadata": {},
   "outputs": [],
   "source": []
  }
 ],
 "metadata": {
  "kernelspec": {
   "display_name": "gputest",
   "language": "python",
   "name": "gputest"
  },
  "language_info": {
   "codemirror_mode": {
    "name": "ipython",
    "version": 3
   },
   "file_extension": ".py",
   "mimetype": "text/x-python",
   "name": "python",
   "nbconvert_exporter": "python",
   "pygments_lexer": "ipython3",
   "version": "3.6.13"
  }
 },
 "nbformat": 4,
 "nbformat_minor": 5
}
