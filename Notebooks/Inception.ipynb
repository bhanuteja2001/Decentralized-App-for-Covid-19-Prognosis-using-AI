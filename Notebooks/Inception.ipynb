{
 "cells": [
  {
   "cell_type": "code",
   "execution_count": 1,
   "id": "542e1d3c",
   "metadata": {},
   "outputs": [],
   "source": [
    "import pandas as pd # Data analysis and manipultion tool\n",
    "import numpy as np # Fundamental package for linear algebra and multidimensional arrays\n",
    "import tensorflow as tf # Deep Learning Tool\n",
    "import os # OS module in Python provides a way of using operating system dependent functionality\n",
    "import cv2 # Library for image processing\n",
    "from sklearn.model_selection import train_test_split # For splitting the data into train and validation set\n",
    "from sklearn.metrics import f1_score\n",
    "import matplotlib.pyplot as plt\n",
    "import seaborn as sns"
   ]
  },
  {
   "cell_type": "code",
   "execution_count": 2,
   "id": "d4f9a6ce",
   "metadata": {},
   "outputs": [],
   "source": [
    "from imutils import build_montages\n",
    "from imutils import paths\n",
    "import random\n",
    "import cv2"
   ]
  },
  {
   "cell_type": "code",
   "execution_count": 3,
   "id": "083c37f8",
   "metadata": {},
   "outputs": [],
   "source": [
    "Data = pd.read_csv(r\"G:\\PYTHON\\FinalYr_Phase-2\\Meta_data.csv\")"
   ]
  },
  {
   "cell_type": "code",
   "execution_count": 4,
   "id": "8250bb7b",
   "metadata": {},
   "outputs": [
    {
     "data": {
      "text/html": [
       "<div>\n",
       "<style scoped>\n",
       "    .dataframe tbody tr th:only-of-type {\n",
       "        vertical-align: middle;\n",
       "    }\n",
       "\n",
       "    .dataframe tbody tr th {\n",
       "        vertical-align: top;\n",
       "    }\n",
       "\n",
       "    .dataframe thead th {\n",
       "        text-align: right;\n",
       "    }\n",
       "</style>\n",
       "<table border=\"1\" class=\"dataframe\">\n",
       "  <thead>\n",
       "    <tr style=\"text-align: right;\">\n",
       "      <th></th>\n",
       "      <th>Unnamed: 0</th>\n",
       "      <th>path</th>\n",
       "      <th>value</th>\n",
       "    </tr>\n",
       "  </thead>\n",
       "  <tbody>\n",
       "    <tr>\n",
       "      <th>0</th>\n",
       "      <td>0</td>\n",
       "      <td>G:\\PYTHON\\FinalYr_Phase-2\\COVID\\COVID-1.png</td>\n",
       "      <td>0</td>\n",
       "    </tr>\n",
       "    <tr>\n",
       "      <th>1</th>\n",
       "      <td>1</td>\n",
       "      <td>G:\\PYTHON\\FinalYr_Phase-2\\COVID\\COVID-10.png</td>\n",
       "      <td>0</td>\n",
       "    </tr>\n",
       "    <tr>\n",
       "      <th>2</th>\n",
       "      <td>2</td>\n",
       "      <td>G:\\PYTHON\\FinalYr_Phase-2\\COVID\\COVID-100.png</td>\n",
       "      <td>0</td>\n",
       "    </tr>\n",
       "    <tr>\n",
       "      <th>3</th>\n",
       "      <td>3</td>\n",
       "      <td>G:\\PYTHON\\FinalYr_Phase-2\\COVID\\COVID-1000.png</td>\n",
       "      <td>0</td>\n",
       "    </tr>\n",
       "    <tr>\n",
       "      <th>4</th>\n",
       "      <td>4</td>\n",
       "      <td>G:\\PYTHON\\FinalYr_Phase-2\\COVID\\COVID-1001.png</td>\n",
       "      <td>0</td>\n",
       "    </tr>\n",
       "  </tbody>\n",
       "</table>\n",
       "</div>"
      ],
      "text/plain": [
       "   Unnamed: 0                                            path  value\n",
       "0           0     G:\\PYTHON\\FinalYr_Phase-2\\COVID\\COVID-1.png      0\n",
       "1           1    G:\\PYTHON\\FinalYr_Phase-2\\COVID\\COVID-10.png      0\n",
       "2           2   G:\\PYTHON\\FinalYr_Phase-2\\COVID\\COVID-100.png      0\n",
       "3           3  G:\\PYTHON\\FinalYr_Phase-2\\COVID\\COVID-1000.png      0\n",
       "4           4  G:\\PYTHON\\FinalYr_Phase-2\\COVID\\COVID-1001.png      0"
      ]
     },
     "execution_count": 4,
     "metadata": {},
     "output_type": "execute_result"
    }
   ],
   "source": [
    "Data.head()"
   ]
  },
  {
   "cell_type": "code",
   "execution_count": 5,
   "id": "7dd1ba13",
   "metadata": {},
   "outputs": [],
   "source": [
    "Data.drop(Data.columns[0], axis=1, inplace=True)"
   ]
  },
  {
   "cell_type": "code",
   "execution_count": 6,
   "id": "d64b6d0a",
   "metadata": {},
   "outputs": [
    {
     "data": {
      "text/html": [
       "<div>\n",
       "<style scoped>\n",
       "    .dataframe tbody tr th:only-of-type {\n",
       "        vertical-align: middle;\n",
       "    }\n",
       "\n",
       "    .dataframe tbody tr th {\n",
       "        vertical-align: top;\n",
       "    }\n",
       "\n",
       "    .dataframe thead th {\n",
       "        text-align: right;\n",
       "    }\n",
       "</style>\n",
       "<table border=\"1\" class=\"dataframe\">\n",
       "  <thead>\n",
       "    <tr style=\"text-align: right;\">\n",
       "      <th></th>\n",
       "      <th>path</th>\n",
       "      <th>value</th>\n",
       "    </tr>\n",
       "  </thead>\n",
       "  <tbody>\n",
       "    <tr>\n",
       "      <th>0</th>\n",
       "      <td>G:\\PYTHON\\FinalYr_Phase-2\\COVID\\COVID-1.png</td>\n",
       "      <td>0</td>\n",
       "    </tr>\n",
       "    <tr>\n",
       "      <th>1</th>\n",
       "      <td>G:\\PYTHON\\FinalYr_Phase-2\\COVID\\COVID-10.png</td>\n",
       "      <td>0</td>\n",
       "    </tr>\n",
       "    <tr>\n",
       "      <th>2</th>\n",
       "      <td>G:\\PYTHON\\FinalYr_Phase-2\\COVID\\COVID-100.png</td>\n",
       "      <td>0</td>\n",
       "    </tr>\n",
       "    <tr>\n",
       "      <th>3</th>\n",
       "      <td>G:\\PYTHON\\FinalYr_Phase-2\\COVID\\COVID-1000.png</td>\n",
       "      <td>0</td>\n",
       "    </tr>\n",
       "    <tr>\n",
       "      <th>4</th>\n",
       "      <td>G:\\PYTHON\\FinalYr_Phase-2\\COVID\\COVID-1001.png</td>\n",
       "      <td>0</td>\n",
       "    </tr>\n",
       "  </tbody>\n",
       "</table>\n",
       "</div>"
      ],
      "text/plain": [
       "                                             path  value\n",
       "0     G:\\PYTHON\\FinalYr_Phase-2\\COVID\\COVID-1.png      0\n",
       "1    G:\\PYTHON\\FinalYr_Phase-2\\COVID\\COVID-10.png      0\n",
       "2   G:\\PYTHON\\FinalYr_Phase-2\\COVID\\COVID-100.png      0\n",
       "3  G:\\PYTHON\\FinalYr_Phase-2\\COVID\\COVID-1000.png      0\n",
       "4  G:\\PYTHON\\FinalYr_Phase-2\\COVID\\COVID-1001.png      0"
      ]
     },
     "execution_count": 6,
     "metadata": {},
     "output_type": "execute_result"
    }
   ],
   "source": [
    "Data.head()"
   ]
  },
  {
   "cell_type": "code",
   "execution_count": 7,
   "id": "910912e3",
   "metadata": {},
   "outputs": [],
   "source": [
    "Data['split'] = np.random.randn(Data.shape[0], 1)\n",
    "\n",
    "msk = np.random.rand(len(Data)) <= 0.8\n",
    "\n",
    "train = Data[msk]\n",
    "test = Data[~msk]"
   ]
  },
  {
   "cell_type": "code",
   "execution_count": 8,
   "id": "c2389a17",
   "metadata": {},
   "outputs": [
    {
     "name": "stdout",
     "output_type": "stream",
     "text": [
      "0    2902\n",
      "2    2824\n",
      "1    1610\n",
      "Name: value, dtype: int64\n",
      "0    714\n",
      "2    676\n",
      "1    435\n",
      "Name: value, dtype: int64\n"
     ]
    }
   ],
   "source": [
    "print(train.value.value_counts())\n",
    "print(test.value.value_counts())"
   ]
  },
  {
   "cell_type": "code",
   "execution_count": 9,
   "id": "7d1d1c12",
   "metadata": {},
   "outputs": [],
   "source": [
    "train.reset_index(inplace=True)"
   ]
  },
  {
   "cell_type": "code",
   "execution_count": 10,
   "id": "c3226e16",
   "metadata": {},
   "outputs": [
    {
     "name": "stderr",
     "output_type": "stream",
     "text": [
      "C:\\Users\\Bhanu\\anaconda3\\envs\\gpu\\lib\\site-packages\\pandas\\core\\frame.py:4167: SettingWithCopyWarning: \n",
      "A value is trying to be set on a copy of a slice from a DataFrame\n",
      "\n",
      "See the caveats in the documentation: https://pandas.pydata.org/pandas-docs/stable/user_guide/indexing.html#returning-a-view-versus-a-copy\n",
      "  return super().drop(\n"
     ]
    },
    {
     "data": {
      "text/html": [
       "<div>\n",
       "<style scoped>\n",
       "    .dataframe tbody tr th:only-of-type {\n",
       "        vertical-align: middle;\n",
       "    }\n",
       "\n",
       "    .dataframe tbody tr th {\n",
       "        vertical-align: top;\n",
       "    }\n",
       "\n",
       "    .dataframe thead th {\n",
       "        text-align: right;\n",
       "    }\n",
       "</style>\n",
       "<table border=\"1\" class=\"dataframe\">\n",
       "  <thead>\n",
       "    <tr style=\"text-align: right;\">\n",
       "      <th></th>\n",
       "      <th>path</th>\n",
       "      <th>value</th>\n",
       "      <th>split</th>\n",
       "    </tr>\n",
       "  </thead>\n",
       "  <tbody>\n",
       "    <tr>\n",
       "      <th>0</th>\n",
       "      <td>G:\\PYTHON\\FinalYr_Phase-2\\COVID\\COVID-10.png</td>\n",
       "      <td>0</td>\n",
       "      <td>0.137604</td>\n",
       "    </tr>\n",
       "    <tr>\n",
       "      <th>1</th>\n",
       "      <td>G:\\PYTHON\\FinalYr_Phase-2\\COVID\\COVID-100.png</td>\n",
       "      <td>0</td>\n",
       "      <td>-1.199561</td>\n",
       "    </tr>\n",
       "    <tr>\n",
       "      <th>2</th>\n",
       "      <td>G:\\PYTHON\\FinalYr_Phase-2\\COVID\\COVID-1000.png</td>\n",
       "      <td>0</td>\n",
       "      <td>-0.087460</td>\n",
       "    </tr>\n",
       "    <tr>\n",
       "      <th>3</th>\n",
       "      <td>G:\\PYTHON\\FinalYr_Phase-2\\COVID\\COVID-1001.png</td>\n",
       "      <td>0</td>\n",
       "      <td>1.688971</td>\n",
       "    </tr>\n",
       "    <tr>\n",
       "      <th>4</th>\n",
       "      <td>G:\\PYTHON\\FinalYr_Phase-2\\COVID\\COVID-1002.png</td>\n",
       "      <td>0</td>\n",
       "      <td>-0.364535</td>\n",
       "    </tr>\n",
       "  </tbody>\n",
       "</table>\n",
       "</div>"
      ],
      "text/plain": [
       "                                             path  value     split\n",
       "0    G:\\PYTHON\\FinalYr_Phase-2\\COVID\\COVID-10.png      0  0.137604\n",
       "1   G:\\PYTHON\\FinalYr_Phase-2\\COVID\\COVID-100.png      0 -1.199561\n",
       "2  G:\\PYTHON\\FinalYr_Phase-2\\COVID\\COVID-1000.png      0 -0.087460\n",
       "3  G:\\PYTHON\\FinalYr_Phase-2\\COVID\\COVID-1001.png      0  1.688971\n",
       "4  G:\\PYTHON\\FinalYr_Phase-2\\COVID\\COVID-1002.png      0 -0.364535"
      ]
     },
     "execution_count": 10,
     "metadata": {},
     "output_type": "execute_result"
    }
   ],
   "source": [
    "train.drop(train.columns[0], axis=1, inplace=True)\n",
    "train.head()"
   ]
  },
  {
   "cell_type": "code",
   "execution_count": 11,
   "id": "3f556c03",
   "metadata": {},
   "outputs": [],
   "source": [
    "data = []\n",
    "image_size = 224\n",
    "test_pixel_data = []\n",
    "import matplotlib.pyplot as plt\n",
    "from PIL import Image\n",
    "\n",
    "\n",
    "for i in range(len(train)):\n",
    "    img_array = Image.open(train['path'][i])\n",
    "    new_img_array = np.array(img_array)\n",
    "    if new_img_array.ndim == 2:\n",
    "        new_img_array = cv2.cvtColor(new_img_array, cv2.COLOR_GRAY2BGR)\n",
    "    new_img_array = cv2.resize(new_img_array,(224,224))\n",
    "    #print(i,np.array(new_img_array).shape,train['value'][i])\n",
    "    data.append([new_img_array, train['value'][i]])\n"
   ]
  },
  {
   "cell_type": "code",
   "execution_count": 65,
   "id": "c976d860",
   "metadata": {},
   "outputs": [],
   "source": []
  },
  {
   "cell_type": "code",
   "execution_count": 12,
   "id": "10773039",
   "metadata": {},
   "outputs": [],
   "source": [
    "test.reset_index(inplace=True)"
   ]
  },
  {
   "cell_type": "code",
   "execution_count": 13,
   "id": "7700065d",
   "metadata": {},
   "outputs": [
    {
     "name": "stderr",
     "output_type": "stream",
     "text": [
      "C:\\Users\\Bhanu\\anaconda3\\envs\\gpu\\lib\\site-packages\\pandas\\core\\frame.py:4167: SettingWithCopyWarning: \n",
      "A value is trying to be set on a copy of a slice from a DataFrame\n",
      "\n",
      "See the caveats in the documentation: https://pandas.pydata.org/pandas-docs/stable/user_guide/indexing.html#returning-a-view-versus-a-copy\n",
      "  return super().drop(\n"
     ]
    },
    {
     "data": {
      "text/html": [
       "<div>\n",
       "<style scoped>\n",
       "    .dataframe tbody tr th:only-of-type {\n",
       "        vertical-align: middle;\n",
       "    }\n",
       "\n",
       "    .dataframe tbody tr th {\n",
       "        vertical-align: top;\n",
       "    }\n",
       "\n",
       "    .dataframe thead th {\n",
       "        text-align: right;\n",
       "    }\n",
       "</style>\n",
       "<table border=\"1\" class=\"dataframe\">\n",
       "  <thead>\n",
       "    <tr style=\"text-align: right;\">\n",
       "      <th></th>\n",
       "      <th>path</th>\n",
       "      <th>value</th>\n",
       "      <th>split</th>\n",
       "    </tr>\n",
       "  </thead>\n",
       "  <tbody>\n",
       "    <tr>\n",
       "      <th>0</th>\n",
       "      <td>G:\\PYTHON\\FinalYr_Phase-2\\COVID\\COVID-1.png</td>\n",
       "      <td>0</td>\n",
       "      <td>-1.596653</td>\n",
       "    </tr>\n",
       "    <tr>\n",
       "      <th>1</th>\n",
       "      <td>G:\\PYTHON\\FinalYr_Phase-2\\COVID\\COVID-1003.png</td>\n",
       "      <td>0</td>\n",
       "      <td>-0.133501</td>\n",
       "    </tr>\n",
       "    <tr>\n",
       "      <th>2</th>\n",
       "      <td>G:\\PYTHON\\FinalYr_Phase-2\\COVID\\COVID-1009.png</td>\n",
       "      <td>0</td>\n",
       "      <td>-0.219877</td>\n",
       "    </tr>\n",
       "    <tr>\n",
       "      <th>3</th>\n",
       "      <td>G:\\PYTHON\\FinalYr_Phase-2\\COVID\\COVID-1021.png</td>\n",
       "      <td>0</td>\n",
       "      <td>-2.438383</td>\n",
       "    </tr>\n",
       "    <tr>\n",
       "      <th>4</th>\n",
       "      <td>G:\\PYTHON\\FinalYr_Phase-2\\COVID\\COVID-1027.png</td>\n",
       "      <td>0</td>\n",
       "      <td>-1.083271</td>\n",
       "    </tr>\n",
       "  </tbody>\n",
       "</table>\n",
       "</div>"
      ],
      "text/plain": [
       "                                             path  value     split\n",
       "0     G:\\PYTHON\\FinalYr_Phase-2\\COVID\\COVID-1.png      0 -1.596653\n",
       "1  G:\\PYTHON\\FinalYr_Phase-2\\COVID\\COVID-1003.png      0 -0.133501\n",
       "2  G:\\PYTHON\\FinalYr_Phase-2\\COVID\\COVID-1009.png      0 -0.219877\n",
       "3  G:\\PYTHON\\FinalYr_Phase-2\\COVID\\COVID-1021.png      0 -2.438383\n",
       "4  G:\\PYTHON\\FinalYr_Phase-2\\COVID\\COVID-1027.png      0 -1.083271"
      ]
     },
     "execution_count": 13,
     "metadata": {},
     "output_type": "execute_result"
    }
   ],
   "source": [
    "test.drop(test.columns[0], axis=1, inplace=True)\n",
    "test.head()"
   ]
  },
  {
   "cell_type": "code",
   "execution_count": 14,
   "id": "371e1058",
   "metadata": {},
   "outputs": [],
   "source": [
    "for i in range(len(test)):\n",
    "    img_array = Image.open(test['path'][i])\n",
    "    new_img_array = np.array(img_array)\n",
    "    if new_img_array.ndim == 2:\n",
    "        new_img_array = cv2.cvtColor(new_img_array, cv2.COLOR_GRAY2BGR)\n",
    "    new_img_array = cv2.resize(new_img_array,(224,224))\n",
    "    test_pixel_data.append(new_img_array)"
   ]
  },
  {
   "cell_type": "code",
   "execution_count": 67,
   "id": "83a9e4b6",
   "metadata": {},
   "outputs": [],
   "source": []
  },
  {
   "cell_type": "code",
   "execution_count": 15,
   "id": "2d73e42a",
   "metadata": {},
   "outputs": [],
   "source": [
    "np.random.shuffle(data)\n",
    "x = []\n",
    "y = []\n",
    "\n",
    "counter = 406\n",
    "count = 0\n",
    "\n",
    "for image in data:\n",
    "    try:\n",
    "        x.append(image[0])\n",
    "        y.append(image[1])\n",
    "    except:\n",
    "        print(count)\n",
    "    count += 1\n",
    "\n",
    "# converting x & y to numpy array as they are list\n",
    "x = np.array(x)\n",
    "y = np.array(y)"
   ]
  },
  {
   "cell_type": "code",
   "execution_count": 16,
   "id": "e90e99a1",
   "metadata": {},
   "outputs": [
    {
     "data": {
      "text/plain": [
       "(array([0, 1, 2], dtype=int64), array([2902, 1610, 2824], dtype=int64))"
      ]
     },
     "execution_count": 16,
     "metadata": {},
     "output_type": "execute_result"
    }
   ],
   "source": [
    "np.unique(y, return_counts=True)"
   ]
  },
  {
   "cell_type": "code",
   "execution_count": 17,
   "id": "c808fdc8",
   "metadata": {},
   "outputs": [
    {
     "data": {
      "text/plain": [
       "0    2902\n",
       "2    2824\n",
       "1    1610\n",
       "dtype: int64"
      ]
     },
     "execution_count": 17,
     "metadata": {},
     "output_type": "execute_result"
    }
   ],
   "source": [
    "pd.Series(y).value_counts()"
   ]
  },
  {
   "cell_type": "code",
   "execution_count": 18,
   "id": "cf362dca",
   "metadata": {},
   "outputs": [],
   "source": [
    "X_train, X_val, y_train, y_val = train_test_split(x,y,test_size=0.2, random_state = 42,stratify=y)"
   ]
  },
  {
   "cell_type": "code",
   "execution_count": 19,
   "id": "9a003384",
   "metadata": {},
   "outputs": [],
   "source": [
    "from keras.utils.np_utils import to_categorical\n",
    "y_train = to_categorical(y_train)\n",
    "y_val = to_categorical(y_val)"
   ]
  },
  {
   "cell_type": "code",
   "execution_count": 20,
   "id": "4c6b8daf",
   "metadata": {},
   "outputs": [
    {
     "name": "stdout",
     "output_type": "stream",
     "text": [
      "(5868, 224, 224, 3) (1468, 224, 224, 3) (1825, 224, 224, 3)\n"
     ]
    }
   ],
   "source": [
    "test_pixel_data = np.array(test_pixel_data)\n",
    "\n",
    "test_pixel_data = test_pixel_data/255\n",
    "\n",
    "print(X_train.shape,X_val.shape,test_pixel_data.shape)"
   ]
  },
  {
   "cell_type": "code",
   "execution_count": 21,
   "id": "6b72e865",
   "metadata": {},
   "outputs": [],
   "source": [
    "train_datagen = tf.keras.preprocessing.image.ImageDataGenerator(rescale=1.0/255.0)\n",
    "\n",
    "val_datagen = tf.keras.preprocessing.image.ImageDataGenerator(rescale=1.0/255.0)\n",
    "\n",
    "train_generator = train_datagen.flow(X_train,y_train,batch_size=8)\n",
    "\n",
    "val_generator = val_datagen.flow(X_val,y_val,batch_size=8)"
   ]
  },
  {
   "cell_type": "code",
   "execution_count": null,
   "id": "4c7d0d6d",
   "metadata": {},
   "outputs": [],
   "source": []
  },
  {
   "cell_type": "code",
   "execution_count": 22,
   "id": "818a315b",
   "metadata": {},
   "outputs": [
    {
     "name": "stdout",
     "output_type": "stream",
     "text": [
      "(5868, 224, 224, 3) (5868, 3) (1468, 224, 224, 3)\n"
     ]
    }
   ],
   "source": [
    "print(X_train.shape,y_train.shape,X_val.shape)"
   ]
  },
  {
   "cell_type": "code",
   "execution_count": 23,
   "id": "f456cd34",
   "metadata": {},
   "outputs": [],
   "source": [
    "from tensorflow.keras.applications import VGG16,InceptionV3,DenseNet201\n",
    "from keras.layers import *\n",
    "from keras.models import Sequential\n",
    "from keras.regularizers import *\n",
    "from tensorflow.keras.optimizers import Adam"
   ]
  },
  {
   "cell_type": "code",
   "execution_count": 24,
   "id": "6c5569d3",
   "metadata": {},
   "outputs": [],
   "source": [
    "def build_model():\n",
    "    model = Sequential()\n",
    "\n",
    "    conv_base = InceptionV3(input_shape=(224,224,3), include_top=False, pooling='max',weights='imagenet')\n",
    "    model.add(conv_base)\n",
    "    model.add(BatchNormalization())\n",
    "    model.add(Dense(2048, activation='relu', kernel_regularizer=l1_l2(0.01)))\n",
    "    model.add(BatchNormalization())\n",
    "  # model.add(Dense(2048, activation='relu', kernel_regularizer=l1_l2(0.01)))\n",
    "  # model.add(BatchNormalization())\n",
    "  # model.add(Dense(2048, activation='relu', kernel_regularizer=l1_l2(0.01)))\n",
    "  # model.add(BatchNormalization())\n",
    "  # model.add(Dense(1024, activation='relu', kernel_regularizer=l1_l2(0.01)))\n",
    "  # model.add(BatchNormalization())\n",
    "    model.add(Dense(3, activation='softmax'))\n",
    "    for layer in model.layers:\n",
    "        layer.trainable = True\n",
    " \n",
    "    model.compile(loss='categorical_crossentropy', optimizer=Adam(lr=1e-4), metrics=['accuracy',\"Precision\",\"Recall\"])\n",
    "\n",
    "    return model"
   ]
  },
  {
   "cell_type": "code",
   "execution_count": 25,
   "id": "81d28347",
   "metadata": {},
   "outputs": [
    {
     "name": "stdout",
     "output_type": "stream",
     "text": [
      "Model: \"sequential\"\n",
      "_________________________________________________________________\n",
      "Layer (type)                 Output Shape              Param #   \n",
      "=================================================================\n",
      "inception_v3 (Functional)    (None, 2048)              21802784  \n",
      "_________________________________________________________________\n",
      "batch_normalization_94 (Batc (None, 2048)              8192      \n",
      "_________________________________________________________________\n",
      "dense (Dense)                (None, 2048)              4196352   \n",
      "_________________________________________________________________\n",
      "batch_normalization_95 (Batc (None, 2048)              8192      \n",
      "_________________________________________________________________\n",
      "dense_1 (Dense)              (None, 3)                 6147      \n",
      "=================================================================\n",
      "Total params: 26,021,667\n",
      "Trainable params: 25,979,043\n",
      "Non-trainable params: 42,624\n",
      "_________________________________________________________________\n"
     ]
    },
    {
     "name": "stderr",
     "output_type": "stream",
     "text": [
      "C:\\Users\\Bhanu\\anaconda3\\envs\\gpu\\lib\\site-packages\\keras\\optimizer_v2\\optimizer_v2.py:355: UserWarning: The `lr` argument is deprecated, use `learning_rate` instead.\n",
      "  warnings.warn(\n"
     ]
    }
   ],
   "source": [
    "model = build_model()\n",
    "model.summary()"
   ]
  },
  {
   "cell_type": "code",
   "execution_count": 26,
   "id": "d9b93c2d",
   "metadata": {},
   "outputs": [],
   "source": [
    "cbs = [tf.keras.callbacks.ReduceLROnPlateau(monitor='val_acc', factor=0.1, patience=3, min_lr=1e-5, verbose=0),\n",
    "tf.keras.callbacks.EarlyStopping(monitor='val_loss', min_delta=1e-6, patience=10, verbose=1, mode='auto')]"
   ]
  },
  {
   "cell_type": "code",
   "execution_count": 27,
   "id": "0d749c68",
   "metadata": {},
   "outputs": [],
   "source": [
    "from tensorflow.python.keras.callbacks import TensorBoard\n",
    "from time import time\n",
    "Tensorboard = TensorBoard(log_dir=\"G:\\PYTHON\\FinalYr_Phase-2\\logs\\{}\".format(time()))"
   ]
  },
  {
   "cell_type": "code",
   "execution_count": 28,
   "id": "0b59d845",
   "metadata": {},
   "outputs": [
    {
     "name": "stdout",
     "output_type": "stream",
     "text": [
      "Epoch 1/100\n",
      "87/87 [==============================] - 48s 283ms/step - loss: 695.7737 - accuracy: 0.7256 - precision: 0.7379 - recall: 0.6997 - val_loss: 571.1516 - val_accuracy: 0.7045 - val_precision: 0.7325 - val_recall: 0.6534\n",
      "WARNING:tensorflow:Learning rate reduction is conditioned on metric `val_acc` which is not available. Available metrics are: loss,accuracy,precision,recall,val_loss,val_accuracy,val_precision,val_recall,lr\n",
      "Epoch 2/100\n",
      "87/87 [==============================] - 22s 249ms/step - loss: 465.9817 - accuracy: 0.8233 - precision: 0.8343 - recall: 0.8103 - val_loss: 367.1613 - val_accuracy: 0.8125 - val_precision: 0.8424 - val_recall: 0.7898\n",
      "WARNING:tensorflow:Learning rate reduction is conditioned on metric `val_acc` which is not available. Available metrics are: loss,accuracy,precision,recall,val_loss,val_accuracy,val_precision,val_recall,lr\n",
      "Epoch 3/100\n",
      "87/87 [==============================] - 24s 272ms/step - loss: 288.8076 - accuracy: 0.8324 - precision: 0.8367 - recall: 0.8295 - val_loss: 220.0648 - val_accuracy: 0.5057 - val_precision: 0.5086 - val_recall: 0.5057\n",
      "WARNING:tensorflow:Learning rate reduction is conditioned on metric `val_acc` which is not available. Available metrics are: loss,accuracy,precision,recall,val_loss,val_accuracy,val_precision,val_recall,lr\n",
      "Epoch 4/100\n",
      "87/87 [==============================] - 23s 261ms/step - loss: 166.0404 - accuracy: 0.8534 - precision: 0.8590 - recall: 0.8491 - val_loss: 121.5818 - val_accuracy: 0.6534 - val_precision: 0.6571 - val_recall: 0.6534\n",
      "WARNING:tensorflow:Learning rate reduction is conditioned on metric `val_acc` which is not available. Available metrics are: loss,accuracy,precision,recall,val_loss,val_accuracy,val_precision,val_recall,lr\n",
      "Epoch 5/100\n",
      "87/87 [==============================] - 22s 255ms/step - loss: 92.0238 - accuracy: 0.8448 - precision: 0.8486 - recall: 0.8376 - val_loss: 68.4163 - val_accuracy: 0.6080 - val_precision: 0.6185 - val_recall: 0.6080\n",
      "WARNING:tensorflow:Learning rate reduction is conditioned on metric `val_acc` which is not available. Available metrics are: loss,accuracy,precision,recall,val_loss,val_accuracy,val_precision,val_recall,lr\n",
      "Epoch 6/100\n",
      "87/87 [==============================] - 22s 250ms/step - loss: 50.6823 - accuracy: 0.8764 - precision: 0.8764 - recall: 0.8764 - val_loss: 41.8685 - val_accuracy: 0.6023 - val_precision: 0.6023 - val_recall: 0.6023\n",
      "WARNING:tensorflow:Learning rate reduction is conditioned on metric `val_acc` which is not available. Available metrics are: loss,accuracy,precision,recall,val_loss,val_accuracy,val_precision,val_recall,lr\n",
      "Epoch 7/100\n",
      "87/87 [==============================] - 21s 245ms/step - loss: 29.5037 - accuracy: 0.8491 - precision: 0.8538 - recall: 0.8477 - val_loss: 24.6280 - val_accuracy: 0.6761 - val_precision: 0.6761 - val_recall: 0.6761\n",
      "WARNING:tensorflow:Learning rate reduction is conditioned on metric `val_acc` which is not available. Available metrics are: loss,accuracy,precision,recall,val_loss,val_accuracy,val_precision,val_recall,lr\n",
      "Epoch 8/100\n",
      "87/87 [==============================] - 23s 259ms/step - loss: 18.0554 - accuracy: 0.8649 - precision: 0.8644 - recall: 0.8606 - val_loss: 22.6285 - val_accuracy: 0.4261 - val_precision: 0.4261 - val_recall: 0.4261\n",
      "WARNING:tensorflow:Learning rate reduction is conditioned on metric `val_acc` which is not available. Available metrics are: loss,accuracy,precision,recall,val_loss,val_accuracy,val_precision,val_recall,lr\n",
      "Epoch 9/100\n",
      "87/87 [==============================] - 21s 239ms/step - loss: 11.9467 - accuracy: 0.8750 - precision: 0.8763 - recall: 0.8750 - val_loss: 10.5906 - val_accuracy: 0.6477 - val_precision: 0.6494 - val_recall: 0.6420\n",
      "WARNING:tensorflow:Learning rate reduction is conditioned on metric `val_acc` which is not available. Available metrics are: loss,accuracy,precision,recall,val_loss,val_accuracy,val_precision,val_recall,lr\n",
      "Epoch 10/100\n",
      "87/87 [==============================] - 20s 231ms/step - loss: 9.5772 - accuracy: 0.8693 - precision: 0.8693 - recall: 0.8693 - val_loss: 11.0556 - val_accuracy: 0.6193 - val_precision: 0.6301 - val_recall: 0.6193\n",
      "WARNING:tensorflow:Learning rate reduction is conditioned on metric `val_acc` which is not available. Available metrics are: loss,accuracy,precision,recall,val_loss,val_accuracy,val_precision,val_recall,lr\n",
      "Epoch 11/100\n",
      "87/87 [==============================] - 29s 335ms/step - loss: 7.9793 - accuracy: 0.8707 - precision: 0.8745 - recall: 0.8707 - val_loss: 7.9764 - val_accuracy: 0.7045 - val_precision: 0.7045 - val_recall: 0.7045\n",
      "WARNING:tensorflow:Learning rate reduction is conditioned on metric `val_acc` which is not available. Available metrics are: loss,accuracy,precision,recall,val_loss,val_accuracy,val_precision,val_recall,lr\n",
      "Epoch 12/100\n",
      "87/87 [==============================] - 32s 361ms/step - loss: 7.0182 - accuracy: 0.8578 - precision: 0.8590 - recall: 0.8578 - val_loss: 7.3928 - val_accuracy: 0.9261 - val_precision: 0.9261 - val_recall: 0.9261\n",
      "WARNING:tensorflow:Learning rate reduction is conditioned on metric `val_acc` which is not available. Available metrics are: loss,accuracy,precision,recall,val_loss,val_accuracy,val_precision,val_recall,lr\n",
      "Epoch 13/100\n",
      "87/87 [==============================] - 21s 243ms/step - loss: 6.1403 - accuracy: 0.8664 - precision: 0.8698 - recall: 0.8635 - val_loss: 6.3300 - val_accuracy: 0.6705 - val_precision: 0.6763 - val_recall: 0.6648\n",
      "WARNING:tensorflow:Learning rate reduction is conditioned on metric `val_acc` which is not available. Available metrics are: loss,accuracy,precision,recall,val_loss,val_accuracy,val_precision,val_recall,lr\n",
      "Epoch 14/100\n",
      "87/87 [==============================] - 21s 246ms/step - loss: 5.1678 - accuracy: 0.8966 - precision: 0.8999 - recall: 0.8908 - val_loss: 4.5445 - val_accuracy: 0.8125 - val_precision: 0.8114 - val_recall: 0.8068\n",
      "WARNING:tensorflow:Learning rate reduction is conditioned on metric `val_acc` which is not available. Available metrics are: loss,accuracy,precision,recall,val_loss,val_accuracy,val_precision,val_recall,lr\n",
      "Epoch 15/100\n",
      "87/87 [==============================] - 21s 243ms/step - loss: 4.2585 - accuracy: 0.9124 - precision: 0.9162 - recall: 0.9109 - val_loss: 3.3144 - val_accuracy: 0.8068 - val_precision: 0.8187 - val_recall: 0.7955\n",
      "WARNING:tensorflow:Learning rate reduction is conditioned on metric `val_acc` which is not available. Available metrics are: loss,accuracy,precision,recall,val_loss,val_accuracy,val_precision,val_recall,lr\n",
      "Epoch 16/100\n",
      "87/87 [==============================] - 21s 243ms/step - loss: 4.0307 - accuracy: 0.9052 - precision: 0.9090 - recall: 0.9037 - val_loss: 6.4989 - val_accuracy: 0.6761 - val_precision: 0.6761 - val_recall: 0.6761\n",
      "WARNING:tensorflow:Learning rate reduction is conditioned on metric `val_acc` which is not available. Available metrics are: loss,accuracy,precision,recall,val_loss,val_accuracy,val_precision,val_recall,lr\n",
      "Epoch 17/100\n",
      "87/87 [==============================] - 21s 242ms/step - loss: 3.6115 - accuracy: 0.9095 - precision: 0.9120 - recall: 0.9080 - val_loss: 4.5430 - val_accuracy: 0.7330 - val_precision: 0.7442 - val_recall: 0.7273\n",
      "WARNING:tensorflow:Learning rate reduction is conditioned on metric `val_acc` which is not available. Available metrics are: loss,accuracy,precision,recall,val_loss,val_accuracy,val_precision,val_recall,lr\n",
      "Epoch 18/100\n",
      "87/87 [==============================] - 21s 244ms/step - loss: 3.4751 - accuracy: 0.9124 - precision: 0.9146 - recall: 0.9080 - val_loss: 5.0622 - val_accuracy: 0.6136 - val_precision: 0.6136 - val_recall: 0.6136\n",
      "WARNING:tensorflow:Learning rate reduction is conditioned on metric `val_acc` which is not available. Available metrics are: loss,accuracy,precision,recall,val_loss,val_accuracy,val_precision,val_recall,lr\n",
      "Epoch 19/100\n",
      "87/87 [==============================] - 21s 245ms/step - loss: 3.6090 - accuracy: 0.9147 - precision: 0.9158 - recall: 0.9118 - val_loss: 3.1139 - val_accuracy: 0.7784 - val_precision: 0.8084 - val_recall: 0.7670\n",
      "WARNING:tensorflow:Learning rate reduction is conditioned on metric `val_acc` which is not available. Available metrics are: loss,accuracy,precision,recall,val_loss,val_accuracy,val_precision,val_recall,lr\n"
     ]
    },
    {
     "name": "stdout",
     "output_type": "stream",
     "text": [
      "Epoch 20/100\n",
      "87/87 [==============================] - 21s 244ms/step - loss: 3.7200 - accuracy: 0.9195 - precision: 0.9194 - recall: 0.9181 - val_loss: 4.4696 - val_accuracy: 0.4943 - val_precision: 0.4971 - val_recall: 0.4886\n",
      "WARNING:tensorflow:Learning rate reduction is conditioned on metric `val_acc` which is not available. Available metrics are: loss,accuracy,precision,recall,val_loss,val_accuracy,val_precision,val_recall,lr\n",
      "Epoch 21/100\n",
      "87/87 [==============================] - 21s 244ms/step - loss: 2.9610 - accuracy: 0.9310 - precision: 0.9309 - recall: 0.9296 - val_loss: 2.0613 - val_accuracy: 0.9659 - val_precision: 0.9651 - val_recall: 0.9432\n",
      "WARNING:tensorflow:Learning rate reduction is conditioned on metric `val_acc` which is not available. Available metrics are: loss,accuracy,precision,recall,val_loss,val_accuracy,val_precision,val_recall,lr\n",
      "Epoch 22/100\n",
      "87/87 [==============================] - 22s 257ms/step - loss: 2.6018 - accuracy: 0.9095 - precision: 0.9145 - recall: 0.9066 - val_loss: 3.7279 - val_accuracy: 0.7045 - val_precision: 0.7110 - val_recall: 0.6989\n",
      "WARNING:tensorflow:Learning rate reduction is conditioned on metric `val_acc` which is not available. Available metrics are: loss,accuracy,precision,recall,val_loss,val_accuracy,val_precision,val_recall,lr\n",
      "Epoch 23/100\n",
      "87/87 [==============================] - 21s 245ms/step - loss: 2.1074 - accuracy: 0.9440 - precision: 0.9494 - recall: 0.9440 - val_loss: 2.1119 - val_accuracy: 0.8750 - val_precision: 0.9096 - val_recall: 0.8580\n",
      "WARNING:tensorflow:Learning rate reduction is conditioned on metric `val_acc` which is not available. Available metrics are: loss,accuracy,precision,recall,val_loss,val_accuracy,val_precision,val_recall,lr\n",
      "Epoch 24/100\n",
      "87/87 [==============================] - 21s 246ms/step - loss: 2.4614 - accuracy: 0.9109 - precision: 0.9133 - recall: 0.9080 - val_loss: 3.5191 - val_accuracy: 0.6818 - val_precision: 0.7108 - val_recall: 0.6705\n",
      "WARNING:tensorflow:Learning rate reduction is conditioned on metric `val_acc` which is not available. Available metrics are: loss,accuracy,precision,recall,val_loss,val_accuracy,val_precision,val_recall,lr\n",
      "Epoch 25/100\n",
      "87/87 [==============================] - 22s 257ms/step - loss: 1.7058 - accuracy: 0.9440 - precision: 0.9465 - recall: 0.9411 - val_loss: 2.2642 - val_accuracy: 0.8977 - val_precision: 0.9012 - val_recall: 0.8807\n",
      "WARNING:tensorflow:Learning rate reduction is conditioned on metric `val_acc` which is not available. Available metrics are: loss,accuracy,precision,recall,val_loss,val_accuracy,val_precision,val_recall,lr\n",
      "Epoch 26/100\n",
      "87/87 [==============================] - 22s 257ms/step - loss: 1.4228 - accuracy: 0.9698 - precision: 0.9740 - recall: 0.9684 - val_loss: 1.1007 - val_accuracy: 0.9716 - val_precision: 0.9770 - val_recall: 0.9659\n",
      "WARNING:tensorflow:Learning rate reduction is conditioned on metric `val_acc` which is not available. Available metrics are: loss,accuracy,precision,recall,val_loss,val_accuracy,val_precision,val_recall,lr\n",
      "Epoch 27/100\n",
      "87/87 [==============================] - 22s 258ms/step - loss: 1.2467 - accuracy: 0.9741 - precision: 0.9755 - recall: 0.9727 - val_loss: 1.3828 - val_accuracy: 0.9545 - val_precision: 0.9581 - val_recall: 0.9091\n",
      "WARNING:tensorflow:Learning rate reduction is conditioned on metric `val_acc` which is not available. Available metrics are: loss,accuracy,precision,recall,val_loss,val_accuracy,val_precision,val_recall,lr\n",
      "Epoch 28/100\n",
      "87/87 [==============================] - 21s 246ms/step - loss: 1.3865 - accuracy: 0.9583 - precision: 0.9637 - recall: 0.9526 - val_loss: 1.8490 - val_accuracy: 0.6250 - val_precision: 0.6369 - val_recall: 0.6080\n",
      "WARNING:tensorflow:Learning rate reduction is conditioned on metric `val_acc` which is not available. Available metrics are: loss,accuracy,precision,recall,val_loss,val_accuracy,val_precision,val_recall,lr\n",
      "Epoch 29/100\n",
      "87/87 [==============================] - 21s 245ms/step - loss: 1.5089 - accuracy: 0.9368 - precision: 0.9393 - recall: 0.9339 - val_loss: 4.3504 - val_accuracy: 0.4375 - val_precision: 0.4375 - val_recall: 0.4375\n",
      "WARNING:tensorflow:Learning rate reduction is conditioned on metric `val_acc` which is not available. Available metrics are: loss,accuracy,precision,recall,val_loss,val_accuracy,val_precision,val_recall,lr\n",
      "Epoch 30/100\n",
      "87/87 [==============================] - 21s 245ms/step - loss: 1.6175 - accuracy: 0.9684 - precision: 0.9684 - recall: 0.9684 - val_loss: 4.7800 - val_accuracy: 0.6193 - val_precision: 0.6149 - val_recall: 0.6080\n",
      "WARNING:tensorflow:Learning rate reduction is conditioned on metric `val_acc` which is not available. Available metrics are: loss,accuracy,precision,recall,val_loss,val_accuracy,val_precision,val_recall,lr\n",
      "Epoch 31/100\n",
      "87/87 [==============================] - 21s 244ms/step - loss: 1.6263 - accuracy: 0.9711 - precision: 0.9739 - recall: 0.9697 - val_loss: 1.3177 - val_accuracy: 0.9034 - val_precision: 0.9191 - val_recall: 0.9034\n",
      "WARNING:tensorflow:Learning rate reduction is conditioned on metric `val_acc` which is not available. Available metrics are: loss,accuracy,precision,recall,val_loss,val_accuracy,val_precision,val_recall,lr\n",
      "Epoch 32/100\n",
      "87/87 [==============================] - 21s 245ms/step - loss: 1.4786 - accuracy: 0.9425 - precision: 0.9438 - recall: 0.9411 - val_loss: 3.8828 - val_accuracy: 0.5398 - val_precision: 0.5398 - val_recall: 0.5398\n",
      "WARNING:tensorflow:Learning rate reduction is conditioned on metric `val_acc` which is not available. Available metrics are: loss,accuracy,precision,recall,val_loss,val_accuracy,val_precision,val_recall,lr\n",
      "Epoch 33/100\n",
      "87/87 [==============================] - 21s 244ms/step - loss: 1.5940 - accuracy: 0.9382 - precision: 0.9435 - recall: 0.9353 - val_loss: 1.7331 - val_accuracy: 0.9886 - val_precision: 0.9886 - val_recall: 0.9886\n",
      "WARNING:tensorflow:Learning rate reduction is conditioned on metric `val_acc` which is not available. Available metrics are: loss,accuracy,precision,recall,val_loss,val_accuracy,val_precision,val_recall,lr\n",
      "Epoch 34/100\n",
      "87/87 [==============================] - 22s 257ms/step - loss: 1.5745 - accuracy: 0.9552 - precision: 0.9565 - recall: 0.9538 - val_loss: 1.6186 - val_accuracy: 0.6705 - val_precision: 0.6725 - val_recall: 0.6534\n",
      "WARNING:tensorflow:Learning rate reduction is conditioned on metric `val_acc` which is not available. Available metrics are: loss,accuracy,precision,recall,val_loss,val_accuracy,val_precision,val_recall,lr\n",
      "Epoch 35/100\n",
      "87/87 [==============================] - 22s 248ms/step - loss: 1.2563 - accuracy: 0.9555 - precision: 0.9554 - recall: 0.9540 - val_loss: 1.8356 - val_accuracy: 0.9318 - val_precision: 0.9527 - val_recall: 0.9148\n",
      "WARNING:tensorflow:Learning rate reduction is conditioned on metric `val_acc` which is not available. Available metrics are: loss,accuracy,precision,recall,val_loss,val_accuracy,val_precision,val_recall,lr\n",
      "Epoch 36/100\n",
      "87/87 [==============================] - 22s 257ms/step - loss: 1.6524 - accuracy: 0.9569 - precision: 0.9566 - recall: 0.9511 - val_loss: 2.1695 - val_accuracy: 0.6875 - val_precision: 0.6951 - val_recall: 0.6477\n",
      "WARNING:tensorflow:Learning rate reduction is conditioned on metric `val_acc` which is not available. Available metrics are: loss,accuracy,precision,recall,val_loss,val_accuracy,val_precision,val_recall,lr\n",
      "Epoch 00036: early stopping\n",
      "13min 48s ± 0 ns per loop (mean ± std. dev. of 1 run, 1 loop each)\n"
     ]
    }
   ],
   "source": [
    "%%timeit -n1 -r1 \n",
    "with tf.device(\"GPU\"):\n",
    "    model.fit(train_generator,steps_per_epoch=87,epochs=100,validation_data=val_generator,validation_steps=22,callbacks=[cbs,Tensorboard])"
   ]
  },
  {
   "cell_type": "code",
   "execution_count": 32,
   "id": "70a5b664",
   "metadata": {},
   "outputs": [
    {
     "data": {
      "text/plain": [
       "<matplotlib.legend.Legend at 0x1d1d4e035b0>"
      ]
     },
     "execution_count": 32,
     "metadata": {},
     "output_type": "execute_result"
    },
    {
     "data": {
      "image/png": "[encoded data removed]",
      "text/plain": [
       "<Figure size 432x288 with 2 Axes>"
      ]
     },
     "metadata": {
      "needs_background": "light"
     },
     "output_type": "display_data"
    }
   ],
   "source": [
    "fig, ax  = plt.subplots(2,1)\n",
    "\n",
    "#Loss\n",
    "ax[0].plot(model.history.history['loss'], color = 'b', label='Training Loss')\n",
    "ax[0].plot(model.history.history['val_loss'], color = 'r', label='Validation Loss')\n",
    "ax[0].legend()\n",
    "#Accuracy\n",
    "ax[1].plot(model.history.history['accuracy'], color='b', label='Training Accuraccy')\n",
    "ax[1].plot(model.history.history['val_accuracy'], color='r', label='Val Accuracy')\n",
    "ax[1].legend()"
   ]
  },
  {
   "cell_type": "code",
   "execution_count": null,
   "id": "9c90301f",
   "metadata": {},
   "outputs": [],
   "source": []
  },
  {
   "cell_type": "code",
   "execution_count": 33,
   "id": "68da3a83",
   "metadata": {},
   "outputs": [],
   "source": [
    "pred = model.predict(X_val/255)"
   ]
  },
  {
   "cell_type": "code",
   "execution_count": 34,
   "id": "05762025",
   "metadata": {},
   "outputs": [],
   "source": [
    "classes_x=np.argmax(pred,axis=1)"
   ]
  },
  {
   "cell_type": "code",
   "execution_count": 35,
   "id": "036275a8",
   "metadata": {},
   "outputs": [
    {
     "data": {
      "text/plain": [
       "0"
      ]
     },
     "execution_count": 35,
     "metadata": {},
     "output_type": "execute_result"
    }
   ],
   "source": [
    "classes_x[10]"
   ]
  },
  {
   "cell_type": "code",
   "execution_count": 36,
   "id": "1ccee4da",
   "metadata": {},
   "outputs": [],
   "source": [
    "predictions = classes_x"
   ]
  },
  {
   "cell_type": "code",
   "execution_count": 37,
   "id": "07d04032",
   "metadata": {},
   "outputs": [],
   "source": [
    "import os\n",
    "os.environ['CUDA_VISIBLE_DEVICES'] = '1'\n"
   ]
  },
  {
   "cell_type": "code",
   "execution_count": 38,
   "id": "ab3b2fd7",
   "metadata": {},
   "outputs": [
    {
     "name": "stdout",
     "output_type": "stream",
     "text": [
      "184/184 [==============================] - 13s 68ms/step - loss: 2.1570 - accuracy: 0.6608 - precision: 0.6861 - recall: 0.6417\n"
     ]
    }
   ],
   "source": [
    "test_evaluation = model.evaluate(val_generator)"
   ]
  },
  {
   "cell_type": "code",
   "execution_count": 39,
   "id": "a62f2453",
   "metadata": {},
   "outputs": [
    {
     "name": "stdout",
     "output_type": "stream",
     "text": [
      "734/734 [==============================] - 50s 68ms/step - loss: 2.0875 - accuracy: 0.6757 - precision: 0.7047 - recall: 0.6527\n"
     ]
    }
   ],
   "source": [
    "train_evaluation = model.evaluate(train_generator)"
   ]
  },
  {
   "cell_type": "code",
   "execution_count": 40,
   "id": "2e0c9a03",
   "metadata": {},
   "outputs": [],
   "source": [
    "model.save(\"G:\\\\PYTHON\\\\FinalYr_Phase-2\\\\weights\\\\incpetion_v3.h5\")"
   ]
  },
  {
   "cell_type": "code",
   "execution_count": 48,
   "id": "47f2f5f4",
   "metadata": {},
   "outputs": [
    {
     "name": "stdout",
     "output_type": "stream",
     "text": [
      "<class 'numpy.ndarray'> <class 'numpy.ndarray'>\n"
     ]
    }
   ],
   "source": [
    "print(type(np.array(Y_VAL)),type(predictions))"
   ]
  },
  {
   "cell_type": "code",
   "execution_count": 49,
   "id": "6925412c",
   "metadata": {},
   "outputs": [],
   "source": [
    "Y_VAL = np.array(list(pd.DataFrame(y_val).idxmax(axis=1)))"
   ]
  },
  {
   "cell_type": "code",
   "execution_count": 57,
   "id": "03f1a94f",
   "metadata": {},
   "outputs": [
    {
     "name": "stdout",
     "output_type": "stream",
     "text": [
      "[[577   4   0]\n",
      " [  8 314   0]\n",
      " [451  35  79]]\n",
      "              precision    recall  f1-score   support\n",
      "\n",
      "           0      0.557     0.993     0.714       581\n",
      "           1      0.890     0.975     0.930       322\n",
      "           2      1.000     0.140     0.245       565\n",
      "\n",
      "    accuracy                          0.661      1468\n",
      "   macro avg      0.815     0.703     0.630      1468\n",
      "weighted avg      0.800     0.661     0.581      1468\n",
      "\n"
     ]
    }
   ],
   "source": [
    "from sklearn.metrics import classification_report,confusion_matrix\n",
    "print(confusion_matrix(Y_VAL,predictions))\n",
    "print(classification_report(Y_VAL,predictions,digits=3))"
   ]
  },
  {
   "cell_type": "code",
   "execution_count": 53,
   "id": "9dd73485",
   "metadata": {},
   "outputs": [
    {
     "data": {
      "image/png": "[encoded data removed]",
      "text/plain": [
       "<Figure size 540x540 with 1 Axes>"
      ]
     },
     "metadata": {
      "needs_background": "light"
     },
     "output_type": "display_data"
    }
   ],
   "source": [
    "conf_matrix = confusion_matrix(Y_VAL,predictions)\n",
    "fig, ax = plt.subplots(figsize=(7.5, 7.5))\n",
    "ax.matshow(conf_matrix, cmap=plt.cm.Blues, alpha=0.3)\n",
    "for i in range(conf_matrix.shape[0]):\n",
    "    for j in range(conf_matrix.shape[1]):\n",
    "        ax.text(x=j, y=i,s=conf_matrix[i, j], va='center', ha='center', size='xx-large')\n",
    "\n",
    "plt.xlabel('Predictions', fontsize=18)\n",
    "plt.ylabel('Actuals', fontsize=18)\n",
    "plt.title('Confusion Matrix', fontsize=18)\n",
    "plt.show()"
   ]
  },
  {
   "cell_type": "code",
   "execution_count": null,
   "id": "a31956f2",
   "metadata": {},
   "outputs": [],
   "source": []
  },
  {
   "cell_type": "code",
   "execution_count": 124,
   "id": "b442ff0c",
   "metadata": {},
   "outputs": [],
   "source": [
    "from keras.models import load_model\n",
    "model = load_model(\"G:\\\\PYTHON\\\\FinalYr_Phase-2\\\\weights\\\\incpetion_v3.h5\")"
   ]
  },
  {
   "cell_type": "code",
   "execution_count": 144,
   "id": "c02d124f",
   "metadata": {},
   "outputs": [
    {
     "name": "stdout",
     "output_type": "stream",
     "text": [
      "Prediction : [0]\n"
     ]
    }
   ],
   "source": [
    "%matplotlib inline\n",
    "# get sample image to test.\n",
    "import numpy as np\n",
    "import cv2\n",
    "import matplotlib.pyplot as plt\n",
    "\n",
    "img_covid = 'G:\\\\PYTHON\\\\Final_year_project\\\\Final\\\\covid_image_data\\\\covid_image_data\\\\Images\\\\COVID\\\\COVID-3.png'\n",
    "img_normal = 'G:\\\\PYTHON\\\\FinalYr_Phase-2\\\\Normal\\\\Normal-99.png'\n",
    "img_test = 'G:\\\\PYTHON\\\\FinalYr_Phase-2\\\\NON_COVID\\\\Non_COVID-15.png'\n",
    "\n",
    "img_array = Image.open(img_normal)\n",
    "new_img_array = np.array(img_array)\n",
    "if new_img_array.ndim == 2:\n",
    "    new_img_array = cv2.cvtColor(new_img_array, cv2.COLOR_GRAY2BGR)\n",
    "new_img_array = cv2.resize(new_img_array,(224,224))\n",
    "\n",
    "\n",
    "\n",
    "\n",
    "dt = []\n",
    "dt.append(new_img_array)\n",
    "X = np.array(dt)\n",
    "X = X/255\n",
    "val = model.predict(X)\n",
    "print(\"Prediction :\",np.argmax(val,axis=1))"
   ]
  }
 ],
 "metadata": {
  "kernelspec": {
   "display_name": "gpu",
   "language": "python",
   "name": "gpu"
  },
  "language_info": {
   "codemirror_mode": {
    "name": "ipython",
    "version": 3
   },
   "file_extension": ".py",
   "mimetype": "text/x-python",
   "name": "python",
   "nbconvert_exporter": "python",
   "pygments_lexer": "ipython3",
   "version": "3.8.0"
  }
 },
 "nbformat": 4,
 "nbformat_minor": 5
}
