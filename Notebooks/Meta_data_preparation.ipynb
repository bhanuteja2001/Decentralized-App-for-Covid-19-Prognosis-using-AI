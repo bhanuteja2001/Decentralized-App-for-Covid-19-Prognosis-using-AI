{
 "cells": [
  {
   "cell_type": "code",
   "execution_count": 2,
   "id": "e934a92b",
   "metadata": {},
   "outputs": [],
   "source": [
    "import pandas as pd\n",
    "import numpy as np\n",
    "import os"
   ]
  },
  {
   "cell_type": "code",
   "execution_count": 3,
   "id": "b2210619",
   "metadata": {},
   "outputs": [],
   "source": [
    "path = r'G:\\PYTHON\\FinalYr_Phase-2\\Cl2\\Chest'\n",
    "files = os.listdir(path)"
   ]
  },
  {
   "cell_type": "code",
   "execution_count": 4,
   "id": "be4c49f6",
   "metadata": {},
   "outputs": [],
   "source": [
    "for index, file in enumerate(files):\n",
    "    os.rename(os.path.join(path, file), os.path.join(path, 'Chest-' + str(index) +'.png'))"
   ]
  },
  {
   "cell_type": "code",
   "execution_count": 3,
   "id": "fd62d7a0",
   "metadata": {},
   "outputs": [],
   "source": [
    "covid_path = os.listdir(r\"G:\\PYTHON\\FinalYr_Phase-2\\Cl2\\Chest\")\n",
    "non_covid_path = os.listdir(r\"G:\\PYTHON\\FinalYr_Phase-2\\Cl2\\Non-Chest\")"
   ]
  },
  {
   "cell_type": "code",
   "execution_count": 21,
   "id": "48207eae",
   "metadata": {},
   "outputs": [],
   "source": [
    "normal_abs_path = []\n",
    "for img in normal:\n",
    "    normal_abs_path.append(\"G:\\\\PYTHON\\\\FinalYr_Phase-2\\\\Normal\\\\\"+img)"
   ]
  },
  {
   "cell_type": "code",
   "execution_count": 16,
   "id": "7ea1358a",
   "metadata": {},
   "outputs": [],
   "source": [
    "covid_abs_path = []\n",
    "for img in covid_path:\n",
    "    covid_abs_path.append(\"G:\\\\PYTHON\\\\FinalYr_Phase-2\\\\Cl2\\\\Chest\\\\\"+img)"
   ]
  },
  {
   "cell_type": "code",
   "execution_count": 15,
   "id": "465a352e",
   "metadata": {},
   "outputs": [],
   "source": [
    "non_covid_abs_path = []\n",
    "for img in non_covid_path:\n",
    "    non_covid_abs_path.append(\"G:\\\\PYTHON\\\\FinalYr_Phase-2\\\\Cl2\\\\Non-Chest\\\\\"+img)"
   ]
  },
  {
   "cell_type": "code",
   "execution_count": 17,
   "id": "e5eb8c7d",
   "metadata": {},
   "outputs": [],
   "source": [
    "covid_df = pd.DataFrame(covid_abs_path)\n",
    "non_covid_df = pd.DataFrame(non_covid_abs_path)\n",
    "#normal = pd.DataFrame(normal_abs_path)"
   ]
  },
  {
   "cell_type": "code",
   "execution_count": 18,
   "id": "bdead8ae",
   "metadata": {},
   "outputs": [],
   "source": [
    "#covid\n",
    "covid_df[\"value\"] = 0"
   ]
  },
  {
   "cell_type": "code",
   "execution_count": 19,
   "id": "a2556ecf",
   "metadata": {},
   "outputs": [],
   "source": [
    "#non-covid\n",
    "non_covid_df[\"value\"] = 1"
   ]
  },
  {
   "cell_type": "code",
   "execution_count": 39,
   "id": "7a3a485e",
   "metadata": {},
   "outputs": [],
   "source": [
    "#normal\n",
    "normal[\"value\"] = 2"
   ]
  },
  {
   "cell_type": "code",
   "execution_count": 20,
   "id": "ede64071",
   "metadata": {},
   "outputs": [],
   "source": [
    "Data = pd.concat([covid_df,non_covid_df], ignore_index=True)"
   ]
  },
  {
   "cell_type": "code",
   "execution_count": 21,
   "id": "22da1032",
   "metadata": {},
   "outputs": [
    {
     "data": {
      "text/html": [
       "<div>\n",
       "<style scoped>\n",
       "    .dataframe tbody tr th:only-of-type {\n",
       "        vertical-align: middle;\n",
       "    }\n",
       "\n",
       "    .dataframe tbody tr th {\n",
       "        vertical-align: top;\n",
       "    }\n",
       "\n",
       "    .dataframe thead th {\n",
       "        text-align: right;\n",
       "    }\n",
       "</style>\n",
       "<table border=\"1\" class=\"dataframe\">\n",
       "  <thead>\n",
       "    <tr style=\"text-align: right;\">\n",
       "      <th></th>\n",
       "      <th>0</th>\n",
       "      <th>value</th>\n",
       "    </tr>\n",
       "  </thead>\n",
       "  <tbody>\n",
       "    <tr>\n",
       "      <th>0</th>\n",
       "      <td>G:\\PYTHON\\FinalYr_Phase-2\\Cl2\\Chest\\Chest-0.png</td>\n",
       "      <td>0</td>\n",
       "    </tr>\n",
       "    <tr>\n",
       "      <th>1</th>\n",
       "      <td>G:\\PYTHON\\FinalYr_Phase-2\\Cl2\\Chest\\Chest-1.png</td>\n",
       "      <td>0</td>\n",
       "    </tr>\n",
       "    <tr>\n",
       "      <th>2</th>\n",
       "      <td>G:\\PYTHON\\FinalYr_Phase-2\\Cl2\\Chest\\Chest-10.png</td>\n",
       "      <td>0</td>\n",
       "    </tr>\n",
       "    <tr>\n",
       "      <th>3</th>\n",
       "      <td>G:\\PYTHON\\FinalYr_Phase-2\\Cl2\\Chest\\Chest-100.png</td>\n",
       "      <td>0</td>\n",
       "    </tr>\n",
       "    <tr>\n",
       "      <th>4</th>\n",
       "      <td>G:\\PYTHON\\FinalYr_Phase-2\\Cl2\\Chest\\Chest-101.png</td>\n",
       "      <td>0</td>\n",
       "    </tr>\n",
       "  </tbody>\n",
       "</table>\n",
       "</div>"
      ],
      "text/plain": [
       "                                                   0  value\n",
       "0    G:\\PYTHON\\FinalYr_Phase-2\\Cl2\\Chest\\Chest-0.png      0\n",
       "1    G:\\PYTHON\\FinalYr_Phase-2\\Cl2\\Chest\\Chest-1.png      0\n",
       "2   G:\\PYTHON\\FinalYr_Phase-2\\Cl2\\Chest\\Chest-10.png      0\n",
       "3  G:\\PYTHON\\FinalYr_Phase-2\\Cl2\\Chest\\Chest-100.png      0\n",
       "4  G:\\PYTHON\\FinalYr_Phase-2\\Cl2\\Chest\\Chest-101.png      0"
      ]
     },
     "execution_count": 21,
     "metadata": {},
     "output_type": "execute_result"
    }
   ],
   "source": [
    "Data.head()"
   ]
  },
  {
   "cell_type": "code",
   "execution_count": 22,
   "id": "cad8dd7e",
   "metadata": {},
   "outputs": [],
   "source": [
    "Data.rename(mapper = {0:\"path\"},axis=1, inplace=True)"
   ]
  },
  {
   "cell_type": "code",
   "execution_count": 23,
   "id": "6a6e7011",
   "metadata": {},
   "outputs": [
    {
     "data": {
      "text/plain": [
       "0    120\n",
       "1    100\n",
       "Name: value, dtype: int64"
      ]
     },
     "execution_count": 23,
     "metadata": {},
     "output_type": "execute_result"
    }
   ],
   "source": [
    "Data.value.value_counts()"
   ]
  },
  {
   "cell_type": "code",
   "execution_count": 24,
   "id": "ee025e1b",
   "metadata": {},
   "outputs": [],
   "source": [
    "Data.to_csv(\"Meta_data_1.csv\")"
   ]
  },
  {
   "cell_type": "code",
   "execution_count": null,
   "id": "b716631b",
   "metadata": {},
   "outputs": [],
   "source": []
  },
  {
   "cell_type": "code",
   "execution_count": null,
   "id": "5dce225d",
   "metadata": {},
   "outputs": [],
   "source": []
  },
  {
   "cell_type": "code",
   "execution_count": null,
   "id": "f5b86770",
   "metadata": {},
   "outputs": [],
   "source": []
  },
  {
   "cell_type": "code",
   "execution_count": null,
   "id": "60de4403",
   "metadata": {},
   "outputs": [],
   "source": []
  }
 ],
 "metadata": {
  "kernelspec": {
   "display_name": "you",
   "language": "python",
   "name": "you"
  },
  "language_info": {
   "codemirror_mode": {
    "name": "ipython",
    "version": 3
   },
   "file_extension": ".py",
   "mimetype": "text/x-python",
   "name": "python",
   "nbconvert_exporter": "python",
   "pygments_lexer": "ipython3",
   "version": "3.9.7"
  }
 },
 "nbformat": 4,
 "nbformat_minor": 5
}
