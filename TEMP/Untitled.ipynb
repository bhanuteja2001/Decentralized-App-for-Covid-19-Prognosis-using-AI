{
 "cells": [
  {
   "cell_type": "code",
   "execution_count": null,
   "id": "db8630fe",
   "metadata": {},
   "outputs": [],
   "source": [
    "from keras.models import load_model\n",
    "model = load_model('G:\\PYTHON\\Final_year_project\\Final\\covid_image_data\\covid_image_data\\dense_NET.h5')\n",
    "#model = load_model(\"G:\\\\PYTHON\\\\Final year project\\\\Final\\\\covid_image_data\\\\covid_image_data\\\\dense_NET.h5\")\n",
    "model_2 = load_model(\"G:\\PYTHON\\Final_year_project\\Final\\covid_image_data\\covid_image_data\\inception_v3.h5\")\n",
    "import numpy as np\n",
    "import cv2\n",
    "import matplotlib.pyplot as plt\n"
   ]
  },
  {
   "cell_type": "code",
   "execution_count": 28,
   "id": "8a5e561f",
   "metadata": {},
   "outputs": [],
   "source": [
    "import os"
   ]
  },
  {
   "cell_type": "code",
   "execution_count": 33,
   "id": "4af5d931",
   "metadata": {},
   "outputs": [
    {
     "name": "stdout",
     "output_type": "stream",
     "text": [
      "True\n",
      "[[0.9360951]]\n",
      "[[0.974982]]\n",
      "COVID\n"
     ]
    }
   ],
   "source": [
    "img_covid = 'C:\\\\Users\\Bhanu\\Downloads\\864739.jpg'\n",
    "img_normal = '/content/drive/MyDrive/COVID/test/normal/Normal-4501.png'\n",
    "\n",
    "print(os.path.isfile(img_covid))\n",
    "\n",
    "img_array = cv2.imread(img_covid)\n",
    "#plt.imshow(img_array)\n",
    "#plt.imshow(image)\n",
    "plt.show()\n",
    "\n",
    "#128\n",
    "new_img_array = cv2.resize(img_array, (128, 128))\n",
    "dt = []\n",
    "dt.append(new_img_array)\n",
    "X = np.array(dt)\n",
    "X = X/255\n",
    "val = model.predict(X)\n",
    "print(val)\n",
    "\n",
    "#256\n",
    "new_img_array_2 = cv2.resize(img_array, (224, 224))\n",
    "dt_2 = []\n",
    "dt_2.append(new_img_array_2)\n",
    "X_2 = np.array(dt_2)\n",
    "X_2 = X_2/255\n",
    "val_2 = model_2.predict(X_2)\n",
    "print(val_2)\n",
    "\n",
    "\n",
    "preds = [val, val_2]\n",
    "weights = [0.5,0.5]\n",
    "weighted_preds = np.tensordot(preds, weights, axes=((0),(0)))\n",
    "\n",
    "\n",
    "if weighted_preds > 0.5:\n",
    "    print(\"COVID\")\n",
    "else:\n",
    "    print(\"NORMAL\")"
   ]
  },
  {
   "cell_type": "code",
   "execution_count": null,
   "id": "5c1cafdc",
   "metadata": {},
   "outputs": [],
   "source": []
  }
 ],
 "metadata": {
  "kernelspec": {
   "display_name": "you",
   "language": "python",
   "name": "you"
  },
  "language_info": {
   "codemirror_mode": {
    "name": "ipython",
    "version": 3
   },
   "file_extension": ".py",
   "mimetype": "text/x-python",
   "name": "python",
   "nbconvert_exporter": "python",
   "pygments_lexer": "ipython3",
   "version": "3.9.7"
  }
 },
 "nbformat": 4,
 "nbformat_minor": 5
}
